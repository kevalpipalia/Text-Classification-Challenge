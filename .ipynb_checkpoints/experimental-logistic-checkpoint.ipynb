{
 "cells": [
  {
   "cell_type": "code",
   "execution_count": 2,
   "id": "30e1420e",
   "metadata": {},
   "outputs": [],
   "source": [
    "from utilities.data_loader import load_modeling_data\n",
    "import pandas as pd"
   ]
  },
  {
   "cell_type": "code",
   "execution_count": 3,
   "id": "993106b7",
   "metadata": {},
   "outputs": [],
   "source": [
    "import re\n",
    "import pandas as pd\n",
    "import numpy as np\n",
    "import seaborn as sns\n",
    "import matplotlib.pyplot as plt\n",
    "\n",
    "from time import time\n",
    "\n",
    "\n",
    "from nltk.tokenize import WordPunctTokenizer\n",
    "\n",
    "from sklearn.feature_extraction.text import CountVectorizer\n",
    "from sklearn.model_selection import train_test_split\n",
    "from sklearn.feature_extraction.text import TfidfVectorizer\n",
    "from sklearn import metrics\n",
    "from sklearn.model_selection import StratifiedKFold\n",
    "from sklearn.naive_bayes import MultinomialNB\n",
    "from sklearn.metrics import confusion_matrix\n",
    "from sklearn.linear_model import SGDClassifier\n",
    "from sklearn.metrics import f1_score, fbeta_score, precision_score, recall_score\n",
    "from sklearn import metrics\n",
    "from sklearn.metrics import accuracy_score\n",
    "from sklearn.metrics import classification_report, confusion_matrix\n",
    "from sklearn.metrics import roc_curve\n",
    "from nltk.stem import WordNetLemmatizer \n",
    "from sklearn.linear_model import LogisticRegression\n",
    "from sklearn.svm import LinearSVC\n",
    "from sklearn.pipeline import Pipeline\n",
    "from sklearn.calibration import CalibratedClassifierCV\n",
    "\n",
    "SEED = 15432"
   ]
  },
  {
   "cell_type": "code",
   "execution_count": 4,
   "id": "ae43847d",
   "metadata": {},
   "outputs": [],
   "source": [
    "train_data, train_labels = load_modeling_data()"
   ]
  },
  {
   "cell_type": "code",
   "execution_count": 5,
   "id": "9dc241e0",
   "metadata": {},
   "outputs": [
    {
     "data": {
      "text/plain": [
       "(1040323, 1)"
      ]
     },
     "execution_count": 5,
     "metadata": {},
     "output_type": "execute_result"
    }
   ],
   "source": [
    "train_data.shape"
   ]
  },
  {
   "cell_type": "code",
   "execution_count": 6,
   "id": "41e9bdff",
   "metadata": {},
   "outputs": [],
   "source": [
    "train_data['target']=train_labels['target']"
   ]
  },
  {
   "cell_type": "code",
   "execution_count": 7,
   "id": "73d351a5",
   "metadata": {},
   "outputs": [
    {
     "data": {
      "text/html": [
       "<div>\n",
       "<style scoped>\n",
       "    .dataframe tbody tr th:only-of-type {\n",
       "        vertical-align: middle;\n",
       "    }\n",
       "\n",
       "    .dataframe tbody tr th {\n",
       "        vertical-align: top;\n",
       "    }\n",
       "\n",
       "    .dataframe thead th {\n",
       "        text-align: right;\n",
       "    }\n",
       "</style>\n",
       "<table border=\"1\" class=\"dataframe\">\n",
       "  <thead>\n",
       "    <tr style=\"text-align: right;\">\n",
       "      <th></th>\n",
       "      <th>text</th>\n",
       "      <th>target</th>\n",
       "    </tr>\n",
       "    <tr>\n",
       "      <th>id</th>\n",
       "      <th></th>\n",
       "      <th></th>\n",
       "    </tr>\n",
       "  </thead>\n",
       "  <tbody>\n",
       "    <tr>\n",
       "      <th>0</th>\n",
       "      <td>Anyway Im getting of for a while</td>\n",
       "      <td>positive</td>\n",
       "    </tr>\n",
       "    <tr>\n",
       "      <th>1</th>\n",
       "      <td>My red, Apache isn't feelin too well this morn...</td>\n",
       "      <td>negative</td>\n",
       "    </tr>\n",
       "    <tr>\n",
       "      <th>2</th>\n",
       "      <td>@danyelljoy you should be  its great. friday w...</td>\n",
       "      <td>positive</td>\n",
       "    </tr>\n",
       "    <tr>\n",
       "      <th>3</th>\n",
       "      <td>its 11:30pm and i dont wanna sleep; so i debat...</td>\n",
       "      <td>positive</td>\n",
       "    </tr>\n",
       "    <tr>\n",
       "      <th>4</th>\n",
       "      <td>Why does twitter eat my DM's?  Not happy</td>\n",
       "      <td>negative</td>\n",
       "    </tr>\n",
       "    <tr>\n",
       "      <th>...</th>\n",
       "      <td>...</td>\n",
       "      <td>...</td>\n",
       "    </tr>\n",
       "    <tr>\n",
       "      <th>1040318</th>\n",
       "      <td>getting ready 2 watch mental</td>\n",
       "      <td>positive</td>\n",
       "    </tr>\n",
       "    <tr>\n",
       "      <th>1040319</th>\n",
       "      <td>Wristcutters and Half Nelson are on Sundance F...</td>\n",
       "      <td>negative</td>\n",
       "    </tr>\n",
       "    <tr>\n",
       "      <th>1040320</th>\n",
       "      <td>@t_isfortammy Going out in Northbridge makes m...</td>\n",
       "      <td>negative</td>\n",
       "    </tr>\n",
       "    <tr>\n",
       "      <th>1040321</th>\n",
       "      <td>@iModel_ lol.... Gorgeous...lol! U look sooo m...</td>\n",
       "      <td>positive</td>\n",
       "    </tr>\n",
       "    <tr>\n",
       "      <th>1040322</th>\n",
       "      <td>@iamjonathancook why?</td>\n",
       "      <td>negative</td>\n",
       "    </tr>\n",
       "  </tbody>\n",
       "</table>\n",
       "<p>1040323 rows × 2 columns</p>\n",
       "</div>"
      ],
      "text/plain": [
       "                                                      text    target\n",
       "id                                                                  \n",
       "0                        Anyway Im getting of for a while   positive\n",
       "1        My red, Apache isn't feelin too well this morn...  negative\n",
       "2        @danyelljoy you should be  its great. friday w...  positive\n",
       "3        its 11:30pm and i dont wanna sleep; so i debat...  positive\n",
       "4                Why does twitter eat my DM's?  Not happy   negative\n",
       "...                                                    ...       ...\n",
       "1040318                      getting ready 2 watch mental   positive\n",
       "1040319  Wristcutters and Half Nelson are on Sundance F...  negative\n",
       "1040320  @t_isfortammy Going out in Northbridge makes m...  negative\n",
       "1040321  @iModel_ lol.... Gorgeous...lol! U look sooo m...  positive\n",
       "1040322                             @iamjonathancook why?   negative\n",
       "\n",
       "[1040323 rows x 2 columns]"
      ]
     },
     "execution_count": 7,
     "metadata": {},
     "output_type": "execute_result"
    }
   ],
   "source": [
    "train_data"
   ]
  },
  {
   "cell_type": "code",
   "execution_count": 8,
   "id": "3fce3a8e",
   "metadata": {
    "scrolled": true
   },
   "outputs": [
    {
     "data": {
      "text/html": [
       "<div>\n",
       "<style scoped>\n",
       "    .dataframe tbody tr th:only-of-type {\n",
       "        vertical-align: middle;\n",
       "    }\n",
       "\n",
       "    .dataframe tbody tr th {\n",
       "        vertical-align: top;\n",
       "    }\n",
       "\n",
       "    .dataframe thead th {\n",
       "        text-align: right;\n",
       "    }\n",
       "</style>\n",
       "<table border=\"1\" class=\"dataframe\">\n",
       "  <thead>\n",
       "    <tr style=\"text-align: right;\">\n",
       "      <th></th>\n",
       "      <th>text</th>\n",
       "      <th>target</th>\n",
       "    </tr>\n",
       "    <tr>\n",
       "      <th>id</th>\n",
       "      <th></th>\n",
       "      <th></th>\n",
       "    </tr>\n",
       "  </thead>\n",
       "  <tbody>\n",
       "    <tr>\n",
       "      <th>0</th>\n",
       "      <td>Anyway Im getting of for a while</td>\n",
       "      <td>positive</td>\n",
       "    </tr>\n",
       "    <tr>\n",
       "      <th>1</th>\n",
       "      <td>My red, Apache isn't feelin too well this morn...</td>\n",
       "      <td>negative</td>\n",
       "    </tr>\n",
       "    <tr>\n",
       "      <th>2</th>\n",
       "      <td>@danyelljoy you should be  its great. friday w...</td>\n",
       "      <td>positive</td>\n",
       "    </tr>\n",
       "    <tr>\n",
       "      <th>3</th>\n",
       "      <td>its 11:30pm and i dont wanna sleep; so i debat...</td>\n",
       "      <td>positive</td>\n",
       "    </tr>\n",
       "    <tr>\n",
       "      <th>4</th>\n",
       "      <td>Why does twitter eat my DM's?  Not happy</td>\n",
       "      <td>negative</td>\n",
       "    </tr>\n",
       "    <tr>\n",
       "      <th>...</th>\n",
       "      <td>...</td>\n",
       "      <td>...</td>\n",
       "    </tr>\n",
       "    <tr>\n",
       "      <th>1040318</th>\n",
       "      <td>getting ready 2 watch mental</td>\n",
       "      <td>positive</td>\n",
       "    </tr>\n",
       "    <tr>\n",
       "      <th>1040319</th>\n",
       "      <td>Wristcutters and Half Nelson are on Sundance F...</td>\n",
       "      <td>negative</td>\n",
       "    </tr>\n",
       "    <tr>\n",
       "      <th>1040320</th>\n",
       "      <td>@t_isfortammy Going out in Northbridge makes m...</td>\n",
       "      <td>negative</td>\n",
       "    </tr>\n",
       "    <tr>\n",
       "      <th>1040321</th>\n",
       "      <td>@iModel_ lol.... Gorgeous...lol! U look sooo m...</td>\n",
       "      <td>positive</td>\n",
       "    </tr>\n",
       "    <tr>\n",
       "      <th>1040322</th>\n",
       "      <td>@iamjonathancook why?</td>\n",
       "      <td>negative</td>\n",
       "    </tr>\n",
       "  </tbody>\n",
       "</table>\n",
       "<p>1040323 rows × 2 columns</p>\n",
       "</div>"
      ],
      "text/plain": [
       "                                                      text    target\n",
       "id                                                                  \n",
       "0                        Anyway Im getting of for a while   positive\n",
       "1        My red, Apache isn't feelin too well this morn...  negative\n",
       "2        @danyelljoy you should be  its great. friday w...  positive\n",
       "3        its 11:30pm and i dont wanna sleep; so i debat...  positive\n",
       "4                Why does twitter eat my DM's?  Not happy   negative\n",
       "...                                                    ...       ...\n",
       "1040318                      getting ready 2 watch mental   positive\n",
       "1040319  Wristcutters and Half Nelson are on Sundance F...  negative\n",
       "1040320  @t_isfortammy Going out in Northbridge makes m...  negative\n",
       "1040321  @iModel_ lol.... Gorgeous...lol! U look sooo m...  positive\n",
       "1040322                             @iamjonathancook why?   negative\n",
       "\n",
       "[1040323 rows x 2 columns]"
      ]
     },
     "execution_count": 8,
     "metadata": {},
     "output_type": "execute_result"
    }
   ],
   "source": [
    "train_data"
   ]
  },
  {
   "cell_type": "code",
   "execution_count": 9,
   "id": "98d965c9",
   "metadata": {},
   "outputs": [],
   "source": [
    "import matplotlib.pyplot as plt"
   ]
  },
  {
   "cell_type": "code",
   "execution_count": 10,
   "id": "b1cdffd5",
   "metadata": {},
   "outputs": [],
   "source": [
    "import re"
   ]
  },
  {
   "cell_type": "code",
   "execution_count": 11,
   "id": "658b0445",
   "metadata": {},
   "outputs": [],
   "source": [
    "def replace_exclamations(x):\n",
    "    \"\"\" Replaces multiple exclamation marks by the word exclamationMark \"\"\"\n",
    "    x = re.sub('(\\! )+(?=(\\!))', '', x)\n",
    "    x = re.sub(r\"(\\!)+\", ' exclamationMark ', x)\n",
    "    return x\n",
    "\n",
    "def replace_points(x):\n",
    "    \"\"\" Replaces multiple points by the word multiplePoints \"\"\"\n",
    "    x = re.sub('(\\. )+(?=(\\.))', '', x)\n",
    "    x = re.sub(r\"(\\.)+\", ' multistop ', x)\n",
    "    return x\n",
    "\n",
    "\n",
    "def replace_questions(x):\n",
    "    \"\"\" Replaces multiple question marks by the word questionMark \"\"\"\n",
    "    x = re.sub('(\\? )+(?=(\\?))', '', x)\n",
    "    x = re.sub(r\"(\\?)+\", ' questionMark ', x)\n",
    "    return x\n",
    "\n",
    "def tokenization(text):\n",
    "    text = re.split('\\W+', text)\n",
    "    return text\n",
    "\n",
    "def lemmatizer(l,text):\n",
    "    text = [l.lemmatize(word) for word in text]\n",
    "    return text\n",
    "\n",
    "def join_tokens(tokens):\n",
    "    text = ' '.join(tokens)\n",
    "    return text\n",
    "def translate_emojis(x):\n",
    "    \"\"\" Replace emojis into meaningful words \"\"\"\n",
    "    \n",
    "    x = re.sub(' [:,=,8,;]( )*([\\',\\\"])*( )*(-)*( )*[\\),\\],},D,>,3,d] ', ' happy ', x) #:) :D :} :] :> :') :'D :-D :-)\n",
    "    x = re.sub(' [\\(,\\[,{,<]( )*([\\',\\\"])*( )*[:,=,8,;] ', ' happy ', x) #inverted happy \n",
    "    x = re.sub(' [X,x]( )*D ', ' funny ', x) #XD xD\n",
    "    x = re.sub(' ^( )*[.,~]( )*^ ', ' happy ', x) #^.^  ^ ~ ^  \n",
    "    x = re.sub(' ^( )*(_)+( )*^ ', ' happy ', x) #^__^\n",
    "    \n",
    "    x = re.sub(' [:,=,8,;]( )*([\\',\\\"])*( )*(-)*( )*[\\(,\\[,{,<] ', ' sad ', x) #:( :{ :[ :< :'(\n",
    "    x = re.sub(' [\\),\\],},D,>,d]( )*(-)*( )*([\\',\\\"])*( )*[:,=,8,;] ', ' sad ', x) #inverted sad\n",
    "    x = re.sub(' >( )*.( )*< ', ' sad ', x) #>.<\n",
    "    x = re.sub(' <( )*[ \\/,\\\\ ]( )*3 ', ' sad ', x) #3\n",
    "    \n",
    "    x = re.sub(' [:,=,8]( )*(-)*( )*p ', ' silly ', x) #:p :-p\n",
    "    x = re.sub(' q( )*(-)*( )*[:,=,8] ', ' silly ', x) #silly inverted\n",
    "    \n",
    "    x = re.sub(' [:,=,8]( )*$ ', ' confused ', x) #=$ 8$\n",
    "    x = re.sub(' [:,=,8]( )*@ ', ' mad ', x) #:@\n",
    "    x = re.sub(' [:,=,8]( )*(-)*( )*[\\/,\\\\,|] ', ' confused ', x) #:/ :\\\n",
    "    x = re.sub(' [\\/,\\\\,|]( )*(-)*( )*[:,=,8] ', ' confused ', x) #confused inverted\n",
    "    \n",
    "    x = re.sub(' [:,=,8,;]( )*(-)*( )*[o,0] ', ' surprised ', x) #:o :-O\n",
    "    \n",
    "    x = re.sub(' [x,X]+ ', ' kiss ', x) #xXxX\n",
    "    x = re.sub(' ([x,X][o,O]){2,} ', ' kiss ', x) #xoxo\n",
    "    x = re.sub(' [:,=,8,;]( )*\\* ', ' kiss ', x) #:* =*\n",
    "    x = re.sub(' <( )*3 ', ' love ', x) #<3\n",
    "    \n",
    "    x = re.sub('#', ' hashtag ', x) #hashtag\n",
    "    x = re.sub('&', ' and ', x) #&\n",
    "    x = re.sub(' \\(( )*y( )*\\) ', ' yes ', x) #(y)\n",
    "    x = re.sub(' w( )*/ ', ' without ', x) #w/\n",
    "    \n",
    "    x = re.sub(' ([h,j][a,e,i,o]){2,} ', ' haha ', x) #hahah\n",
    "    x = re.sub(' (a*ha+h[ha]*|h*ah+a[ah]*|o?l+o+l+[ol]*) ', ' haha ', x) #hhaha,aahha,lool\n",
    "    x = re.sub(' (i*hi+h[hi]*|h*ih+i[ih]*|h*oh+o[oh]*|h*eh+e[eh]*) ', ' haha ', x) #hihi, hoho, hehe\n",
    "    return x\n",
    "def split_negation(text):\n",
    "    negations_dict = {\"isn't\":\"is not\", \"aren't\":\"are not\", \"wasn't\":\"was not\", \"weren't\":\"were not\",\n",
    "                    \"haven't\":\"have not\",\"hasn't\":\"has not\",\"hadn't\":\"had not\",\"won't\":\"will not\",\n",
    "                    \"wouldn't\":\"would not\", \"don't\":\"do not\", \"doesn't\":\"does not\",\"didn't\":\"did not\",\n",
    "                    \"can't\":\"can not\",\"couldn't\":\"could not\",\"shouldn't\":\"should not\",\"mightn't\":\"might not\",\n",
    "                    \"mustn't\":\"must not\",\"ain't\":\"is not\"}\n",
    "    neg_pattern = re.compile(r'\\b(' + '|'.join(negations_dict.keys()) + r')\\b')\n",
    "    text = neg_pattern.sub(lambda x: negations_dict[x.group()], text)\n",
    "    return text\n",
    "\n",
    "def replace_contractions(text):\n",
    "    contractions_dict = {\"i'm\":\"i am\", \"wanna\":\"want to\", \"whi\":\"why\", \"gonna\":\"going to\",\n",
    "                    \"wa\":\"was\",\"nite\":\"night\",\"there's\":\"there is\",\"that's\":\"that is\",\n",
    "                    \"ladi\":\"lady\", \"fav\":\"favorite\", \"becaus\":\"because\",\"i\\'ts\":\"it is\",\n",
    "                    \"dammit\":\"damn it\", \"coz\":\"because\", \"ya\":\"you\", \"dunno\": \"do not know\",\n",
    "                    \"donno\":\"do not know\",\"donnow\":\"do not know\",\"gimme\":\"give me\"}\n",
    "    contraction_pattern = re.compile(r'\\b(' + '|'.join(contractions_dict.keys()) + r')\\b')\n",
    "    text = contraction_pattern.sub(lambda x: contractions_dict[x.group()], text)\n",
    "    \n",
    "    contraction_patterns = [(r'ew(\\w+)', 'disgusting'),(r'argh(\\w+)', 'argh'),(r'fack(\\w+)', 'fuck'),\n",
    "                            (r'sigh(\\w+)', 'sigh'),(r'fuck(\\w+)', 'fuck'),(r'omg(\\w+)', 'omg'),\n",
    "                            (r'oh my god(\\w+)', 'omg'),(r'(\\w+)n\\'', '\\g<1>ng'),(r'(\\w+)n \\'', '\\g<1>ng'),\n",
    "                            (r'(\\w+)\\'ll', '\\g<1> will'),(r'(\\w+)\\'ve', '\\g<1> have'),(r'(\\w+)\\'s', '\\g<1> is'),\n",
    "                            (r'(\\w+)\\'re', '\\g<1> are'),(r'(\\w+)\\'d', '\\g<1> would'),(r'&', 'and'),\n",
    "                            ('y+a+y+', 'yay'),('y+[e,a]+s+', 'yes'),('n+o+', 'no'),('a+h+','ah'),('m+u+a+h+','kiss'),\n",
    "                            (' y+u+p+ ', ' yes '),(' y+e+p+ ', ' yes '),(' idk ',' i do not know '),(' ima ', ' i am going to '),\n",
    "                            (' nd ',' and '),(' dem ',' them '),(' n+a+h+ ', ' no '),(' n+a+ ', ' no '),(' w+o+w+', 'wow '),\n",
    "                            (' w+o+a+ ', ' wow '),(' w+o+ ', ' wow '),(' a+w+ ', ' cute '), (' lmao ', ' haha '),(' gad ', ' god ')]\n",
    "    patterns = [(re.compile(regex_exp, re.IGNORECASE), replacement)\n",
    "                for (regex_exp, replacement) in contraction_patterns]\n",
    "    for (pattern, replacement) in patterns:\n",
    "        (text, _) = re.subn(pattern, replacement, text)\n",
    "    return text"
   ]
  },
  {
   "cell_type": "code",
   "execution_count": 12,
   "id": "1ec807eb",
   "metadata": {},
   "outputs": [],
   "source": [
    "def tweet_cleaner(tweet):\n",
    "    #Add trailing and leading whitespaces for the sake of preprocessing\n",
    "    tweet = ' '+tweet+' '\n",
    "    #translate emojis\n",
    "    tweet = translate_emojis(tweet)\n",
    "    #lowercase tweet\n",
    "    tweet = tweet.lower()\n",
    "    #seperate negation words\n",
    "    tweet = split_negation(tweet)\n",
    "    #seperate punctuation from words\n",
    "    tweet = re.sub(r\"([\\w/'+$\\s-]+|[^\\w/'+$\\s-]+)\\s*\", r\"\\1 \", tweet)\n",
    "    #remove the observed pattern of numbers seen above\n",
    "    tweet = re.sub(r'\\\\ [0-9]+ ', '', tweet)\n",
    "    #replace ?,!,. by words\n",
    "    tweet = replace_exclamations(tweet)\n",
    "    tweet = replace_questions(tweet)\n",
    "    tweet = replace_points(tweet)\n",
    "    \n",
    "    #Now since we translated punctuation and emojis and negative words we can remove the rest of the 'unwanted' chars\n",
    "    #remove unwanted punctuation\n",
    "    tweet = re.sub(\"[^a-zA-Z]\", \" \", tweet)\n",
    "    \n",
    "    #remove trailing and leading whitespace\n",
    "    tweet = tweet.strip() \n",
    "    #remove multiple consecutive whitespaces\n",
    "    tweet = re.sub(' +', ' ',tweet) \n",
    "    \n",
    "    #Lemmatization\n",
    "    l = WordNetLemmatizer() \n",
    "    tweet = tokenization(tweet)\n",
    "    tweet = join_tokens(lemmatizer(l,tweet))\n",
    "    return tweet"
   ]
  },
  {
   "cell_type": "code",
   "execution_count": 13,
   "id": "24ee31b0",
   "metadata": {},
   "outputs": [],
   "source": [
    "train_data['text'] = train_data['text'].apply(tweet_cleaner)\n"
   ]
  },
  {
   "cell_type": "code",
   "execution_count": 14,
   "id": "c018a6e6",
   "metadata": {},
   "outputs": [],
   "source": [
    "train_data.to_csv(\"./data/train_cleaned.csv\")"
   ]
  },
  {
   "cell_type": "code",
   "execution_count": 15,
   "id": "56dc9d34",
   "metadata": {},
   "outputs": [],
   "source": [
    "train_set = pd.read_csv(\"./data/train_cleaned.csv\", index_col=0)"
   ]
  },
  {
   "cell_type": "code",
   "execution_count": 16,
   "id": "b952e536",
   "metadata": {},
   "outputs": [
    {
     "data": {
      "text/html": [
       "<div>\n",
       "<style scoped>\n",
       "    .dataframe tbody tr th:only-of-type {\n",
       "        vertical-align: middle;\n",
       "    }\n",
       "\n",
       "    .dataframe tbody tr th {\n",
       "        vertical-align: top;\n",
       "    }\n",
       "\n",
       "    .dataframe thead th {\n",
       "        text-align: right;\n",
       "    }\n",
       "</style>\n",
       "<table border=\"1\" class=\"dataframe\">\n",
       "  <thead>\n",
       "    <tr style=\"text-align: right;\">\n",
       "      <th></th>\n",
       "      <th>text</th>\n",
       "      <th>target</th>\n",
       "    </tr>\n",
       "    <tr>\n",
       "      <th>id</th>\n",
       "      <th></th>\n",
       "      <th></th>\n",
       "    </tr>\n",
       "  </thead>\n",
       "  <tbody>\n",
       "    <tr>\n",
       "      <th>0</th>\n",
       "      <td>anyway im getting of for a while</td>\n",
       "      <td>positive</td>\n",
       "    </tr>\n",
       "    <tr>\n",
       "      <th>1</th>\n",
       "      <td>my red apache is not feelin too well this morn...</td>\n",
       "      <td>negative</td>\n",
       "    </tr>\n",
       "    <tr>\n",
       "      <th>2</th>\n",
       "      <td>danyelljoy you should be it great multistop fr...</td>\n",
       "      <td>positive</td>\n",
       "    </tr>\n",
       "    <tr>\n",
       "      <th>3</th>\n",
       "      <td>it pm and i dont wanna sleep so i debated with...</td>\n",
       "      <td>positive</td>\n",
       "    </tr>\n",
       "    <tr>\n",
       "      <th>4</th>\n",
       "      <td>why doe twitter eat my dm s questionMark not h...</td>\n",
       "      <td>negative</td>\n",
       "    </tr>\n",
       "    <tr>\n",
       "      <th>...</th>\n",
       "      <td>...</td>\n",
       "      <td>...</td>\n",
       "    </tr>\n",
       "    <tr>\n",
       "      <th>1040318</th>\n",
       "      <td>getting ready watch mental</td>\n",
       "      <td>positive</td>\n",
       "    </tr>\n",
       "    <tr>\n",
       "      <th>1040319</th>\n",
       "      <td>wristcutters and half nelson are on sundance f...</td>\n",
       "      <td>negative</td>\n",
       "    </tr>\n",
       "    <tr>\n",
       "      <th>1040320</th>\n",
       "      <td>t isfortammy going out in northbridge make me ...</td>\n",
       "      <td>negative</td>\n",
       "    </tr>\n",
       "    <tr>\n",
       "      <th>1040321</th>\n",
       "      <td>imodel lol multistop gorgeous multistop lol ex...</td>\n",
       "      <td>positive</td>\n",
       "    </tr>\n",
       "    <tr>\n",
       "      <th>1040322</th>\n",
       "      <td>iamjonathancook why questionMark</td>\n",
       "      <td>negative</td>\n",
       "    </tr>\n",
       "  </tbody>\n",
       "</table>\n",
       "<p>1040323 rows × 2 columns</p>\n",
       "</div>"
      ],
      "text/plain": [
       "                                                      text    target\n",
       "id                                                                  \n",
       "0                         anyway im getting of for a while  positive\n",
       "1        my red apache is not feelin too well this morn...  negative\n",
       "2        danyelljoy you should be it great multistop fr...  positive\n",
       "3        it pm and i dont wanna sleep so i debated with...  positive\n",
       "4        why doe twitter eat my dm s questionMark not h...  negative\n",
       "...                                                    ...       ...\n",
       "1040318                         getting ready watch mental  positive\n",
       "1040319  wristcutters and half nelson are on sundance f...  negative\n",
       "1040320  t isfortammy going out in northbridge make me ...  negative\n",
       "1040321  imodel lol multistop gorgeous multistop lol ex...  positive\n",
       "1040322                   iamjonathancook why questionMark  negative\n",
       "\n",
       "[1040323 rows x 2 columns]"
      ]
     },
     "execution_count": 16,
     "metadata": {},
     "output_type": "execute_result"
    }
   ],
   "source": [
    "train_set"
   ]
  },
  {
   "cell_type": "code",
   "execution_count": 17,
   "id": "8cd93c93",
   "metadata": {},
   "outputs": [],
   "source": [
    "x_train, x_validation, y_train, y_validation = train_test_split(train_set['text'], train_set['target'], test_size=.2, random_state=SEED)"
   ]
  },
  {
   "cell_type": "code",
   "execution_count": null,
   "id": "c96ab5dc",
   "metadata": {},
   "outputs": [],
   "source": []
  },
  {
   "cell_type": "code",
   "execution_count": 18,
   "id": "a51ea541",
   "metadata": {},
   "outputs": [],
   "source": [
    "def replacer(text):\n",
    "    if text=='positive':\n",
    "        text = 2\n",
    "    elif text=='negative':\n",
    "        text=0\n",
    "    else:\n",
    "        text=1\n",
    "    return text"
   ]
  },
  {
   "cell_type": "code",
   "execution_count": 19,
   "id": "2d47402d",
   "metadata": {},
   "outputs": [],
   "source": [
    "y_train = y_train.apply(replacer)\n",
    "y_validation = y_validation.apply(replacer)"
   ]
  },
  {
   "cell_type": "code",
   "execution_count": 20,
   "id": "0d11a6b8",
   "metadata": {},
   "outputs": [
    {
     "name": "stdout",
     "output_type": "stream",
     "text": [
      "Train set has total 832258 entries with 49.94% negative, 0.01% neutral and 50.05% positive\n",
      "Validation set has total 208065 entries with 50.06% negative, 0.01% neutral and 49.94% positve\n"
     ]
    }
   ],
   "source": [
    "print(\"Train set has total {0} entries with {1:.2f}% negative, {2:.2f}% neutral and {3:.2f}% positive\".format(len(x_train),\n",
    "                                                                             (len(x_train[y_train == 0]) / (len(x_train)*1.))*100,\n",
    "                                                                            (len(x_train[y_train == 1]) / (len(x_train)*1.))*100,\n",
    "                                                                            (len(x_train[y_train == 2]) / (len(x_train)*1.))*100))\n",
    "\n",
    "print( \"Validation set has total {0} entries with {1:.2f}% negative, {2:.2f}% neutral and {3:.2f}% positve\".format(len(x_validation),\n",
    "                                                                             (len(x_validation[y_validation == 0]) / (len(x_validation)*1.))*100,\n",
    "                                                                            (len(x_validation[y_validation == 1]) / (len(x_validation)*1.))*100,\n",
    "                                                                            (len(x_validation[y_validation == 2]) / (len(x_validation)*1.))*100))\n",
    "                                                                            "
   ]
  },
  {
   "cell_type": "code",
   "execution_count": 21,
   "id": "69650cd5",
   "metadata": {},
   "outputs": [
    {
     "name": "stderr",
     "output_type": "stream",
     "text": [
      "/opt/miniconda3/envs/ift6758-conda-env/lib/python3.10/site-packages/sklearn/utils/deprecation.py:87: FutureWarning: Function get_feature_names is deprecated; get_feature_names is deprecated in 1.0 and will be removed in 1.2. Please use get_feature_names_out instead.\n",
      "  warnings.warn(msg, category=FutureWarning)\n"
     ]
    },
    {
     "name": "stdout",
     "output_type": "stream",
     "text": [
      "Overall number of different words 80000\n",
      "Our model's accuracy is 0.7942950520270108\n"
     ]
    }
   ],
   "source": [
    "count_vect = CountVectorizer(max_features=80000,ngram_range=(1, 3))\n",
    "x_train_counts = count_vect.fit_transform(x_train)\n",
    "print('Overall number of different words',len(count_vect.get_feature_names()))\n",
    "x_validation_counts = count_vect.transform(x_validation)\n",
    "clf = MultinomialNB().fit(x_train_counts, y_train)\n",
    "y_predicted = clf.predict(x_validation_counts)\n",
    "y_prob_predicted = clf.predict_proba(x_validation_counts)\n",
    "print(f'Our model\\'s accuracy is {metrics.accuracy_score(y_validation, y_predicted)}')"
   ]
  },
  {
   "cell_type": "code",
   "execution_count": 22,
   "id": "4d4ef4ac",
   "metadata": {},
   "outputs": [
    {
     "name": "stdout",
     "output_type": "stream",
     "text": [
      "Overall number of different words 80000\n"
     ]
    }
   ],
   "source": [
    "tfidf_transformer = TfidfVectorizer(max_features=80000,ngram_range=(1, 3))\n",
    "x_train_tfidf = tfidf_transformer.fit_transform(x_train)\n",
    "print('Overall number of different words',x_train_tfidf.shape[1])\n",
    "x_validation_tfidf = tfidf_transformer.transform(x_validation)"
   ]
  },
  {
   "cell_type": "code",
   "execution_count": 23,
   "id": "df54c86a",
   "metadata": {},
   "outputs": [
    {
     "name": "stdout",
     "output_type": "stream",
     "text": [
      "Our model's accuracy is 0.7980150433758681\n"
     ]
    }
   ],
   "source": [
    "clf = MultinomialNB().fit(x_train_tfidf, y_train)\n",
    "\n",
    "y_predicted = clf.predict(x_validation_tfidf)\n",
    "y_prob_predicted = clf.predict_proba(x_validation_tfidf)\n",
    "print(f'Our model\\'s accuracy is {metrics.accuracy_score(y_validation, y_predicted)}')"
   ]
  },
  {
   "cell_type": "code",
   "execution_count": 24,
   "id": "f40e1840",
   "metadata": {},
   "outputs": [
    {
     "name": "stdout",
     "output_type": "stream",
     "text": [
      "Our model's accuracy is 0.8077235479297334\n"
     ]
    }
   ],
   "source": [
    "clf = SGDClassifier(tol=1e-3, loss='modified_huber').fit(x_train_tfidf, y_train)\n",
    "\n",
    "y_predicted = clf.predict(x_validation_tfidf)\n",
    "y_prob_predicted = clf.predict_proba(x_validation_tfidf)\n",
    "print(f'Our model\\'s accuracy is {metrics.accuracy_score(y_validation, y_predicted)}')"
   ]
  },
  {
   "cell_type": "code",
   "execution_count": 25,
   "id": "661dea85",
   "metadata": {},
   "outputs": [
    {
     "name": "stdout",
     "output_type": "stream",
     "text": [
      "Our model's accuracy is 0.8168456972580684\n"
     ]
    }
   ],
   "source": [
    "clf = CalibratedClassifierCV(base_estimator=LinearSVC(penalty='l2', dual=False), cv=3).fit(x_train_tfidf, y_train)\n",
    "\n",
    "y_predicted = clf.predict(x_validation_tfidf)\n",
    "y_prob_predicted = clf.predict_proba(x_validation_tfidf)\n",
    "print(f'Our model\\'s accuracy is {metrics.accuracy_score(y_validation, y_predicted)}')\n"
   ]
  },
  {
   "cell_type": "code",
   "execution_count": 26,
   "id": "c530c0c0",
   "metadata": {},
   "outputs": [
    {
     "name": "stdout",
     "output_type": "stream",
     "text": [
      "Our model's accuracy is 0.8205512700358061\n"
     ]
    },
    {
     "name": "stderr",
     "output_type": "stream",
     "text": [
      "/opt/miniconda3/envs/ift6758-conda-env/lib/python3.10/site-packages/sklearn/linear_model/_logistic.py:444: ConvergenceWarning: lbfgs failed to converge (status=1):\n",
      "STOP: TOTAL NO. of ITERATIONS REACHED LIMIT.\n",
      "\n",
      "Increase the number of iterations (max_iter) or scale the data as shown in:\n",
      "    https://scikit-learn.org/stable/modules/preprocessing.html\n",
      "Please also refer to the documentation for alternative solver options:\n",
      "    https://scikit-learn.org/stable/modules/linear_model.html#logistic-regression\n",
      "  n_iter_i = _check_optimize_result(\n"
     ]
    }
   ],
   "source": [
    "clf = LogisticRegression().fit(x_train_tfidf, y_train)\n",
    "\n",
    "y_predicted = clf.predict(x_validation_tfidf)\n",
    "y_prob_predicted = clf.predict_proba(x_validation_tfidf)\n",
    "print(f'Our model\\'s accuracy is {metrics.accuracy_score(y_validation, y_predicted)}')"
   ]
  },
  {
   "cell_type": "code",
   "execution_count": 90,
   "id": "052ef359",
   "metadata": {},
   "outputs": [],
   "source": [
    "test_data = pd.read_csv('data/test_data.csv', index_col=0)"
   ]
  },
  {
   "cell_type": "code",
   "execution_count": 91,
   "id": "bb0b246c",
   "metadata": {},
   "outputs": [
    {
     "data": {
      "text/html": [
       "<div>\n",
       "<style scoped>\n",
       "    .dataframe tbody tr th:only-of-type {\n",
       "        vertical-align: middle;\n",
       "    }\n",
       "\n",
       "    .dataframe tbody tr th {\n",
       "        vertical-align: top;\n",
       "    }\n",
       "\n",
       "    .dataframe thead th {\n",
       "        text-align: right;\n",
       "    }\n",
       "</style>\n",
       "<table border=\"1\" class=\"dataframe\">\n",
       "  <thead>\n",
       "    <tr style=\"text-align: right;\">\n",
       "      <th></th>\n",
       "      <th>text</th>\n",
       "    </tr>\n",
       "    <tr>\n",
       "      <th>id</th>\n",
       "      <th></th>\n",
       "    </tr>\n",
       "  </thead>\n",
       "  <tbody>\n",
       "    <tr>\n",
       "      <th>0</th>\n",
       "      <td>so cut... missed out on all the TCE EXTREME ME...</td>\n",
       "    </tr>\n",
       "    <tr>\n",
       "      <th>1</th>\n",
       "      <td>Thank you very much Wasin  this is awesome lol</td>\n",
       "    </tr>\n",
       "    <tr>\n",
       "      <th>2</th>\n",
       "      <td>Squeezing in some internet time before Dustin ...</td>\n",
       "    </tr>\n",
       "    <tr>\n",
       "      <th>3</th>\n",
       "      <td>@fanoou; Oh i do have moral but i'm gonna be b...</td>\n",
       "    </tr>\n",
       "    <tr>\n",
       "      <th>4</th>\n",
       "      <td>@NSuissa   I just bought Sammy some joint/hip ...</td>\n",
       "    </tr>\n",
       "    <tr>\n",
       "      <th>...</th>\n",
       "      <td>...</td>\n",
       "    </tr>\n",
       "    <tr>\n",
       "      <th>560170</th>\n",
       "      <td>@meganintime So is mine and I've only got abou...</td>\n",
       "    </tr>\n",
       "    <tr>\n",
       "      <th>560171</th>\n",
       "      <td>@FairyForest Thanks cutie ) Wishing u a wonder...</td>\n",
       "    </tr>\n",
       "    <tr>\n",
       "      <th>560172</th>\n",
       "      <td>ok know i just got home my family just drop me...</td>\n",
       "    </tr>\n",
       "    <tr>\n",
       "      <th>560173</th>\n",
       "      <td>long run status: complete. Now time for church...</td>\n",
       "    </tr>\n",
       "    <tr>\n",
       "      <th>560174</th>\n",
       "      <td>@textualoffender Doestovesky yes,remaining 3 w...</td>\n",
       "    </tr>\n",
       "  </tbody>\n",
       "</table>\n",
       "<p>560175 rows × 1 columns</p>\n",
       "</div>"
      ],
      "text/plain": [
       "                                                     text\n",
       "id                                                       \n",
       "0       so cut... missed out on all the TCE EXTREME ME...\n",
       "1          Thank you very much Wasin  this is awesome lol\n",
       "2       Squeezing in some internet time before Dustin ...\n",
       "3       @fanoou; Oh i do have moral but i'm gonna be b...\n",
       "4       @NSuissa   I just bought Sammy some joint/hip ...\n",
       "...                                                   ...\n",
       "560170  @meganintime So is mine and I've only got abou...\n",
       "560171  @FairyForest Thanks cutie ) Wishing u a wonder...\n",
       "560172  ok know i just got home my family just drop me...\n",
       "560173  long run status: complete. Now time for church...\n",
       "560174  @textualoffender Doestovesky yes,remaining 3 w...\n",
       "\n",
       "[560175 rows x 1 columns]"
      ]
     },
     "execution_count": 91,
     "metadata": {},
     "output_type": "execute_result"
    }
   ],
   "source": [
    "test_data"
   ]
  },
  {
   "cell_type": "code",
   "execution_count": 92,
   "id": "c607ef74",
   "metadata": {},
   "outputs": [],
   "source": [
    "test_data['text'] = test_data['text'].apply(tweet_cleaner)\n",
    "test_data.to_csv('data/cleaned_test.csv')"
   ]
  },
  {
   "cell_type": "code",
   "execution_count": null,
   "id": "a53c2ea8",
   "metadata": {},
   "outputs": [],
   "source": []
  },
  {
   "cell_type": "code",
   "execution_count": 109,
   "id": "67c317dd",
   "metadata": {},
   "outputs": [],
   "source": [
    "x_train = pd.read_csv('data/train_data.csv', index_col=0)"
   ]
  },
  {
   "cell_type": "code",
   "execution_count": 110,
   "id": "6bbf13d8",
   "metadata": {},
   "outputs": [],
   "source": [
    "y_train = pd.read_csv('data/train_results.csv', index_col=0)"
   ]
  },
  {
   "cell_type": "code",
   "execution_count": 111,
   "id": "af52eaa8",
   "metadata": {},
   "outputs": [],
   "source": [
    "y_train['target'] = y_train['target'].apply(replacer)"
   ]
  },
  {
   "cell_type": "code",
   "execution_count": 112,
   "id": "807c12f3",
   "metadata": {},
   "outputs": [],
   "source": [
    "x_train['text'] = x_train['text'].apply(tweet_cleaner)"
   ]
  },
  {
   "cell_type": "code",
   "execution_count": 113,
   "id": "42272a71",
   "metadata": {},
   "outputs": [
    {
     "data": {
      "text/html": [
       "<div>\n",
       "<style scoped>\n",
       "    .dataframe tbody tr th:only-of-type {\n",
       "        vertical-align: middle;\n",
       "    }\n",
       "\n",
       "    .dataframe tbody tr th {\n",
       "        vertical-align: top;\n",
       "    }\n",
       "\n",
       "    .dataframe thead th {\n",
       "        text-align: right;\n",
       "    }\n",
       "</style>\n",
       "<table border=\"1\" class=\"dataframe\">\n",
       "  <thead>\n",
       "    <tr style=\"text-align: right;\">\n",
       "      <th></th>\n",
       "      <th>text</th>\n",
       "    </tr>\n",
       "    <tr>\n",
       "      <th>id</th>\n",
       "      <th></th>\n",
       "    </tr>\n",
       "  </thead>\n",
       "  <tbody>\n",
       "    <tr>\n",
       "      <th>0</th>\n",
       "      <td>anyway im getting of for a while</td>\n",
       "    </tr>\n",
       "    <tr>\n",
       "      <th>1</th>\n",
       "      <td>my red apache is not feelin too well this morn...</td>\n",
       "    </tr>\n",
       "    <tr>\n",
       "      <th>2</th>\n",
       "      <td>danyelljoy you should be it great multistop fr...</td>\n",
       "    </tr>\n",
       "    <tr>\n",
       "      <th>3</th>\n",
       "      <td>it pm and i dont wanna sleep so i debated with...</td>\n",
       "    </tr>\n",
       "    <tr>\n",
       "      <th>4</th>\n",
       "      <td>why doe twitter eat my dm s questionMark not h...</td>\n",
       "    </tr>\n",
       "    <tr>\n",
       "      <th>...</th>\n",
       "      <td>...</td>\n",
       "    </tr>\n",
       "    <tr>\n",
       "      <th>1040318</th>\n",
       "      <td>getting ready watch mental</td>\n",
       "    </tr>\n",
       "    <tr>\n",
       "      <th>1040319</th>\n",
       "      <td>wristcutters and half nelson are on sundance f...</td>\n",
       "    </tr>\n",
       "    <tr>\n",
       "      <th>1040320</th>\n",
       "      <td>t isfortammy going out in northbridge make me ...</td>\n",
       "    </tr>\n",
       "    <tr>\n",
       "      <th>1040321</th>\n",
       "      <td>imodel lol multistop gorgeous multistop lol ex...</td>\n",
       "    </tr>\n",
       "    <tr>\n",
       "      <th>1040322</th>\n",
       "      <td>iamjonathancook why questionMark</td>\n",
       "    </tr>\n",
       "  </tbody>\n",
       "</table>\n",
       "<p>1040323 rows × 1 columns</p>\n",
       "</div>"
      ],
      "text/plain": [
       "                                                      text\n",
       "id                                                        \n",
       "0                         anyway im getting of for a while\n",
       "1        my red apache is not feelin too well this morn...\n",
       "2        danyelljoy you should be it great multistop fr...\n",
       "3        it pm and i dont wanna sleep so i debated with...\n",
       "4        why doe twitter eat my dm s questionMark not h...\n",
       "...                                                    ...\n",
       "1040318                         getting ready watch mental\n",
       "1040319  wristcutters and half nelson are on sundance f...\n",
       "1040320  t isfortammy going out in northbridge make me ...\n",
       "1040321  imodel lol multistop gorgeous multistop lol ex...\n",
       "1040322                   iamjonathancook why questionMark\n",
       "\n",
       "[1040323 rows x 1 columns]"
      ]
     },
     "execution_count": 113,
     "metadata": {},
     "output_type": "execute_result"
    }
   ],
   "source": [
    "x_train"
   ]
  },
  {
   "cell_type": "code",
   "execution_count": 114,
   "id": "6ee956d7",
   "metadata": {},
   "outputs": [
    {
     "data": {
      "text/html": [
       "<div>\n",
       "<style scoped>\n",
       "    .dataframe tbody tr th:only-of-type {\n",
       "        vertical-align: middle;\n",
       "    }\n",
       "\n",
       "    .dataframe tbody tr th {\n",
       "        vertical-align: top;\n",
       "    }\n",
       "\n",
       "    .dataframe thead th {\n",
       "        text-align: right;\n",
       "    }\n",
       "</style>\n",
       "<table border=\"1\" class=\"dataframe\">\n",
       "  <thead>\n",
       "    <tr style=\"text-align: right;\">\n",
       "      <th></th>\n",
       "      <th>target</th>\n",
       "    </tr>\n",
       "    <tr>\n",
       "      <th>id</th>\n",
       "      <th></th>\n",
       "    </tr>\n",
       "  </thead>\n",
       "  <tbody>\n",
       "    <tr>\n",
       "      <th>0</th>\n",
       "      <td>2</td>\n",
       "    </tr>\n",
       "    <tr>\n",
       "      <th>1</th>\n",
       "      <td>0</td>\n",
       "    </tr>\n",
       "    <tr>\n",
       "      <th>2</th>\n",
       "      <td>2</td>\n",
       "    </tr>\n",
       "    <tr>\n",
       "      <th>3</th>\n",
       "      <td>2</td>\n",
       "    </tr>\n",
       "    <tr>\n",
       "      <th>4</th>\n",
       "      <td>0</td>\n",
       "    </tr>\n",
       "    <tr>\n",
       "      <th>...</th>\n",
       "      <td>...</td>\n",
       "    </tr>\n",
       "    <tr>\n",
       "      <th>1040318</th>\n",
       "      <td>2</td>\n",
       "    </tr>\n",
       "    <tr>\n",
       "      <th>1040319</th>\n",
       "      <td>0</td>\n",
       "    </tr>\n",
       "    <tr>\n",
       "      <th>1040320</th>\n",
       "      <td>0</td>\n",
       "    </tr>\n",
       "    <tr>\n",
       "      <th>1040321</th>\n",
       "      <td>2</td>\n",
       "    </tr>\n",
       "    <tr>\n",
       "      <th>1040322</th>\n",
       "      <td>0</td>\n",
       "    </tr>\n",
       "  </tbody>\n",
       "</table>\n",
       "<p>1040323 rows × 1 columns</p>\n",
       "</div>"
      ],
      "text/plain": [
       "         target\n",
       "id             \n",
       "0             2\n",
       "1             0\n",
       "2             2\n",
       "3             2\n",
       "4             0\n",
       "...         ...\n",
       "1040318       2\n",
       "1040319       0\n",
       "1040320       0\n",
       "1040321       2\n",
       "1040322       0\n",
       "\n",
       "[1040323 rows x 1 columns]"
      ]
     },
     "execution_count": 114,
     "metadata": {},
     "output_type": "execute_result"
    }
   ],
   "source": [
    "y_train"
   ]
  },
  {
   "cell_type": "code",
   "execution_count": 115,
   "id": "355f4810",
   "metadata": {},
   "outputs": [],
   "source": [
    "x_test = pd.read_csv('data/test_data.csv', index_col = 0)"
   ]
  },
  {
   "cell_type": "code",
   "execution_count": 116,
   "id": "caf636b4",
   "metadata": {},
   "outputs": [],
   "source": [
    "x_test['text'] = x_test['text'].apply(tweet_cleaner)"
   ]
  },
  {
   "cell_type": "code",
   "execution_count": 117,
   "id": "fa325fa5",
   "metadata": {},
   "outputs": [
    {
     "data": {
      "text/html": [
       "<div>\n",
       "<style scoped>\n",
       "    .dataframe tbody tr th:only-of-type {\n",
       "        vertical-align: middle;\n",
       "    }\n",
       "\n",
       "    .dataframe tbody tr th {\n",
       "        vertical-align: top;\n",
       "    }\n",
       "\n",
       "    .dataframe thead th {\n",
       "        text-align: right;\n",
       "    }\n",
       "</style>\n",
       "<table border=\"1\" class=\"dataframe\">\n",
       "  <thead>\n",
       "    <tr style=\"text-align: right;\">\n",
       "      <th></th>\n",
       "      <th>text</th>\n",
       "    </tr>\n",
       "    <tr>\n",
       "      <th>id</th>\n",
       "      <th></th>\n",
       "    </tr>\n",
       "  </thead>\n",
       "  <tbody>\n",
       "    <tr>\n",
       "      <th>0</th>\n",
       "      <td>so cut multistop missed out on all the tce ext...</td>\n",
       "    </tr>\n",
       "    <tr>\n",
       "      <th>1</th>\n",
       "      <td>thank you very much wasin this is awesome haha</td>\n",
       "    </tr>\n",
       "    <tr>\n",
       "      <th>2</th>\n",
       "      <td>squeezing in some internet time before dustin ...</td>\n",
       "    </tr>\n",
       "    <tr>\n",
       "      <th>3</th>\n",
       "      <td>fanoou oh i do have moral but i m gonna be big...</td>\n",
       "    </tr>\n",
       "    <tr>\n",
       "      <th>4</th>\n",
       "      <td>nsuissa i just bought sammy some joint hip sup...</td>\n",
       "    </tr>\n",
       "    <tr>\n",
       "      <th>...</th>\n",
       "      <td>...</td>\n",
       "    </tr>\n",
       "    <tr>\n",
       "      <th>560170</th>\n",
       "      <td>meganintime so is mine and i ve only got about...</td>\n",
       "    </tr>\n",
       "    <tr>\n",
       "      <th>560171</th>\n",
       "      <td>fairyforest thanks cutie wishing u a wonderful...</td>\n",
       "    </tr>\n",
       "    <tr>\n",
       "      <th>560172</th>\n",
       "      <td>ok know i just got home my family just drop me...</td>\n",
       "    </tr>\n",
       "    <tr>\n",
       "      <th>560173</th>\n",
       "      <td>long run status complete multistop now time fo...</td>\n",
       "    </tr>\n",
       "    <tr>\n",
       "      <th>560174</th>\n",
       "      <td>textualoffender doestovesky yes remaining will...</td>\n",
       "    </tr>\n",
       "  </tbody>\n",
       "</table>\n",
       "<p>560175 rows × 1 columns</p>\n",
       "</div>"
      ],
      "text/plain": [
       "                                                     text\n",
       "id                                                       \n",
       "0       so cut multistop missed out on all the tce ext...\n",
       "1          thank you very much wasin this is awesome haha\n",
       "2       squeezing in some internet time before dustin ...\n",
       "3       fanoou oh i do have moral but i m gonna be big...\n",
       "4       nsuissa i just bought sammy some joint hip sup...\n",
       "...                                                   ...\n",
       "560170  meganintime so is mine and i ve only got about...\n",
       "560171  fairyforest thanks cutie wishing u a wonderful...\n",
       "560172  ok know i just got home my family just drop me...\n",
       "560173  long run status complete multistop now time fo...\n",
       "560174  textualoffender doestovesky yes remaining will...\n",
       "\n",
       "[560175 rows x 1 columns]"
      ]
     },
     "execution_count": 117,
     "metadata": {},
     "output_type": "execute_result"
    }
   ],
   "source": [
    "x_test"
   ]
  },
  {
   "cell_type": "code",
   "execution_count": 133,
   "id": "d38c8019",
   "metadata": {},
   "outputs": [],
   "source": [
    "vectorizer = TfidfVectorizer(max_features=120000,ngram_range=(1, 3))"
   ]
  },
  {
   "cell_type": "code",
   "execution_count": 134,
   "id": "87cf120e",
   "metadata": {},
   "outputs": [],
   "source": [
    "x_train_tfidf = vectorizer.fit_transform(x_train['text'])"
   ]
  },
  {
   "cell_type": "code",
   "execution_count": 135,
   "id": "f410927f",
   "metadata": {},
   "outputs": [
    {
     "data": {
      "text/plain": [
       "<1040323x9966527 sparse matrix of type '<class 'numpy.float64'>'\n",
       "\twith 39295257 stored elements in Compressed Sparse Row format>"
      ]
     },
     "execution_count": 135,
     "metadata": {},
     "output_type": "execute_result"
    }
   ],
   "source": [
    "x_train_tfidf"
   ]
  },
  {
   "cell_type": "code",
   "execution_count": null,
   "id": "7a916e97",
   "metadata": {},
   "outputs": [],
   "source": [
    "clf = LogisticRegression().fit(x_train_tfidf, y_train['target'].values)\n"
   ]
  },
  {
   "cell_type": "code",
   "execution_count": null,
   "id": "7d7378bd",
   "metadata": {},
   "outputs": [],
   "source": [
    "x_test_tfidf = vectorizer.transform(x_test['text'])"
   ]
  },
  {
   "cell_type": "code",
   "execution_count": null,
   "id": "2272ba8d",
   "metadata": {},
   "outputs": [],
   "source": [
    "y_predicted = clf.predict(x_test_tfidf)"
   ]
  },
  {
   "cell_type": "code",
   "execution_count": null,
   "id": "177def0a",
   "metadata": {},
   "outputs": [],
   "source": [
    "y_predicted = pd.DataFrame(y_predicted).reset_index()"
   ]
  },
  {
   "cell_type": "code",
   "execution_count": null,
   "id": "1f89edfe",
   "metadata": {},
   "outputs": [],
   "source": [
    "y_predicted.columns = ['id', 'target']"
   ]
  },
  {
   "cell_type": "code",
   "execution_count": null,
   "id": "41b60a88",
   "metadata": {},
   "outputs": [],
   "source": [
    "y_predicted"
   ]
  },
  {
   "cell_type": "code",
   "execution_count": 132,
   "id": "d497f741",
   "metadata": {},
   "outputs": [],
   "source": [
    "y_predicted.to_csv('kaggle-submissions/logreg-tfidf-full-train.csv',index=False)"
   ]
  },
  {
   "cell_type": "code",
   "execution_count": null,
   "id": "e7f58b56",
   "metadata": {},
   "outputs": [],
   "source": []
  },
  {
   "cell_type": "code",
   "execution_count": null,
   "id": "bcb3564e",
   "metadata": {},
   "outputs": [],
   "source": []
  },
  {
   "cell_type": "code",
   "execution_count": null,
   "id": "9aa13ea1",
   "metadata": {},
   "outputs": [],
   "source": []
  },
  {
   "cell_type": "code",
   "execution_count": null,
   "id": "4a155f95",
   "metadata": {},
   "outputs": [],
   "source": []
  },
  {
   "cell_type": "code",
   "execution_count": 13,
   "id": "8ab7cbc6",
   "metadata": {},
   "outputs": [],
   "source": [
    "from sklearn.model_selection import train_test_split\n",
    "from sklearn.feature_extraction.text import TfidfVectorizer"
   ]
  },
  {
   "cell_type": "code",
   "execution_count": 14,
   "id": "095ade86",
   "metadata": {},
   "outputs": [],
   "source": [
    "train_data, train_labels = load_modeling_data()"
   ]
  },
  {
   "cell_type": "code",
   "execution_count": 15,
   "id": "49fc0f41",
   "metadata": {},
   "outputs": [],
   "source": [
    "import nltk\n",
    "stopwords = nltk.corpus.stopwords.words('english')\n",
    "import string"
   ]
  },
  {
   "cell_type": "code",
   "execution_count": 16,
   "id": "4137f527",
   "metadata": {},
   "outputs": [],
   "source": [
    "def tweet_cleaner(text):\n",
    "#     Lowering the texts\n",
    "    text= text.lower()\n",
    "    \n",
    "#     remove stopwords\n",
    "    ls = text.split(' ')\n",
    "    output = [i for i in ls if i not in stopwords]\n",
    "    text = ' '.join(output)\n",
    "    \n",
    "#     removing punctuations\n",
    "    text =\"\".join([i for i in text if i not in string.punctuation])\n",
    "    \n",
    "    return text\n",
    "    "
   ]
  },
  {
   "cell_type": "code",
   "execution_count": 17,
   "id": "564b5881",
   "metadata": {},
   "outputs": [
    {
     "data": {
      "text/html": [
       "<div>\n",
       "<style scoped>\n",
       "    .dataframe tbody tr th:only-of-type {\n",
       "        vertical-align: middle;\n",
       "    }\n",
       "\n",
       "    .dataframe tbody tr th {\n",
       "        vertical-align: top;\n",
       "    }\n",
       "\n",
       "    .dataframe thead th {\n",
       "        text-align: right;\n",
       "    }\n",
       "</style>\n",
       "<table border=\"1\" class=\"dataframe\">\n",
       "  <thead>\n",
       "    <tr style=\"text-align: right;\">\n",
       "      <th></th>\n",
       "      <th>text</th>\n",
       "    </tr>\n",
       "    <tr>\n",
       "      <th>id</th>\n",
       "      <th></th>\n",
       "    </tr>\n",
       "  </thead>\n",
       "  <tbody>\n",
       "    <tr>\n",
       "      <th>0</th>\n",
       "      <td>Anyway Im getting of for a while</td>\n",
       "    </tr>\n",
       "    <tr>\n",
       "      <th>1</th>\n",
       "      <td>My red, Apache isn't feelin too well this morn...</td>\n",
       "    </tr>\n",
       "    <tr>\n",
       "      <th>2</th>\n",
       "      <td>@danyelljoy you should be  its great. friday w...</td>\n",
       "    </tr>\n",
       "    <tr>\n",
       "      <th>3</th>\n",
       "      <td>its 11:30pm and i dont wanna sleep; so i debat...</td>\n",
       "    </tr>\n",
       "    <tr>\n",
       "      <th>4</th>\n",
       "      <td>Why does twitter eat my DM's?  Not happy</td>\n",
       "    </tr>\n",
       "    <tr>\n",
       "      <th>...</th>\n",
       "      <td>...</td>\n",
       "    </tr>\n",
       "    <tr>\n",
       "      <th>1040318</th>\n",
       "      <td>getting ready 2 watch mental</td>\n",
       "    </tr>\n",
       "    <tr>\n",
       "      <th>1040319</th>\n",
       "      <td>Wristcutters and Half Nelson are on Sundance F...</td>\n",
       "    </tr>\n",
       "    <tr>\n",
       "      <th>1040320</th>\n",
       "      <td>@t_isfortammy Going out in Northbridge makes m...</td>\n",
       "    </tr>\n",
       "    <tr>\n",
       "      <th>1040321</th>\n",
       "      <td>@iModel_ lol.... Gorgeous...lol! U look sooo m...</td>\n",
       "    </tr>\n",
       "    <tr>\n",
       "      <th>1040322</th>\n",
       "      <td>@iamjonathancook why?</td>\n",
       "    </tr>\n",
       "  </tbody>\n",
       "</table>\n",
       "<p>1040323 rows × 1 columns</p>\n",
       "</div>"
      ],
      "text/plain": [
       "                                                      text\n",
       "id                                                        \n",
       "0                        Anyway Im getting of for a while \n",
       "1        My red, Apache isn't feelin too well this morn...\n",
       "2        @danyelljoy you should be  its great. friday w...\n",
       "3        its 11:30pm and i dont wanna sleep; so i debat...\n",
       "4                Why does twitter eat my DM's?  Not happy \n",
       "...                                                    ...\n",
       "1040318                      getting ready 2 watch mental \n",
       "1040319  Wristcutters and Half Nelson are on Sundance F...\n",
       "1040320  @t_isfortammy Going out in Northbridge makes m...\n",
       "1040321  @iModel_ lol.... Gorgeous...lol! U look sooo m...\n",
       "1040322                             @iamjonathancook why? \n",
       "\n",
       "[1040323 rows x 1 columns]"
      ]
     },
     "execution_count": 17,
     "metadata": {},
     "output_type": "execute_result"
    }
   ],
   "source": [
    "train_data"
   ]
  },
  {
   "cell_type": "code",
   "execution_count": 18,
   "id": "2bc22624",
   "metadata": {},
   "outputs": [
    {
     "data": {
      "text/html": [
       "<div>\n",
       "<style scoped>\n",
       "    .dataframe tbody tr th:only-of-type {\n",
       "        vertical-align: middle;\n",
       "    }\n",
       "\n",
       "    .dataframe tbody tr th {\n",
       "        vertical-align: top;\n",
       "    }\n",
       "\n",
       "    .dataframe thead th {\n",
       "        text-align: right;\n",
       "    }\n",
       "</style>\n",
       "<table border=\"1\" class=\"dataframe\">\n",
       "  <thead>\n",
       "    <tr style=\"text-align: right;\">\n",
       "      <th></th>\n",
       "      <th>text</th>\n",
       "    </tr>\n",
       "    <tr>\n",
       "      <th>id</th>\n",
       "      <th></th>\n",
       "    </tr>\n",
       "  </thead>\n",
       "  <tbody>\n",
       "    <tr>\n",
       "      <th>0</th>\n",
       "      <td>anyway im getting</td>\n",
       "    </tr>\n",
       "    <tr>\n",
       "      <th>1</th>\n",
       "      <td>red apache feelin well morning  httpmypictme49n5</td>\n",
       "    </tr>\n",
       "    <tr>\n",
       "      <th>2</th>\n",
       "      <td>danyelljoy  great friday great tooooooo</td>\n",
       "    </tr>\n",
       "    <tr>\n",
       "      <th>3</th>\n",
       "      <td>1130pm dont wanna sleep debated myself end dec...</td>\n",
       "    </tr>\n",
       "    <tr>\n",
       "      <th>4</th>\n",
       "      <td>twitter eat dms  happy</td>\n",
       "    </tr>\n",
       "    <tr>\n",
       "      <th>...</th>\n",
       "      <td>...</td>\n",
       "    </tr>\n",
       "    <tr>\n",
       "      <th>1040318</th>\n",
       "      <td>getting ready 2 watch mental</td>\n",
       "    </tr>\n",
       "    <tr>\n",
       "      <th>1040319</th>\n",
       "      <td>wristcutters half nelson sundance free movies ...</td>\n",
       "    </tr>\n",
       "    <tr>\n",
       "      <th>1040320</th>\n",
       "      <td>tisfortammy going northbridge makes jealous yo...</td>\n",
       "    </tr>\n",
       "    <tr>\n",
       "      <th>1040321</th>\n",
       "      <td>imodel lol gorgeouslol u look sooo much like v...</td>\n",
       "    </tr>\n",
       "    <tr>\n",
       "      <th>1040322</th>\n",
       "      <td>iamjonathancook why</td>\n",
       "    </tr>\n",
       "  </tbody>\n",
       "</table>\n",
       "<p>1040323 rows × 1 columns</p>\n",
       "</div>"
      ],
      "text/plain": [
       "                                                      text\n",
       "id                                                        \n",
       "0                                       anyway im getting \n",
       "1         red apache feelin well morning  httpmypictme49n5\n",
       "2                 danyelljoy  great friday great tooooooo \n",
       "3        1130pm dont wanna sleep debated myself end dec...\n",
       "4                                  twitter eat dms  happy \n",
       "...                                                    ...\n",
       "1040318                      getting ready 2 watch mental \n",
       "1040319  wristcutters half nelson sundance free movies ...\n",
       "1040320  tisfortammy going northbridge makes jealous yo...\n",
       "1040321  imodel lol gorgeouslol u look sooo much like v...\n",
       "1040322                               iamjonathancook why \n",
       "\n",
       "[1040323 rows x 1 columns]"
      ]
     },
     "execution_count": 18,
     "metadata": {},
     "output_type": "execute_result"
    }
   ],
   "source": [
    "train_data['text'] = train_data['text'].apply(tweet_cleaner)\n",
    "train_data"
   ]
  },
  {
   "cell_type": "code",
   "execution_count": 21,
   "id": "a48512c9",
   "metadata": {},
   "outputs": [],
   "source": [
    "dict_vals  = {'positive': 2, 'neutral': 1,'negative': 0}\n",
    "train_labels = train_labels['target'].apply(lambda x: dict_vals[x])"
   ]
  },
  {
   "cell_type": "code",
   "execution_count": 22,
   "id": "a402d66b",
   "metadata": {},
   "outputs": [
    {
     "data": {
      "text/plain": [
       "id\n",
       "0          2\n",
       "1          0\n",
       "2          2\n",
       "3          2\n",
       "4          0\n",
       "          ..\n",
       "1040318    2\n",
       "1040319    0\n",
       "1040320    0\n",
       "1040321    2\n",
       "1040322    0\n",
       "Name: target, Length: 1040323, dtype: int64"
      ]
     },
     "execution_count": 22,
     "metadata": {},
     "output_type": "execute_result"
    }
   ],
   "source": [
    "train_labels"
   ]
  },
  {
   "cell_type": "code",
   "execution_count": 25,
   "id": "87699780",
   "metadata": {},
   "outputs": [],
   "source": [
    "x_train, x_validation, y_train, y_validation = train_test_split(train_data, train_labels, test_size = 0.2)"
   ]
  },
  {
   "cell_type": "code",
   "execution_count": 29,
   "id": "bd1524f0",
   "metadata": {},
   "outputs": [
    {
     "name": "stdout",
     "output_type": "stream",
     "text": [
      "Overall number of different words 80000\n"
     ]
    }
   ],
   "source": [
    "tfidf_transformer = TfidfVectorizer(max_features=80000,ngram_range=(1, 3))\n",
    "x_train_tfidf = tfidf_transformer.fit_transform(x_train['text'])\n",
    "print('Overall number of different words',x_train_tfidf.shape[1])\n",
    "x_validation_tfidf = tfidf_transformer.transform(x_validation['text'])"
   ]
  },
  {
   "cell_type": "code",
   "execution_count": 27,
   "id": "c516bc71",
   "metadata": {},
   "outputs": [
    {
     "data": {
      "text/html": [
       "<div>\n",
       "<style scoped>\n",
       "    .dataframe tbody tr th:only-of-type {\n",
       "        vertical-align: middle;\n",
       "    }\n",
       "\n",
       "    .dataframe tbody tr th {\n",
       "        vertical-align: top;\n",
       "    }\n",
       "\n",
       "    .dataframe thead th {\n",
       "        text-align: right;\n",
       "    }\n",
       "</style>\n",
       "<table border=\"1\" class=\"dataframe\">\n",
       "  <thead>\n",
       "    <tr style=\"text-align: right;\">\n",
       "      <th></th>\n",
       "      <th>text</th>\n",
       "    </tr>\n",
       "    <tr>\n",
       "      <th>id</th>\n",
       "      <th></th>\n",
       "    </tr>\n",
       "  </thead>\n",
       "  <tbody>\n",
       "    <tr>\n",
       "      <th>464182</th>\n",
       "      <td>derdevblogger 1and1 bad company hate them payp...</td>\n",
       "    </tr>\n",
       "    <tr>\n",
       "      <th>380587</th>\n",
       "      <td>going bed</td>\n",
       "    </tr>\n",
       "    <tr>\n",
       "      <th>849647</th>\n",
       "      <td>need massage  hard day</td>\n",
       "    </tr>\n",
       "    <tr>\n",
       "      <th>205797</th>\n",
       "      <td>good morning  anyone following please follow w...</td>\n",
       "    </tr>\n",
       "    <tr>\n",
       "      <th>433060</th>\n",
       "      <td>good luck mileycyrus tonight  love yo</td>\n",
       "    </tr>\n",
       "    <tr>\n",
       "      <th>...</th>\n",
       "      <td>...</td>\n",
       "    </tr>\n",
       "    <tr>\n",
       "      <th>894299</th>\n",
       "      <td>eating sandwich cant wait till buy iphone</td>\n",
       "    </tr>\n",
       "    <tr>\n",
       "      <th>541694</th>\n",
       "      <td>dizzyup  httptwitpiccom7ly92  hell yeah yep 3g...</td>\n",
       "    </tr>\n",
       "    <tr>\n",
       "      <th>399266</th>\n",
       "      <td>quotdear john freaking mess  may need seek pro...</td>\n",
       "    </tr>\n",
       "    <tr>\n",
       "      <th>949563</th>\n",
       "      <td>tonight best beginning full tears baby always ...</td>\n",
       "    </tr>\n",
       "    <tr>\n",
       "      <th>60378</th>\n",
       "      <td>lifting lastfm boycott  actually pay   cant fi...</td>\n",
       "    </tr>\n",
       "  </tbody>\n",
       "</table>\n",
       "<p>832258 rows × 1 columns</p>\n",
       "</div>"
      ],
      "text/plain": [
       "                                                     text\n",
       "id                                                       \n",
       "464182  derdevblogger 1and1 bad company hate them payp...\n",
       "380587                                         going bed \n",
       "849647                            need massage  hard day \n",
       "205797  good morning  anyone following please follow w...\n",
       "433060              good luck mileycyrus tonight  love yo\n",
       "...                                                   ...\n",
       "894299         eating sandwich cant wait till buy iphone \n",
       "541694  dizzyup  httptwitpiccom7ly92  hell yeah yep 3g...\n",
       "399266  quotdear john freaking mess  may need seek pro...\n",
       "949563  tonight best beginning full tears baby always ...\n",
       "60378   lifting lastfm boycott  actually pay   cant fi...\n",
       "\n",
       "[832258 rows x 1 columns]"
      ]
     },
     "execution_count": 27,
     "metadata": {},
     "output_type": "execute_result"
    }
   ],
   "source": [
    "x_train"
   ]
  },
  {
   "cell_type": "code",
   "execution_count": 30,
   "id": "4a132173",
   "metadata": {},
   "outputs": [],
   "source": [
    "from sklearn.linear_model import LogisticRegression"
   ]
  },
  {
   "cell_type": "code",
   "execution_count": 32,
   "id": "1a0522ea",
   "metadata": {},
   "outputs": [],
   "source": [
    "from sklearn import metrics"
   ]
  },
  {
   "cell_type": "code",
   "execution_count": 34,
   "id": "f0bbf363",
   "metadata": {},
   "outputs": [
    {
     "name": "stdout",
     "output_type": "stream",
     "text": [
      "Our model's accuracy is 0.791137384951818\n"
     ]
    }
   ],
   "source": [
    "clf = LogisticRegression(max_iter=500).fit(x_train_tfidf, y_train)\n",
    "\n",
    "y_predicted = clf.predict(x_validation_tfidf)\n",
    "y_prob_predicted = clf.predict_proba(x_validation_tfidf)\n",
    "print(f'Our model\\'s accuracy is {metrics.accuracy_score(y_validation, y_predicted)}')"
   ]
  },
  {
   "cell_type": "code",
   "execution_count": null,
   "id": "65d3a8e5",
   "metadata": {},
   "outputs": [],
   "source": []
  }
 ],
 "metadata": {
  "kernelspec": {
   "display_name": "Python 3 (ipykernel)",
   "language": "python",
   "name": "python3"
  },
  "language_info": {
   "codemirror_mode": {
    "name": "ipython",
    "version": 3
   },
   "file_extension": ".py",
   "mimetype": "text/x-python",
   "name": "python",
   "nbconvert_exporter": "python",
   "pygments_lexer": "ipython3",
   "version": "3.10.4"
  }
 },
 "nbformat": 4,
 "nbformat_minor": 5
}
