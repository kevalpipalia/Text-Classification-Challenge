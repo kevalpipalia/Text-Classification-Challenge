{
 "cells": [
  {
   "cell_type": "code",
   "execution_count": 57,
   "id": "7ce67e46",
   "metadata": {},
   "outputs": [],
   "source": [
    "import pandas as pd\n",
    "from sklearn.feature_extraction.text import CountVectorizer, TfidfVectorizer\n",
    "from sklearn.linear_model import LogisticRegression\n",
    "from sklearn.naive_bayes import MultinomialNB, ComplementNB\n",
    "from sklearn.svm import SVC\n",
    "from xgboost import XGBClassifier\n",
    "from sklearn.svm import LinearSVC\n",
    "from sklearn.calibration import CalibratedClassifierCV\n",
    "from sklearn.model_selection import train_test_split\n",
    "from sklearn.metrics import accuracy_score, classification_report"
   ]
  },
  {
   "cell_type": "code",
   "execution_count": 30,
   "id": "393264e1",
   "metadata": {},
   "outputs": [],
   "source": [
    "from utilities.data_loader import load_modeling_data, load_testing_data\n",
    "from utilities.text_cleaner import advanced_data_cleaning"
   ]
  },
  {
   "cell_type": "code",
   "execution_count": 31,
   "id": "60070047",
   "metadata": {},
   "outputs": [],
   "source": [
    "train_data, train_labels = load_modeling_data()"
   ]
  },
  {
   "cell_type": "code",
   "execution_count": 32,
   "id": "daf19e62",
   "metadata": {},
   "outputs": [],
   "source": [
    "dict_vals = {'negative': 0, 'neutral': 1, 'positive': 2}\n",
    "train_labels['target'] = train_labels['target'].apply(lambda x: dict_vals[x])"
   ]
  },
  {
   "cell_type": "code",
   "execution_count": 33,
   "id": "dd1f6a88",
   "metadata": {},
   "outputs": [],
   "source": [
    "test_data = load_testing_data()"
   ]
  },
  {
   "cell_type": "code",
   "execution_count": 34,
   "id": "a25360de",
   "metadata": {},
   "outputs": [],
   "source": [
    "X_train, X_valid, y_train, y_valid = train_test_split(train_data, train_labels, test_size=0.2, random_state=10)"
   ]
  },
  {
   "cell_type": "code",
   "execution_count": 35,
   "id": "ec222dac",
   "metadata": {},
   "outputs": [],
   "source": [
    "X_train['text'] = X_train['text'].apply(advanced_data_cleaning)"
   ]
  },
  {
   "cell_type": "code",
   "execution_count": 36,
   "id": "9deb2fb8",
   "metadata": {},
   "outputs": [],
   "source": [
    "X_valid['text'] = X_valid['text'].apply(advanced_data_cleaning)"
   ]
  },
  {
   "cell_type": "code",
   "execution_count": 37,
   "id": "98f37380",
   "metadata": {},
   "outputs": [],
   "source": [
    "from sklearn.pipeline import Pipeline\n",
    "\n",
    "text_clf = Pipeline([('tfidf', TfidfVectorizer()), ('clf', MultinomialNB())])"
   ]
  },
  {
   "cell_type": "code",
   "execution_count": 38,
   "id": "659cdd93",
   "metadata": {},
   "outputs": [],
   "source": [
    "text_clf = text_clf.fit(X_train['text'], y_train['target'].values)\n",
    "y_pred = text_clf.predict(X_valid['text'])"
   ]
  },
  {
   "cell_type": "code",
   "execution_count": 39,
   "id": "fe822629",
   "metadata": {},
   "outputs": [
    {
     "name": "stdout",
     "output_type": "stream",
     "text": [
      "Accuracy:  0.7690817773292\n"
     ]
    }
   ],
   "source": [
    "print(\"Accuracy: \", accuracy_score(y_valid['target'].values, y_pred))"
   ]
  },
  {
   "cell_type": "code",
   "execution_count": 12,
   "id": "610f64bf",
   "metadata": {},
   "outputs": [],
   "source": [
    "from sklearn.model_selection import GridSearchCV\n",
    "parameters = {'tfidf__max_features': [50000, 80000, 120000],\n",
    "              'tfidf__ngram_range': [(1, 1), (1, 2),(1,3)],\n",
    "               'tfidf__use_idf': (True, False),\n",
    "               'clf__alpha': (1e-3, 1e-2)}"
   ]
  },
  {
   "cell_type": "code",
   "execution_count": null,
   "id": "5c8a9cb3",
   "metadata": {},
   "outputs": [],
   "source": [
    "bs_clf = GridSearchCV(text_clf, parameters, n_jobs=-1)\n",
    "bs_clf = bs_clf.fit(X_train['text'], y_train['target'].values)"
   ]
  },
  {
   "cell_type": "code",
   "execution_count": null,
   "id": "b630bc0c",
   "metadata": {},
   "outputs": [],
   "source": [
    "print(bs_clf.cv_results_)"
   ]
  },
  {
   "cell_type": "code",
   "execution_count": null,
   "id": "d2fe118f",
   "metadata": {},
   "outputs": [],
   "source": []
  },
  {
   "cell_type": "code",
   "execution_count": 41,
   "id": "eae62978",
   "metadata": {},
   "outputs": [],
   "source": [
    "tfidf = TfidfVectorizer(max_features=250000,ngram_range=(1, 3))\n",
    "X_train_vec = tfidf.fit_transform(X_train['text'])\n",
    "X_valid_vec = tfidf.transform(X_valid['text'])"
   ]
  },
  {
   "cell_type": "code",
   "execution_count": 42,
   "id": "04df4f8d",
   "metadata": {},
   "outputs": [],
   "source": [
    "nb_clf = MultinomialNB()\n",
    "nb_clf.fit(X_train_vec, y_train['target'].values)\n",
    "y_pred = nb_clf.predict(X_valid_vec)"
   ]
  },
  {
   "cell_type": "code",
   "execution_count": 43,
   "id": "ee592abb",
   "metadata": {},
   "outputs": [
    {
     "name": "stdout",
     "output_type": "stream",
     "text": [
      "Accuracy:  0.8065508374786725\n"
     ]
    }
   ],
   "source": [
    "print(\"Accuracy: \", accuracy_score(y_valid['target'].values, y_pred))"
   ]
  },
  {
   "cell_type": "code",
   "execution_count": 44,
   "id": "e30e9eab",
   "metadata": {},
   "outputs": [
    {
     "name": "stdout",
     "output_type": "stream",
     "text": [
      "              precision    recall  f1-score   support\n",
      "\n",
      "           0       0.80      0.81      0.81    104093\n",
      "           1       0.00      0.00      0.00        16\n",
      "           2       0.81      0.80      0.81    103956\n",
      "\n",
      "    accuracy                           0.81    208065\n",
      "   macro avg       0.54      0.54      0.54    208065\n",
      "weighted avg       0.81      0.81      0.81    208065\n",
      "\n"
     ]
    },
    {
     "name": "stderr",
     "output_type": "stream",
     "text": [
      "/opt/miniconda3/envs/ift6758-conda-env/lib/python3.10/site-packages/sklearn/metrics/_classification.py:1334: UndefinedMetricWarning: Precision and F-score are ill-defined and being set to 0.0 in labels with no predicted samples. Use `zero_division` parameter to control this behavior.\n",
      "  _warn_prf(average, modifier, msg_start, len(result))\n",
      "/opt/miniconda3/envs/ift6758-conda-env/lib/python3.10/site-packages/sklearn/metrics/_classification.py:1334: UndefinedMetricWarning: Precision and F-score are ill-defined and being set to 0.0 in labels with no predicted samples. Use `zero_division` parameter to control this behavior.\n",
      "  _warn_prf(average, modifier, msg_start, len(result))\n",
      "/opt/miniconda3/envs/ift6758-conda-env/lib/python3.10/site-packages/sklearn/metrics/_classification.py:1334: UndefinedMetricWarning: Precision and F-score are ill-defined and being set to 0.0 in labels with no predicted samples. Use `zero_division` parameter to control this behavior.\n",
      "  _warn_prf(average, modifier, msg_start, len(result))\n"
     ]
    }
   ],
   "source": [
    "print(classification_report(y_valid['target'].values, y_pred))"
   ]
  },
  {
   "cell_type": "code",
   "execution_count": 45,
   "id": "207d2ebd",
   "metadata": {},
   "outputs": [
    {
     "data": {
      "text/plain": [
       "['models/naive_bayes+tfidf.sav']"
      ]
     },
     "execution_count": 45,
     "metadata": {},
     "output_type": "execute_result"
    }
   ],
   "source": [
    "import joblib\n",
    "# save the model to disk\n",
    "filename = 'models/naive_bayes+tfidf.sav'\n",
    "joblib.dump(nb_clf, filename)"
   ]
  },
  {
   "cell_type": "code",
   "execution_count": 46,
   "id": "7b669eef",
   "metadata": {},
   "outputs": [
    {
     "name": "stderr",
     "output_type": "stream",
     "text": [
      "/opt/miniconda3/envs/ift6758-conda-env/lib/python3.10/site-packages/sklearn/linear_model/_logistic.py:444: ConvergenceWarning: lbfgs failed to converge (status=1):\n",
      "STOP: TOTAL NO. of ITERATIONS REACHED LIMIT.\n",
      "\n",
      "Increase the number of iterations (max_iter) or scale the data as shown in:\n",
      "    https://scikit-learn.org/stable/modules/preprocessing.html\n",
      "Please also refer to the documentation for alternative solver options:\n",
      "    https://scikit-learn.org/stable/modules/linear_model.html#logistic-regression\n",
      "  n_iter_i = _check_optimize_result(\n"
     ]
    }
   ],
   "source": [
    "lr_clf = LogisticRegression()\n",
    "lr_clf.fit(X_train_vec, y_train['target'].values)\n",
    "y_pred = lr_clf.predict(X_valid_vec)"
   ]
  },
  {
   "cell_type": "code",
   "execution_count": 47,
   "id": "8b091046",
   "metadata": {},
   "outputs": [
    {
     "name": "stdout",
     "output_type": "stream",
     "text": [
      "Accuracy:  0.8258380794463269\n"
     ]
    }
   ],
   "source": [
    "print(\"Accuracy: \", accuracy_score(y_valid['target'].values, y_pred))"
   ]
  },
  {
   "cell_type": "code",
   "execution_count": 48,
   "id": "cd2a8305",
   "metadata": {},
   "outputs": [
    {
     "name": "stderr",
     "output_type": "stream",
     "text": [
      "/opt/miniconda3/envs/ift6758-conda-env/lib/python3.10/site-packages/sklearn/metrics/_classification.py:1334: UndefinedMetricWarning: Precision and F-score are ill-defined and being set to 0.0 in labels with no predicted samples. Use `zero_division` parameter to control this behavior.\n",
      "  _warn_prf(average, modifier, msg_start, len(result))\n",
      "/opt/miniconda3/envs/ift6758-conda-env/lib/python3.10/site-packages/sklearn/metrics/_classification.py:1334: UndefinedMetricWarning: Precision and F-score are ill-defined and being set to 0.0 in labels with no predicted samples. Use `zero_division` parameter to control this behavior.\n",
      "  _warn_prf(average, modifier, msg_start, len(result))\n"
     ]
    },
    {
     "name": "stdout",
     "output_type": "stream",
     "text": [
      "              precision    recall  f1-score   support\n",
      "\n",
      "           0       0.83      0.82      0.83    104093\n",
      "           1       0.00      0.00      0.00        16\n",
      "           2       0.82      0.83      0.83    103956\n",
      "\n",
      "    accuracy                           0.83    208065\n",
      "   macro avg       0.55      0.55      0.55    208065\n",
      "weighted avg       0.83      0.83      0.83    208065\n",
      "\n"
     ]
    },
    {
     "name": "stderr",
     "output_type": "stream",
     "text": [
      "/opt/miniconda3/envs/ift6758-conda-env/lib/python3.10/site-packages/sklearn/metrics/_classification.py:1334: UndefinedMetricWarning: Precision and F-score are ill-defined and being set to 0.0 in labels with no predicted samples. Use `zero_division` parameter to control this behavior.\n",
      "  _warn_prf(average, modifier, msg_start, len(result))\n"
     ]
    }
   ],
   "source": [
    "print(classification_report(y_valid['target'].values, y_pred))"
   ]
  },
  {
   "cell_type": "code",
   "execution_count": null,
   "id": "8f4b3a0b",
   "metadata": {},
   "outputs": [],
   "source": []
  },
  {
   "cell_type": "code",
   "execution_count": 49,
   "id": "b6cfb994",
   "metadata": {},
   "outputs": [],
   "source": [
    "svc_clf = CalibratedClassifierCV(base_estimator=LinearSVC(penalty='l2', dual=False), cv=3)\n",
    "svc_clf.fit(X_train_vec, y_train['target'].values)\n",
    "y_pred = svc_clf.predict(X_valid_vec)"
   ]
  },
  {
   "cell_type": "code",
   "execution_count": 50,
   "id": "35c24c73",
   "metadata": {},
   "outputs": [
    {
     "name": "stdout",
     "output_type": "stream",
     "text": [
      "Accuracy:  0.8202004181385625\n"
     ]
    }
   ],
   "source": [
    "print(\"Accuracy: \", accuracy_score(y_valid['target'].values, y_pred))"
   ]
  },
  {
   "cell_type": "code",
   "execution_count": 51,
   "id": "11ab9fc8",
   "metadata": {},
   "outputs": [
    {
     "name": "stdout",
     "output_type": "stream",
     "text": [
      "              precision    recall  f1-score   support\n",
      "\n",
      "           0       0.83      0.81      0.82    104093\n",
      "           1       0.00      0.00      0.00        16\n",
      "           2       0.81      0.83      0.82    103956\n",
      "\n",
      "    accuracy                           0.82    208065\n",
      "   macro avg       0.55      0.55      0.55    208065\n",
      "weighted avg       0.82      0.82      0.82    208065\n",
      "\n"
     ]
    }
   ],
   "source": [
    "print(classification_report(y_valid['target'].values, y_pred))"
   ]
  },
  {
   "cell_type": "code",
   "execution_count": 52,
   "id": "9dffdc55",
   "metadata": {},
   "outputs": [
    {
     "data": {
      "text/plain": [
       "['models/svc+tfidf.sav']"
      ]
     },
     "execution_count": 52,
     "metadata": {},
     "output_type": "execute_result"
    }
   ],
   "source": [
    "# save the model to disk\n",
    "filename = 'models/svc+tfidf.sav'\n",
    "joblib.dump(svc_clf, filename)"
   ]
  },
  {
   "cell_type": "code",
   "execution_count": null,
   "id": "ba431814",
   "metadata": {},
   "outputs": [],
   "source": []
  },
  {
   "cell_type": "code",
   "execution_count": null,
   "id": "9ad56d6b",
   "metadata": {},
   "outputs": [],
   "source": [
    "%%time\n",
    "xgb = XGBClassifier()\n",
    "xgb.fit(X_train_vec, y_train['target'].values)\n",
    "y_pred = xgb.predict(X_valid_vec)"
   ]
  },
  {
   "cell_type": "code",
   "execution_count": 54,
   "id": "42a27db5",
   "metadata": {},
   "outputs": [
    {
     "name": "stdout",
     "output_type": "stream",
     "text": [
      "Accuracy:  0.8202004181385625\n"
     ]
    }
   ],
   "source": [
    "print(\"Accuracy: \", accuracy_score(y_valid['target'].values, y_pred))"
   ]
  },
  {
   "cell_type": "code",
   "execution_count": 55,
   "id": "ed8e658b",
   "metadata": {},
   "outputs": [
    {
     "name": "stdout",
     "output_type": "stream",
     "text": [
      "              precision    recall  f1-score   support\n",
      "\n",
      "           0       0.83      0.81      0.82    104093\n",
      "           1       0.00      0.00      0.00        16\n",
      "           2       0.81      0.83      0.82    103956\n",
      "\n",
      "    accuracy                           0.82    208065\n",
      "   macro avg       0.55      0.55      0.55    208065\n",
      "weighted avg       0.82      0.82      0.82    208065\n",
      "\n"
     ]
    }
   ],
   "source": [
    "print(classification_report(y_valid['target'].values, y_pred))"
   ]
  },
  {
   "cell_type": "code",
   "execution_count": null,
   "id": "f766d714",
   "metadata": {},
   "outputs": [],
   "source": []
  },
  {
   "cell_type": "code",
   "execution_count": 58,
   "id": "66cd46b3",
   "metadata": {},
   "outputs": [],
   "source": [
    "# complement Naive Bayes\n",
    "comp_nb = ComplementNB(alpha=3.0)\n",
    "comp_nb.fit(X_train_vec, y_train['target'].values)\n",
    "y_pred = comp_nb.predict(X_valid_vec)"
   ]
  },
  {
   "cell_type": "code",
   "execution_count": 59,
   "id": "32dd2a64",
   "metadata": {},
   "outputs": [
    {
     "name": "stdout",
     "output_type": "stream",
     "text": [
      "Accuracy:  0.8042582846706559\n"
     ]
    }
   ],
   "source": [
    "print(\"Accuracy: \", accuracy_score(y_valid['target'].values, y_pred))"
   ]
  },
  {
   "cell_type": "code",
   "execution_count": 60,
   "id": "c09776cd",
   "metadata": {},
   "outputs": [
    {
     "name": "stdout",
     "output_type": "stream",
     "text": [
      "              precision    recall  f1-score   support\n",
      "\n",
      "           0       0.80      0.82      0.81    104093\n",
      "           1       0.00      0.00      0.00        16\n",
      "           2       0.81      0.79      0.80    103956\n",
      "\n",
      "    accuracy                           0.80    208065\n",
      "   macro avg       0.54      0.54      0.54    208065\n",
      "weighted avg       0.81      0.80      0.81    208065\n",
      "\n"
     ]
    }
   ],
   "source": [
    "print(classification_report(y_valid['target'].values, y_pred))"
   ]
  },
  {
   "cell_type": "code",
   "execution_count": 61,
   "id": "ce9f6afd",
   "metadata": {},
   "outputs": [
    {
     "data": {
      "text/plain": [
       "['models/complement_nb.sav']"
      ]
     },
     "execution_count": 61,
     "metadata": {},
     "output_type": "execute_result"
    }
   ],
   "source": [
    "# save the model to disk\n",
    "filename = 'models/complement_nb.sav'\n",
    "joblib.dump(comp_nb, filename)"
   ]
  },
  {
   "cell_type": "code",
   "execution_count": null,
   "id": "06d7ffbf",
   "metadata": {},
   "outputs": [],
   "source": []
  },
  {
   "cell_type": "code",
   "execution_count": null,
   "id": "1914012e",
   "metadata": {},
   "outputs": [],
   "source": [
    "# Final model"
   ]
  },
  {
   "cell_type": "code",
   "execution_count": null,
   "id": "4ef149a5",
   "metadata": {},
   "outputs": [],
   "source": [
    "# Retraining for Kaggle Submission\n",
    "\n",
    "# final_training_data = train_data.copy()\n",
    "\n",
    "# final_training_labels = train_labels.copy()\n",
    "\n",
    "# final_test_data = test_data.copy()\n",
    "\n",
    "# vectorizer = TfidfVectorizer(max_features=120000, ngram_range=(1, 3))\n",
    "# final_training_data = vectorizer.fit_transform(final_training_data['text'])\n",
    "\n",
    "# final_test_data = vectorizer.transform(final_test_data['text'])\n",
    "\n",
    "# lr_clf = LogisticRegression()\n",
    "# lr_clf.fit(final_training_data, final_training_labels['target'])\n",
    "# final_test_pred = lr_clf.predict(final_test_data) \n",
    "\n",
    "# final_test_pred = pd.DataFrame(final_test_pred).reset_index()\n",
    "# final_test_pred.columns = ['id', 'target']\n",
    "# final_test_pred.to_csv('kaggle-submissions/logreg-tfidf-advcln.csv',index=False)"
   ]
  },
  {
   "cell_type": "code",
   "execution_count": null,
   "id": "bc750add",
   "metadata": {},
   "outputs": [],
   "source": []
  }
 ],
 "metadata": {
  "kernelspec": {
   "display_name": "ift6758-conda-env",
   "language": "python",
   "name": "ift6758-conda-env"
  },
  "language_info": {
   "codemirror_mode": {
    "name": "ipython",
    "version": 3
   },
   "file_extension": ".py",
   "mimetype": "text/x-python",
   "name": "python",
   "nbconvert_exporter": "python",
   "pygments_lexer": "ipython3",
   "version": "3.10.4"
  }
 },
 "nbformat": 4,
 "nbformat_minor": 5
}
