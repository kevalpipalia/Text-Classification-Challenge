{
 "cells": [
  {
   "cell_type": "code",
   "execution_count": 115,
   "id": "45228582",
   "metadata": {},
   "outputs": [],
   "source": [
    "import pandas as pd"
   ]
  },
  {
   "cell_type": "code",
   "execution_count": 116,
   "id": "da2f2b34",
   "metadata": {},
   "outputs": [],
   "source": [
    "train_data = pd.read_csv('data/train_data.csv', index_col=0)\n",
    "train_results = pd.read_csv('data/train_results.csv', index_col=0)"
   ]
  },
  {
   "cell_type": "code",
   "execution_count": 117,
   "id": "68846c20",
   "metadata": {},
   "outputs": [
    {
     "data": {
      "text/html": [
       "<div>\n",
       "<style scoped>\n",
       "    .dataframe tbody tr th:only-of-type {\n",
       "        vertical-align: middle;\n",
       "    }\n",
       "\n",
       "    .dataframe tbody tr th {\n",
       "        vertical-align: top;\n",
       "    }\n",
       "\n",
       "    .dataframe thead th {\n",
       "        text-align: right;\n",
       "    }\n",
       "</style>\n",
       "<table border=\"1\" class=\"dataframe\">\n",
       "  <thead>\n",
       "    <tr style=\"text-align: right;\">\n",
       "      <th></th>\n",
       "      <th>text</th>\n",
       "    </tr>\n",
       "    <tr>\n",
       "      <th>id</th>\n",
       "      <th></th>\n",
       "    </tr>\n",
       "  </thead>\n",
       "  <tbody>\n",
       "    <tr>\n",
       "      <th>0</th>\n",
       "      <td>Anyway Im getting of for a while</td>\n",
       "    </tr>\n",
       "    <tr>\n",
       "      <th>1</th>\n",
       "      <td>My red, Apache isn't feelin too well this morn...</td>\n",
       "    </tr>\n",
       "    <tr>\n",
       "      <th>2</th>\n",
       "      <td>@danyelljoy you should be  its great. friday w...</td>\n",
       "    </tr>\n",
       "    <tr>\n",
       "      <th>3</th>\n",
       "      <td>its 11:30pm and i dont wanna sleep; so i debat...</td>\n",
       "    </tr>\n",
       "    <tr>\n",
       "      <th>4</th>\n",
       "      <td>Why does twitter eat my DM's?  Not happy</td>\n",
       "    </tr>\n",
       "    <tr>\n",
       "      <th>...</th>\n",
       "      <td>...</td>\n",
       "    </tr>\n",
       "    <tr>\n",
       "      <th>1040318</th>\n",
       "      <td>getting ready 2 watch mental</td>\n",
       "    </tr>\n",
       "    <tr>\n",
       "      <th>1040319</th>\n",
       "      <td>Wristcutters and Half Nelson are on Sundance F...</td>\n",
       "    </tr>\n",
       "    <tr>\n",
       "      <th>1040320</th>\n",
       "      <td>@t_isfortammy Going out in Northbridge makes m...</td>\n",
       "    </tr>\n",
       "    <tr>\n",
       "      <th>1040321</th>\n",
       "      <td>@iModel_ lol.... Gorgeous...lol! U look sooo m...</td>\n",
       "    </tr>\n",
       "    <tr>\n",
       "      <th>1040322</th>\n",
       "      <td>@iamjonathancook why?</td>\n",
       "    </tr>\n",
       "  </tbody>\n",
       "</table>\n",
       "<p>1040323 rows × 1 columns</p>\n",
       "</div>"
      ],
      "text/plain": [
       "                                                      text\n",
       "id                                                        \n",
       "0                        Anyway Im getting of for a while \n",
       "1        My red, Apache isn't feelin too well this morn...\n",
       "2        @danyelljoy you should be  its great. friday w...\n",
       "3        its 11:30pm and i dont wanna sleep; so i debat...\n",
       "4                Why does twitter eat my DM's?  Not happy \n",
       "...                                                    ...\n",
       "1040318                      getting ready 2 watch mental \n",
       "1040319  Wristcutters and Half Nelson are on Sundance F...\n",
       "1040320  @t_isfortammy Going out in Northbridge makes m...\n",
       "1040321  @iModel_ lol.... Gorgeous...lol! U look sooo m...\n",
       "1040322                             @iamjonathancook why? \n",
       "\n",
       "[1040323 rows x 1 columns]"
      ]
     },
     "execution_count": 117,
     "metadata": {},
     "output_type": "execute_result"
    }
   ],
   "source": [
    "train_data"
   ]
  },
  {
   "cell_type": "code",
   "execution_count": 118,
   "id": "54afa77b",
   "metadata": {},
   "outputs": [
    {
     "data": {
      "text/html": [
       "<div>\n",
       "<style scoped>\n",
       "    .dataframe tbody tr th:only-of-type {\n",
       "        vertical-align: middle;\n",
       "    }\n",
       "\n",
       "    .dataframe tbody tr th {\n",
       "        vertical-align: top;\n",
       "    }\n",
       "\n",
       "    .dataframe thead th {\n",
       "        text-align: right;\n",
       "    }\n",
       "</style>\n",
       "<table border=\"1\" class=\"dataframe\">\n",
       "  <thead>\n",
       "    <tr style=\"text-align: right;\">\n",
       "      <th></th>\n",
       "      <th>target</th>\n",
       "    </tr>\n",
       "    <tr>\n",
       "      <th>id</th>\n",
       "      <th></th>\n",
       "    </tr>\n",
       "  </thead>\n",
       "  <tbody>\n",
       "    <tr>\n",
       "      <th>0</th>\n",
       "      <td>positive</td>\n",
       "    </tr>\n",
       "    <tr>\n",
       "      <th>1</th>\n",
       "      <td>negative</td>\n",
       "    </tr>\n",
       "    <tr>\n",
       "      <th>2</th>\n",
       "      <td>positive</td>\n",
       "    </tr>\n",
       "    <tr>\n",
       "      <th>3</th>\n",
       "      <td>positive</td>\n",
       "    </tr>\n",
       "    <tr>\n",
       "      <th>4</th>\n",
       "      <td>negative</td>\n",
       "    </tr>\n",
       "    <tr>\n",
       "      <th>...</th>\n",
       "      <td>...</td>\n",
       "    </tr>\n",
       "    <tr>\n",
       "      <th>1040318</th>\n",
       "      <td>positive</td>\n",
       "    </tr>\n",
       "    <tr>\n",
       "      <th>1040319</th>\n",
       "      <td>negative</td>\n",
       "    </tr>\n",
       "    <tr>\n",
       "      <th>1040320</th>\n",
       "      <td>negative</td>\n",
       "    </tr>\n",
       "    <tr>\n",
       "      <th>1040321</th>\n",
       "      <td>positive</td>\n",
       "    </tr>\n",
       "    <tr>\n",
       "      <th>1040322</th>\n",
       "      <td>negative</td>\n",
       "    </tr>\n",
       "  </tbody>\n",
       "</table>\n",
       "<p>1040323 rows × 1 columns</p>\n",
       "</div>"
      ],
      "text/plain": [
       "           target\n",
       "id               \n",
       "0        positive\n",
       "1        negative\n",
       "2        positive\n",
       "3        positive\n",
       "4        negative\n",
       "...           ...\n",
       "1040318  positive\n",
       "1040319  negative\n",
       "1040320  negative\n",
       "1040321  positive\n",
       "1040322  negative\n",
       "\n",
       "[1040323 rows x 1 columns]"
      ]
     },
     "execution_count": 118,
     "metadata": {},
     "output_type": "execute_result"
    }
   ],
   "source": [
    "train_results"
   ]
  },
  {
   "cell_type": "code",
   "execution_count": 119,
   "id": "b9441f57",
   "metadata": {},
   "outputs": [
    {
     "data": {
      "text/plain": [
       "<AxesSubplot: xlabel='target', ylabel='count'>"
      ]
     },
     "execution_count": 119,
     "metadata": {},
     "output_type": "execute_result"
    },
    {
     "data": {
      "image/png": "[encoded data removed]",
      "text/plain": [
       "<Figure size 640x480 with 1 Axes>"
      ]
     },
     "metadata": {},
     "output_type": "display_data"
    }
   ],
   "source": [
    "import seaborn as sns\n",
    "sns.countplot(x=train_results[\"target\"])"
   ]
  },
  {
   "cell_type": "code",
   "execution_count": 120,
   "id": "0486e4a5",
   "metadata": {},
   "outputs": [],
   "source": [
    "from sklearn.model_selection import train_test_split"
   ]
  },
  {
   "cell_type": "code",
   "execution_count": 121,
   "id": "7fa2a231",
   "metadata": {},
   "outputs": [],
   "source": [
    "X_train, X_test, y_train, y_test = train_test_split(train_data, train_results, test_size=0.2, random_state = 10)"
   ]
  },
  {
   "cell_type": "code",
   "execution_count": 122,
   "id": "27df52d5",
   "metadata": {},
   "outputs": [],
   "source": [
    "# Setting a baseline"
   ]
  },
  {
   "cell_type": "code",
   "execution_count": 123,
   "id": "4245f9d3",
   "metadata": {},
   "outputs": [],
   "source": [
    "from sklearn.feature_extraction.text import CountVectorizer"
   ]
  },
  {
   "cell_type": "code",
   "execution_count": 124,
   "id": "e9fefeb7",
   "metadata": {},
   "outputs": [],
   "source": [
    "cv = CountVectorizer()\n",
    "X_train = cv.fit_transform(X_train['text'])"
   ]
  },
  {
   "cell_type": "code",
   "execution_count": 125,
   "id": "a3f5de98",
   "metadata": {},
   "outputs": [],
   "source": [
    "X_test = cv.transform(X_test['text'])"
   ]
  },
  {
   "cell_type": "code",
   "execution_count": 126,
   "id": "af37f2b5",
   "metadata": {},
   "outputs": [
    {
     "data": {
      "text/plain": [
       "<832258x439807 sparse matrix of type '<class 'numpy.int64'>'\n",
       "\twith 9879840 stored elements in Compressed Sparse Row format>"
      ]
     },
     "execution_count": 126,
     "metadata": {},
     "output_type": "execute_result"
    }
   ],
   "source": [
    "X_train"
   ]
  },
  {
   "cell_type": "code",
   "execution_count": 127,
   "id": "7d9dce8b",
   "metadata": {},
   "outputs": [],
   "source": [
    "from sklearn.preprocessing import LabelEncoder\n",
    "le = LabelEncoder()\n",
    "y_train = le.fit_transform(y_train[\"target\"].values)\n",
    "y_test = le.transform(y_test[\"target\"].values)"
   ]
  },
  {
   "cell_type": "code",
   "execution_count": 128,
   "id": "ce25e31b",
   "metadata": {},
   "outputs": [],
   "source": [
    "from sklearn.naive_bayes import MultinomialNB"
   ]
  },
  {
   "cell_type": "code",
   "execution_count": 129,
   "id": "f7727b7b",
   "metadata": {},
   "outputs": [
    {
     "data": {
      "text/html": [
       "<style>#sk-container-id-3 {color: black;background-color: white;}#sk-container-id-3 pre{padding: 0;}#sk-container-id-3 div.sk-toggleable {background-color: white;}#sk-container-id-3 label.sk-toggleable__label {cursor: pointer;display: block;width: 100%;margin-bottom: 0;padding: 0.3em;box-sizing: border-box;text-align: center;}#sk-container-id-3 label.sk-toggleable__label-arrow:before {content: \"▸\";float: left;margin-right: 0.25em;color: #696969;}#sk-container-id-3 label.sk-toggleable__label-arrow:hover:before {color: black;}#sk-container-id-3 div.sk-estimator:hover label.sk-toggleable__label-arrow:before {color: black;}#sk-container-id-3 div.sk-toggleable__content {max-height: 0;max-width: 0;overflow: hidden;text-align: left;background-color: #f0f8ff;}#sk-container-id-3 div.sk-toggleable__content pre {margin: 0.2em;color: black;border-radius: 0.25em;background-color: #f0f8ff;}#sk-container-id-3 input.sk-toggleable__control:checked~div.sk-toggleable__content {max-height: 200px;max-width: 100%;overflow: auto;}#sk-container-id-3 input.sk-toggleable__control:checked~label.sk-toggleable__label-arrow:before {content: \"▾\";}#sk-container-id-3 div.sk-estimator input.sk-toggleable__control:checked~label.sk-toggleable__label {background-color: #d4ebff;}#sk-container-id-3 div.sk-label input.sk-toggleable__control:checked~label.sk-toggleable__label {background-color: #d4ebff;}#sk-container-id-3 input.sk-hidden--visually {border: 0;clip: rect(1px 1px 1px 1px);clip: rect(1px, 1px, 1px, 1px);height: 1px;margin: -1px;overflow: hidden;padding: 0;position: absolute;width: 1px;}#sk-container-id-3 div.sk-estimator {font-family: monospace;background-color: #f0f8ff;border: 1px dotted black;border-radius: 0.25em;box-sizing: border-box;margin-bottom: 0.5em;}#sk-container-id-3 div.sk-estimator:hover {background-color: #d4ebff;}#sk-container-id-3 div.sk-parallel-item::after {content: \"\";width: 100%;border-bottom: 1px solid gray;flex-grow: 1;}#sk-container-id-3 div.sk-label:hover label.sk-toggleable__label {background-color: #d4ebff;}#sk-container-id-3 div.sk-serial::before {content: \"\";position: absolute;border-left: 1px solid gray;box-sizing: border-box;top: 0;bottom: 0;left: 50%;z-index: 0;}#sk-container-id-3 div.sk-serial {display: flex;flex-direction: column;align-items: center;background-color: white;padding-right: 0.2em;padding-left: 0.2em;position: relative;}#sk-container-id-3 div.sk-item {position: relative;z-index: 1;}#sk-container-id-3 div.sk-parallel {display: flex;align-items: stretch;justify-content: center;background-color: white;position: relative;}#sk-container-id-3 div.sk-item::before, #sk-container-id-3 div.sk-parallel-item::before {content: \"\";position: absolute;border-left: 1px solid gray;box-sizing: border-box;top: 0;bottom: 0;left: 50%;z-index: -1;}#sk-container-id-3 div.sk-parallel-item {display: flex;flex-direction: column;z-index: 1;position: relative;background-color: white;}#sk-container-id-3 div.sk-parallel-item:first-child::after {align-self: flex-end;width: 50%;}#sk-container-id-3 div.sk-parallel-item:last-child::after {align-self: flex-start;width: 50%;}#sk-container-id-3 div.sk-parallel-item:only-child::after {width: 0;}#sk-container-id-3 div.sk-dashed-wrapped {border: 1px dashed gray;margin: 0 0.4em 0.5em 0.4em;box-sizing: border-box;padding-bottom: 0.4em;background-color: white;}#sk-container-id-3 div.sk-label label {font-family: monospace;font-weight: bold;display: inline-block;line-height: 1.2em;}#sk-container-id-3 div.sk-label-container {text-align: center;}#sk-container-id-3 div.sk-container {/* jupyter's `normalize.less` sets `[hidden] { display: none; }` but bootstrap.min.css set `[hidden] { display: none !important; }` so we also need the `!important` here to be able to override the default hidden behavior on the sphinx rendered scikit-learn.org. See: https://github.com/scikit-learn/scikit-learn/issues/21755 */display: inline-block !important;position: relative;}#sk-container-id-3 div.sk-text-repr-fallback {display: none;}</style><div id=\"sk-container-id-3\" class=\"sk-top-container\"><div class=\"sk-text-repr-fallback\"><pre>MultinomialNB()</pre><b>In a Jupyter environment, please rerun this cell to show the HTML representation or trust the notebook. <br />On GitHub, the HTML representation is unable to render, please try loading this page with nbviewer.org.</b></div><div class=\"sk-container\" hidden><div class=\"sk-item\"><div class=\"sk-estimator sk-toggleable\"><input class=\"sk-toggleable__control sk-hidden--visually\" id=\"sk-estimator-id-3\" type=\"checkbox\" checked><label for=\"sk-estimator-id-3\" class=\"sk-toggleable__label sk-toggleable__label-arrow\">MultinomialNB</label><div class=\"sk-toggleable__content\"><pre>MultinomialNB()</pre></div></div></div></div></div>"
      ],
      "text/plain": [
       "MultinomialNB()"
      ]
     },
     "execution_count": 129,
     "metadata": {},
     "output_type": "execute_result"
    }
   ],
   "source": [
    "nb = MultinomialNB()\n",
    "nb.fit(X_train, y_train)"
   ]
  },
  {
   "cell_type": "code",
   "execution_count": 130,
   "id": "61c8a640",
   "metadata": {},
   "outputs": [],
   "source": [
    "y_pred = nb.predict(X_test)"
   ]
  },
  {
   "cell_type": "code",
   "execution_count": 131,
   "id": "1ce2d8a1",
   "metadata": {},
   "outputs": [],
   "source": [
    "from sklearn.metrics import accuracy_score, f1_score, roc_auc_score, confusion_matrix, classification_report"
   ]
  },
  {
   "cell_type": "code",
   "execution_count": 132,
   "id": "faf76c05",
   "metadata": {},
   "outputs": [
    {
     "name": "stdout",
     "output_type": "stream",
     "text": [
      "0.7795448537716579\n",
      "[[85260     3 18830]\n",
      " [    3     0    13]\n",
      " [27018     2 76936]]\n",
      "              precision    recall  f1-score   support\n",
      "\n",
      "           0       0.76      0.82      0.79    104093\n",
      "           1       0.00      0.00      0.00        16\n",
      "           2       0.80      0.74      0.77    103956\n",
      "\n",
      "    accuracy                           0.78    208065\n",
      "   macro avg       0.52      0.52      0.52    208065\n",
      "weighted avg       0.78      0.78      0.78    208065\n",
      "\n"
     ]
    }
   ],
   "source": [
    "print(accuracy_score(y_test, y_pred))\n",
    "# print(f1_score(y_test, y_pred))\n",
    "# print(roc_auc_score(y_test, y_pred))\n",
    "print(confusion_matrix(y_test, y_pred))\n",
    "print(classification_report(y_test, y_pred))"
   ]
  },
  {
   "cell_type": "code",
   "execution_count": 133,
   "id": "2c121411",
   "metadata": {},
   "outputs": [],
   "source": [
    "y_train_pred = nb.predict(X_train)"
   ]
  },
  {
   "cell_type": "code",
   "execution_count": 134,
   "id": "2ab2450b",
   "metadata": {},
   "outputs": [
    {
     "name": "stdout",
     "output_type": "stream",
     "text": [
      "0.8376945610615939\n",
      "[[363037     29  52644]\n",
      " [    13      0     55]\n",
      " [ 82266     73 334141]]\n",
      "              precision    recall  f1-score   support\n",
      "\n",
      "           0       0.82      0.87      0.84    415710\n",
      "           1       0.00      0.00      0.00        68\n",
      "           2       0.86      0.80      0.83    416480\n",
      "\n",
      "    accuracy                           0.84    832258\n",
      "   macro avg       0.56      0.56      0.56    832258\n",
      "weighted avg       0.84      0.84      0.84    832258\n",
      "\n"
     ]
    }
   ],
   "source": [
    "print(accuracy_score(y_train, y_train_pred))\n",
    "# print(f1_score(y_test, y_pred))\n",
    "# print(roc_auc_score(y_test, y_pred))\n",
    "print(confusion_matrix(y_train, y_train_pred))\n",
    "print(classification_report(y_train, y_train_pred))"
   ]
  },
  {
   "cell_type": "code",
   "execution_count": null,
   "id": "c24f7360",
   "metadata": {},
   "outputs": [],
   "source": []
  },
  {
   "cell_type": "code",
   "execution_count": null,
   "id": "54e84f44",
   "metadata": {},
   "outputs": [],
   "source": []
  },
  {
   "cell_type": "code",
   "execution_count": null,
   "id": "835fe874",
   "metadata": {},
   "outputs": [],
   "source": []
  },
  {
   "cell_type": "code",
   "execution_count": 136,
   "id": "f646d5d5",
   "metadata": {},
   "outputs": [],
   "source": [
    "import pandas as pd\n",
    "from utilities.preprocessing import load_modeling_data"
   ]
  },
  {
   "cell_type": "code",
   "execution_count": 137,
   "id": "406401ad",
   "metadata": {},
   "outputs": [],
   "source": [
    "X_train,X_test,y_train, y_test= load_modeling_data()"
   ]
  },
  {
   "cell_type": "code",
   "execution_count": 138,
   "id": "a720bb7c",
   "metadata": {},
   "outputs": [],
   "source": [
    "from sklearn.preprocessing import LabelEncoder"
   ]
  },
  {
   "cell_type": "code",
   "execution_count": 139,
   "id": "66cfe11f",
   "metadata": {},
   "outputs": [],
   "source": [
    "le = LabelEncoder()\n",
    "y_train = le.fit_transform(y_train['target'])\n",
    "y_test = le.transform(y_test['target'])"
   ]
  },
  {
   "cell_type": "code",
   "execution_count": 140,
   "id": "2012ec3d",
   "metadata": {},
   "outputs": [],
   "source": [
    "# preprocessing"
   ]
  },
  {
   "cell_type": "code",
   "execution_count": 141,
   "id": "810218da",
   "metadata": {},
   "outputs": [],
   "source": [
    "#  lowering the cases"
   ]
  },
  {
   "cell_type": "code",
   "execution_count": 142,
   "id": "51dd7bae",
   "metadata": {},
   "outputs": [
    {
     "data": {
      "text/html": [
       "<div>\n",
       "<style scoped>\n",
       "    .dataframe tbody tr th:only-of-type {\n",
       "        vertical-align: middle;\n",
       "    }\n",
       "\n",
       "    .dataframe tbody tr th {\n",
       "        vertical-align: top;\n",
       "    }\n",
       "\n",
       "    .dataframe thead th {\n",
       "        text-align: right;\n",
       "    }\n",
       "</style>\n",
       "<table border=\"1\" class=\"dataframe\">\n",
       "  <thead>\n",
       "    <tr style=\"text-align: right;\">\n",
       "      <th></th>\n",
       "      <th>text</th>\n",
       "    </tr>\n",
       "    <tr>\n",
       "      <th>id</th>\n",
       "      <th></th>\n",
       "    </tr>\n",
       "  </thead>\n",
       "  <tbody>\n",
       "    <tr>\n",
       "      <th>261447</th>\n",
       "      <td>@grapejellykelly that is always the plan! alwa...</td>\n",
       "    </tr>\n",
       "    <tr>\n",
       "      <th>496136</th>\n",
       "      <td>spent night w/the boys. j&amp;amp;s, watched ron w...</td>\n",
       "    </tr>\n",
       "    <tr>\n",
       "      <th>268354</th>\n",
       "      <td>@indigofish911 ooooh! i thought eggos were som...</td>\n",
       "    </tr>\n",
       "    <tr>\n",
       "      <th>458785</th>\n",
       "      <td>mane... watta f'cking party... feels good tho....</td>\n",
       "    </tr>\n",
       "    <tr>\n",
       "      <th>455437</th>\n",
       "      <td>rrrggghh.. afternoon meeting and soo hard to g...</td>\n",
       "    </tr>\n",
       "    <tr>\n",
       "      <th>...</th>\n",
       "      <td>...</td>\n",
       "    </tr>\n",
       "    <tr>\n",
       "      <th>617841</th>\n",
       "      <td>@fox10spotlight hey fox10, i only have about 3...</td>\n",
       "    </tr>\n",
       "    <tr>\n",
       "      <th>443712</th>\n",
       "      <td>@its_krissy3 yes sad but true mikey show just ...</td>\n",
       "    </tr>\n",
       "    <tr>\n",
       "      <th>881167</th>\n",
       "      <td>high pitch whine of my cpu all day - really sh...</td>\n",
       "    </tr>\n",
       "    <tr>\n",
       "      <th>760957</th>\n",
       "      <td>goin to tha doctor!!  kinda nervous tho..</td>\n",
       "    </tr>\n",
       "    <tr>\n",
       "      <th>345353</th>\n",
       "      <td>nothing like some delicious orange juice in th...</td>\n",
       "    </tr>\n",
       "  </tbody>\n",
       "</table>\n",
       "<p>832258 rows × 1 columns</p>\n",
       "</div>"
      ],
      "text/plain": [
       "                                                     text\n",
       "id                                                       \n",
       "261447  @grapejellykelly that is always the plan! alwa...\n",
       "496136  spent night w/the boys. j&amp;s, watched ron w...\n",
       "268354  @indigofish911 ooooh! i thought eggos were som...\n",
       "458785  mane... watta f'cking party... feels good tho....\n",
       "455437  rrrggghh.. afternoon meeting and soo hard to g...\n",
       "...                                                   ...\n",
       "617841  @fox10spotlight hey fox10, i only have about 3...\n",
       "443712  @its_krissy3 yes sad but true mikey show just ...\n",
       "881167  high pitch whine of my cpu all day - really sh...\n",
       "760957          goin to tha doctor!!  kinda nervous tho..\n",
       "345353  nothing like some delicious orange juice in th...\n",
       "\n",
       "[832258 rows x 1 columns]"
      ]
     },
     "execution_count": 142,
     "metadata": {},
     "output_type": "execute_result"
    }
   ],
   "source": [
    "X_train['text'] = X_train['text'].apply(lambda x: x.lower())\n",
    "X_train"
   ]
  },
  {
   "cell_type": "code",
   "execution_count": 143,
   "id": "186ac548",
   "metadata": {},
   "outputs": [],
   "source": [
    "X_test['text'] =X_test['text'].apply(lambda x: x.lower())"
   ]
  },
  {
   "cell_type": "code",
   "execution_count": 144,
   "id": "6ffb1ade",
   "metadata": {},
   "outputs": [],
   "source": [
    "#library that contains punctuation\n",
    "import string\n",
    "\n",
    "def remove_punctuation(text):\n",
    "    punctuationfree=\"\".join([i for i in text if i not in string.punctuation])\n",
    "    return punctuationfree\n",
    "#storing the puntuation free text\n",
    "# X_train['text']= data['v2'].apply(lambda x:remove_punctuation(x))\n",
    "# data.head()"
   ]
  },
  {
   "cell_type": "code",
   "execution_count": 145,
   "id": "330992fc",
   "metadata": {},
   "outputs": [
    {
     "data": {
      "text/html": [
       "<div>\n",
       "<style scoped>\n",
       "    .dataframe tbody tr th:only-of-type {\n",
       "        vertical-align: middle;\n",
       "    }\n",
       "\n",
       "    .dataframe tbody tr th {\n",
       "        vertical-align: top;\n",
       "    }\n",
       "\n",
       "    .dataframe thead th {\n",
       "        text-align: right;\n",
       "    }\n",
       "</style>\n",
       "<table border=\"1\" class=\"dataframe\">\n",
       "  <thead>\n",
       "    <tr style=\"text-align: right;\">\n",
       "      <th></th>\n",
       "      <th>text</th>\n",
       "    </tr>\n",
       "    <tr>\n",
       "      <th>id</th>\n",
       "      <th></th>\n",
       "    </tr>\n",
       "  </thead>\n",
       "  <tbody>\n",
       "    <tr>\n",
       "      <th>261447</th>\n",
       "      <td>grapejellykelly that is always the plan always...</td>\n",
       "    </tr>\n",
       "    <tr>\n",
       "      <th>496136</th>\n",
       "      <td>spent night wthe boys jamps watched ron white ...</td>\n",
       "    </tr>\n",
       "    <tr>\n",
       "      <th>268354</th>\n",
       "      <td>indigofish911 ooooh i thought eggos were some ...</td>\n",
       "    </tr>\n",
       "    <tr>\n",
       "      <th>458785</th>\n",
       "      <td>mane watta fcking party feels good tho oh yea ...</td>\n",
       "    </tr>\n",
       "    <tr>\n",
       "      <th>455437</th>\n",
       "      <td>rrrggghh afternoon meeting and soo hard to get...</td>\n",
       "    </tr>\n",
       "    <tr>\n",
       "      <th>...</th>\n",
       "      <td>...</td>\n",
       "    </tr>\n",
       "    <tr>\n",
       "      <th>617841</th>\n",
       "      <td>fox10spotlight hey fox10 i only have about 35 ...</td>\n",
       "    </tr>\n",
       "    <tr>\n",
       "      <th>443712</th>\n",
       "      <td>itskrissy3 yes sad but true mikey show just re...</td>\n",
       "    </tr>\n",
       "    <tr>\n",
       "      <th>881167</th>\n",
       "      <td>high pitch whine of my cpu all day  really sho...</td>\n",
       "    </tr>\n",
       "    <tr>\n",
       "      <th>760957</th>\n",
       "      <td>goin to tha doctor  kinda nervous tho</td>\n",
       "    </tr>\n",
       "    <tr>\n",
       "      <th>345353</th>\n",
       "      <td>nothing like some delicious orange juice in th...</td>\n",
       "    </tr>\n",
       "  </tbody>\n",
       "</table>\n",
       "<p>832258 rows × 1 columns</p>\n",
       "</div>"
      ],
      "text/plain": [
       "                                                     text\n",
       "id                                                       \n",
       "261447  grapejellykelly that is always the plan always...\n",
       "496136  spent night wthe boys jamps watched ron white ...\n",
       "268354  indigofish911 ooooh i thought eggos were some ...\n",
       "458785  mane watta fcking party feels good tho oh yea ...\n",
       "455437  rrrggghh afternoon meeting and soo hard to get...\n",
       "...                                                   ...\n",
       "617841  fox10spotlight hey fox10 i only have about 35 ...\n",
       "443712  itskrissy3 yes sad but true mikey show just re...\n",
       "881167  high pitch whine of my cpu all day  really sho...\n",
       "760957              goin to tha doctor  kinda nervous tho\n",
       "345353  nothing like some delicious orange juice in th...\n",
       "\n",
       "[832258 rows x 1 columns]"
      ]
     },
     "execution_count": 145,
     "metadata": {},
     "output_type": "execute_result"
    }
   ],
   "source": [
    "X_train['text'] = X_train['text'].apply(lambda x: remove_punctuation(x))\n",
    "X_train"
   ]
  },
  {
   "cell_type": "code",
   "execution_count": 146,
   "id": "567d281c",
   "metadata": {},
   "outputs": [],
   "source": [
    "X_test['text']= X_test['text'].apply(lambda x: remove_punctuation(x))"
   ]
  },
  {
   "cell_type": "code",
   "execution_count": 147,
   "id": "cbff8bea",
   "metadata": {},
   "outputs": [],
   "source": [
    "import nltk\n",
    "stopwords = nltk.corpus.stopwords.words('english')"
   ]
  },
  {
   "cell_type": "code",
   "execution_count": 148,
   "id": "e6fe7bfc",
   "metadata": {},
   "outputs": [],
   "source": [
    "def remove_stopwords(text):\n",
    "    ls = text.split(' ')\n",
    "    output= [i for i in ls if i not in stopwords]\n",
    "    output = ' '.join(output)\n",
    "    return output"
   ]
  },
  {
   "cell_type": "code",
   "execution_count": 149,
   "id": "f43f54ae",
   "metadata": {},
   "outputs": [],
   "source": [
    "X_train['text'] =X_train['text'].apply(lambda x: remove_stopwords(x))"
   ]
  },
  {
   "cell_type": "code",
   "execution_count": 150,
   "id": "813b314c",
   "metadata": {},
   "outputs": [],
   "source": [
    "X_test['text'] =X_test['text'].apply(lambda x: remove_stopwords(x))"
   ]
  },
  {
   "cell_type": "code",
   "execution_count": 151,
   "id": "ba185df6",
   "metadata": {},
   "outputs": [
    {
     "data": {
      "text/html": [
       "<div>\n",
       "<style scoped>\n",
       "    .dataframe tbody tr th:only-of-type {\n",
       "        vertical-align: middle;\n",
       "    }\n",
       "\n",
       "    .dataframe tbody tr th {\n",
       "        vertical-align: top;\n",
       "    }\n",
       "\n",
       "    .dataframe thead th {\n",
       "        text-align: right;\n",
       "    }\n",
       "</style>\n",
       "<table border=\"1\" class=\"dataframe\">\n",
       "  <thead>\n",
       "    <tr style=\"text-align: right;\">\n",
       "      <th></th>\n",
       "      <th>text</th>\n",
       "    </tr>\n",
       "    <tr>\n",
       "      <th>id</th>\n",
       "      <th></th>\n",
       "    </tr>\n",
       "  </thead>\n",
       "  <tbody>\n",
       "    <tr>\n",
       "      <th>261447</th>\n",
       "      <td>grapejellykelly always plan always plan</td>\n",
       "    </tr>\n",
       "    <tr>\n",
       "      <th>496136</th>\n",
       "      <td>spent night wthe boys jamps watched ron white ...</td>\n",
       "    </tr>\n",
       "    <tr>\n",
       "      <th>268354</th>\n",
       "      <td>indigofish911 ooooh thought eggos kind synthet...</td>\n",
       "    </tr>\n",
       "    <tr>\n",
       "      <th>458785</th>\n",
       "      <td>mane watta fcking party feels good tho oh yea ...</td>\n",
       "    </tr>\n",
       "    <tr>\n",
       "      <th>455437</th>\n",
       "      <td>rrrggghh afternoon meeting soo hard get everyb...</td>\n",
       "    </tr>\n",
       "    <tr>\n",
       "      <th>...</th>\n",
       "      <td>...</td>\n",
       "    </tr>\n",
       "    <tr>\n",
       "      <th>617841</th>\n",
       "      <td>fox10spotlight hey fox10 35 tweeters mobile so...</td>\n",
       "    </tr>\n",
       "    <tr>\n",
       "      <th>443712</th>\n",
       "      <td>itskrissy3 yes sad true mikey show reported he...</td>\n",
       "    </tr>\n",
       "    <tr>\n",
       "      <th>881167</th>\n",
       "      <td>high pitch whine cpu day  really get new one t...</td>\n",
       "    </tr>\n",
       "    <tr>\n",
       "      <th>760957</th>\n",
       "      <td>goin tha doctor  kinda nervous tho</td>\n",
       "    </tr>\n",
       "    <tr>\n",
       "      <th>345353</th>\n",
       "      <td>nothing like delicious orange juice morning  w...</td>\n",
       "    </tr>\n",
       "  </tbody>\n",
       "</table>\n",
       "<p>832258 rows × 1 columns</p>\n",
       "</div>"
      ],
      "text/plain": [
       "                                                     text\n",
       "id                                                       \n",
       "261447           grapejellykelly always plan always plan \n",
       "496136  spent night wthe boys jamps watched ron white ...\n",
       "268354  indigofish911 ooooh thought eggos kind synthet...\n",
       "458785  mane watta fcking party feels good tho oh yea ...\n",
       "455437  rrrggghh afternoon meeting soo hard get everyb...\n",
       "...                                                   ...\n",
       "617841  fox10spotlight hey fox10 35 tweeters mobile so...\n",
       "443712  itskrissy3 yes sad true mikey show reported he...\n",
       "881167  high pitch whine cpu day  really get new one t...\n",
       "760957                 goin tha doctor  kinda nervous tho\n",
       "345353  nothing like delicious orange juice morning  w...\n",
       "\n",
       "[832258 rows x 1 columns]"
      ]
     },
     "execution_count": 151,
     "metadata": {},
     "output_type": "execute_result"
    }
   ],
   "source": [
    "X_train"
   ]
  },
  {
   "cell_type": "code",
   "execution_count": 152,
   "id": "44294641",
   "metadata": {},
   "outputs": [],
   "source": [
    "# #importing the Stemming function from nltk library\n",
    "# from nltk.stem.porter import PorterStemmer\n",
    "# #defining the object for stemming\n",
    "# porter_stemmer = PorterStemmer()"
   ]
  },
  {
   "cell_type": "code",
   "execution_count": 155,
   "id": "ea4847e4",
   "metadata": {},
   "outputs": [],
   "source": [
    "# def stemming(text):\n",
    "#     stem_text = [porter_stemmer.stem(word) for word in text.split()]\n",
    "#     return ' '.join(stem_text)"
   ]
  },
  {
   "cell_type": "code",
   "execution_count": 156,
   "id": "8290f47e",
   "metadata": {},
   "outputs": [
    {
     "data": {
      "text/html": [
       "<div>\n",
       "<style scoped>\n",
       "    .dataframe tbody tr th:only-of-type {\n",
       "        vertical-align: middle;\n",
       "    }\n",
       "\n",
       "    .dataframe tbody tr th {\n",
       "        vertical-align: top;\n",
       "    }\n",
       "\n",
       "    .dataframe thead th {\n",
       "        text-align: right;\n",
       "    }\n",
       "</style>\n",
       "<table border=\"1\" class=\"dataframe\">\n",
       "  <thead>\n",
       "    <tr style=\"text-align: right;\">\n",
       "      <th></th>\n",
       "      <th>text</th>\n",
       "    </tr>\n",
       "    <tr>\n",
       "      <th>id</th>\n",
       "      <th></th>\n",
       "    </tr>\n",
       "  </thead>\n",
       "  <tbody>\n",
       "    <tr>\n",
       "      <th>261447</th>\n",
       "      <td>grapejellykelli alway plan alway plan</td>\n",
       "    </tr>\n",
       "    <tr>\n",
       "      <th>496136</th>\n",
       "      <td>spent night wthe boy jamp watch ron white come...</td>\n",
       "    </tr>\n",
       "    <tr>\n",
       "      <th>268354</th>\n",
       "      <td>indigofish911 ooooh thought eggo kind synthet ...</td>\n",
       "    </tr>\n",
       "    <tr>\n",
       "      <th>458785</th>\n",
       "      <td>mane watta fcking parti feel good tho oh yea g...</td>\n",
       "    </tr>\n",
       "    <tr>\n",
       "      <th>455437</th>\n",
       "      <td>rrrggghh afternoon meet soo hard get everybodi...</td>\n",
       "    </tr>\n",
       "    <tr>\n",
       "      <th>...</th>\n",
       "      <td>...</td>\n",
       "    </tr>\n",
       "    <tr>\n",
       "      <th>617841</th>\n",
       "      <td>fox10spotlight hey fox10 35 tweeter mobil sorr...</td>\n",
       "    </tr>\n",
       "    <tr>\n",
       "      <th>443712</th>\n",
       "      <td>itskrissy3 ye sad true mikey show report hey s...</td>\n",
       "    </tr>\n",
       "    <tr>\n",
       "      <th>881167</th>\n",
       "      <td>high pitch whine cpu day realli get new one te...</td>\n",
       "    </tr>\n",
       "    <tr>\n",
       "      <th>760957</th>\n",
       "      <td>goin tha doctor kinda nervou tho</td>\n",
       "    </tr>\n",
       "    <tr>\n",
       "      <th>345353</th>\n",
       "      <td>noth like delici orang juic morn work everyon ...</td>\n",
       "    </tr>\n",
       "  </tbody>\n",
       "</table>\n",
       "<p>832258 rows × 1 columns</p>\n",
       "</div>"
      ],
      "text/plain": [
       "                                                     text\n",
       "id                                                       \n",
       "261447              grapejellykelli alway plan alway plan\n",
       "496136  spent night wthe boy jamp watch ron white come...\n",
       "268354  indigofish911 ooooh thought eggo kind synthet ...\n",
       "458785  mane watta fcking parti feel good tho oh yea g...\n",
       "455437  rrrggghh afternoon meet soo hard get everybodi...\n",
       "...                                                   ...\n",
       "617841  fox10spotlight hey fox10 35 tweeter mobil sorr...\n",
       "443712  itskrissy3 ye sad true mikey show report hey s...\n",
       "881167  high pitch whine cpu day realli get new one te...\n",
       "760957                   goin tha doctor kinda nervou tho\n",
       "345353  noth like delici orang juic morn work everyon ...\n",
       "\n",
       "[832258 rows x 1 columns]"
      ]
     },
     "execution_count": 156,
     "metadata": {},
     "output_type": "execute_result"
    }
   ],
   "source": [
    "# X_train['text'] = X_train['text'].apply(lambda x: stemming(x))\n",
    "# X_train"
   ]
  },
  {
   "cell_type": "code",
   "execution_count": 157,
   "id": "b732eb12",
   "metadata": {},
   "outputs": [],
   "source": [
    "# X_test['text']=X_test['text'].apply(lambda x: stemming(x))"
   ]
  },
  {
   "cell_type": "code",
   "execution_count": 158,
   "id": "11e604fc",
   "metadata": {},
   "outputs": [],
   "source": [
    "from nltk.stem import WordNetLemmatizer\n",
    "#defining the object for Lemmatization\n",
    "wordnet_lemmatizer = WordNetLemmatizer()"
   ]
  },
  {
   "cell_type": "code",
   "execution_count": 159,
   "id": "581452b5",
   "metadata": {},
   "outputs": [],
   "source": [
    "def lemmatizer(text):\n",
    "    lemm_text = [wordnet_lemmatizer.lemmatize(word) for word in text.split(' ')]\n",
    "    return ' '.join(lemm_text)"
   ]
  },
  {
   "cell_type": "code",
   "execution_count": 160,
   "id": "d5cb0b27",
   "metadata": {},
   "outputs": [],
   "source": [
    "X_train['text'] = X_train['text'].apply(lambda x: lemmatizer(x))\n",
    "X_train"
   ]
  },
  {
   "cell_type": "code",
   "execution_count": 161,
   "id": "6c089374",
   "metadata": {},
   "outputs": [],
   "source": [
    "X_test['text'] = X_test['text'].apply(lambda x: lemmatizer(x))"
   ]
  },
  {
   "cell_type": "code",
   "execution_count": null,
   "id": "4a707b19",
   "metadata": {},
   "outputs": [],
   "source": []
  },
  {
   "cell_type": "code",
   "execution_count": 162,
   "id": "e6d39ca0",
   "metadata": {},
   "outputs": [],
   "source": [
    "from sklearn.feature_extraction.text import CountVectorizer"
   ]
  },
  {
   "cell_type": "code",
   "execution_count": 163,
   "id": "9c51750e",
   "metadata": {},
   "outputs": [],
   "source": [
    "cv = CountVectorizer()"
   ]
  },
  {
   "cell_type": "code",
   "execution_count": 164,
   "id": "9ef35db0",
   "metadata": {},
   "outputs": [],
   "source": [
    "X_train = cv.fit_transform(X_train['text'].values)"
   ]
  },
  {
   "cell_type": "code",
   "execution_count": 165,
   "id": "8e059ac3",
   "metadata": {},
   "outputs": [],
   "source": [
    "X_test = cv.transform(X_test['text'].values)"
   ]
  },
  {
   "cell_type": "code",
   "execution_count": 166,
   "id": "2b2e2724",
   "metadata": {},
   "outputs": [],
   "source": [
    "from sklearn.naive_bayes import MultinomialNB"
   ]
  },
  {
   "cell_type": "code",
   "execution_count": 167,
   "id": "c4fdc638",
   "metadata": {},
   "outputs": [],
   "source": [
    "nb = MultinomialNB()"
   ]
  },
  {
   "cell_type": "code",
   "execution_count": 168,
   "id": "7842eb25",
   "metadata": {},
   "outputs": [
    {
     "data": {
      "text/html": [
       "<style>#sk-container-id-4 {color: black;background-color: white;}#sk-container-id-4 pre{padding: 0;}#sk-container-id-4 div.sk-toggleable {background-color: white;}#sk-container-id-4 label.sk-toggleable__label {cursor: pointer;display: block;width: 100%;margin-bottom: 0;padding: 0.3em;box-sizing: border-box;text-align: center;}#sk-container-id-4 label.sk-toggleable__label-arrow:before {content: \"▸\";float: left;margin-right: 0.25em;color: #696969;}#sk-container-id-4 label.sk-toggleable__label-arrow:hover:before {color: black;}#sk-container-id-4 div.sk-estimator:hover label.sk-toggleable__label-arrow:before {color: black;}#sk-container-id-4 div.sk-toggleable__content {max-height: 0;max-width: 0;overflow: hidden;text-align: left;background-color: #f0f8ff;}#sk-container-id-4 div.sk-toggleable__content pre {margin: 0.2em;color: black;border-radius: 0.25em;background-color: #f0f8ff;}#sk-container-id-4 input.sk-toggleable__control:checked~div.sk-toggleable__content {max-height: 200px;max-width: 100%;overflow: auto;}#sk-container-id-4 input.sk-toggleable__control:checked~label.sk-toggleable__label-arrow:before {content: \"▾\";}#sk-container-id-4 div.sk-estimator input.sk-toggleable__control:checked~label.sk-toggleable__label {background-color: #d4ebff;}#sk-container-id-4 div.sk-label input.sk-toggleable__control:checked~label.sk-toggleable__label {background-color: #d4ebff;}#sk-container-id-4 input.sk-hidden--visually {border: 0;clip: rect(1px 1px 1px 1px);clip: rect(1px, 1px, 1px, 1px);height: 1px;margin: -1px;overflow: hidden;padding: 0;position: absolute;width: 1px;}#sk-container-id-4 div.sk-estimator {font-family: monospace;background-color: #f0f8ff;border: 1px dotted black;border-radius: 0.25em;box-sizing: border-box;margin-bottom: 0.5em;}#sk-container-id-4 div.sk-estimator:hover {background-color: #d4ebff;}#sk-container-id-4 div.sk-parallel-item::after {content: \"\";width: 100%;border-bottom: 1px solid gray;flex-grow: 1;}#sk-container-id-4 div.sk-label:hover label.sk-toggleable__label {background-color: #d4ebff;}#sk-container-id-4 div.sk-serial::before {content: \"\";position: absolute;border-left: 1px solid gray;box-sizing: border-box;top: 0;bottom: 0;left: 50%;z-index: 0;}#sk-container-id-4 div.sk-serial {display: flex;flex-direction: column;align-items: center;background-color: white;padding-right: 0.2em;padding-left: 0.2em;position: relative;}#sk-container-id-4 div.sk-item {position: relative;z-index: 1;}#sk-container-id-4 div.sk-parallel {display: flex;align-items: stretch;justify-content: center;background-color: white;position: relative;}#sk-container-id-4 div.sk-item::before, #sk-container-id-4 div.sk-parallel-item::before {content: \"\";position: absolute;border-left: 1px solid gray;box-sizing: border-box;top: 0;bottom: 0;left: 50%;z-index: -1;}#sk-container-id-4 div.sk-parallel-item {display: flex;flex-direction: column;z-index: 1;position: relative;background-color: white;}#sk-container-id-4 div.sk-parallel-item:first-child::after {align-self: flex-end;width: 50%;}#sk-container-id-4 div.sk-parallel-item:last-child::after {align-self: flex-start;width: 50%;}#sk-container-id-4 div.sk-parallel-item:only-child::after {width: 0;}#sk-container-id-4 div.sk-dashed-wrapped {border: 1px dashed gray;margin: 0 0.4em 0.5em 0.4em;box-sizing: border-box;padding-bottom: 0.4em;background-color: white;}#sk-container-id-4 div.sk-label label {font-family: monospace;font-weight: bold;display: inline-block;line-height: 1.2em;}#sk-container-id-4 div.sk-label-container {text-align: center;}#sk-container-id-4 div.sk-container {/* jupyter's `normalize.less` sets `[hidden] { display: none; }` but bootstrap.min.css set `[hidden] { display: none !important; }` so we also need the `!important` here to be able to override the default hidden behavior on the sphinx rendered scikit-learn.org. See: https://github.com/scikit-learn/scikit-learn/issues/21755 */display: inline-block !important;position: relative;}#sk-container-id-4 div.sk-text-repr-fallback {display: none;}</style><div id=\"sk-container-id-4\" class=\"sk-top-container\"><div class=\"sk-text-repr-fallback\"><pre>MultinomialNB()</pre><b>In a Jupyter environment, please rerun this cell to show the HTML representation or trust the notebook. <br />On GitHub, the HTML representation is unable to render, please try loading this page with nbviewer.org.</b></div><div class=\"sk-container\" hidden><div class=\"sk-item\"><div class=\"sk-estimator sk-toggleable\"><input class=\"sk-toggleable__control sk-hidden--visually\" id=\"sk-estimator-id-4\" type=\"checkbox\" checked><label for=\"sk-estimator-id-4\" class=\"sk-toggleable__label sk-toggleable__label-arrow\">MultinomialNB</label><div class=\"sk-toggleable__content\"><pre>MultinomialNB()</pre></div></div></div></div></div>"
      ],
      "text/plain": [
       "MultinomialNB()"
      ]
     },
     "execution_count": 168,
     "metadata": {},
     "output_type": "execute_result"
    }
   ],
   "source": [
    "nb.fit(X_train, y_train)"
   ]
  },
  {
   "cell_type": "code",
   "execution_count": 169,
   "id": "e2cca7ab",
   "metadata": {},
   "outputs": [],
   "source": [
    "y_pred = nb.predict(X_test)"
   ]
  },
  {
   "cell_type": "code",
   "execution_count": 170,
   "id": "a189c9a9",
   "metadata": {},
   "outputs": [],
   "source": [
    "from sklearn.metrics import accuracy_score, classification_report, confusion_matrix"
   ]
  },
  {
   "cell_type": "code",
   "execution_count": 171,
   "id": "3605a7c8",
   "metadata": {},
   "outputs": [
    {
     "name": "stdout",
     "output_type": "stream",
     "text": [
      "0.7677072068824646\n",
      "[[83533     1 20559]\n",
      " [    3     0    13]\n",
      " [27756     0 76200]]\n",
      "              precision    recall  f1-score   support\n",
      "\n",
      "           0       0.75      0.80      0.78    104093\n",
      "           1       0.00      0.00      0.00        16\n",
      "           2       0.79      0.73      0.76    103956\n",
      "\n",
      "    accuracy                           0.77    208065\n",
      "   macro avg       0.51      0.51      0.51    208065\n",
      "weighted avg       0.77      0.77      0.77    208065\n",
      "\n"
     ]
    }
   ],
   "source": [
    "print(accuracy_score(y_test, y_pred))\n",
    "print(confusion_matrix(y_test, y_pred))\n",
    "print(classification_report(y_test, y_pred))"
   ]
  },
  {
   "cell_type": "code",
   "execution_count": 172,
   "id": "e91ca944",
   "metadata": {},
   "outputs": [],
   "source": [
    "y_train_pred = nb.predict(X_train)"
   ]
  },
  {
   "cell_type": "code",
   "execution_count": 173,
   "id": "f21e4adb",
   "metadata": {},
   "outputs": [
    {
     "name": "stdout",
     "output_type": "stream",
     "text": [
      "0.8404112666985478\n",
      "[[361106     10  54594]\n",
      " [    27      0     41]\n",
      " [ 78131     16 338333]]\n",
      "              precision    recall  f1-score   support\n",
      "\n",
      "           0       0.82      0.87      0.84    415710\n",
      "           1       0.00      0.00      0.00        68\n",
      "           2       0.86      0.81      0.84    416480\n",
      "\n",
      "    accuracy                           0.84    832258\n",
      "   macro avg       0.56      0.56      0.56    832258\n",
      "weighted avg       0.84      0.84      0.84    832258\n",
      "\n"
     ]
    }
   ],
   "source": [
    "print(accuracy_score(y_train, y_train_pred))\n",
    "# print(f1_score(y_test, y_pred))\n",
    "# print(roc_auc_score(y_test, y_pred))\n",
    "print(confusion_matrix(y_train, y_train_pred))\n",
    "print(classification_report(y_train, y_train_pred))"
   ]
  },
  {
   "cell_type": "code",
   "execution_count": 174,
   "id": "ba02b9e0",
   "metadata": {},
   "outputs": [
    {
     "data": {
      "text/plain": [
       "{'alpha': 1.0, 'class_prior': None, 'fit_prior': True}"
      ]
     },
     "execution_count": 174,
     "metadata": {},
     "output_type": "execute_result"
    }
   ],
   "source": [
    "nb.get_params(deep=True)"
   ]
  },
  {
   "cell_type": "code",
   "execution_count": null,
   "id": "dc6b5a2f",
   "metadata": {},
   "outputs": [],
   "source": []
  }
 ],
 "metadata": {
  "kernelspec": {
   "display_name": "Python 3 (ipykernel)",
   "language": "python",
   "name": "python3"
  },
  "language_info": {
   "codemirror_mode": {
    "name": "ipython",
    "version": 3
   },
   "file_extension": ".py",
   "mimetype": "text/x-python",
   "name": "python",
   "nbconvert_exporter": "python",
   "pygments_lexer": "ipython3",
   "version": "3.10.4"
  }
 },
 "nbformat": 4,
 "nbformat_minor": 5
}
