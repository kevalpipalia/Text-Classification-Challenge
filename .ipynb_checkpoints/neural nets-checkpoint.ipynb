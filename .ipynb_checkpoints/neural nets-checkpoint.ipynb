{
 "cells": [
  {
   "cell_type": "code",
   "execution_count": 1,
   "id": "168a7638",
   "metadata": {},
   "outputs": [],
   "source": [
    "from utilities.data_loader import load_modeling_data, load_testing_data\n",
    "from utilities.text_cleaner import advanced_data_cleaning"
   ]
  },
  {
   "cell_type": "code",
   "execution_count": 30,
   "id": "642cc0a7",
   "metadata": {},
   "outputs": [],
   "source": [
    "from keras.models import Sequential\n",
    "from tensorflow.keras.layers import Embedding, LSTM, Dense, Bidirectional, Dropout\n",
    "from sklearn.model_selection import train_test_split\n",
    "import numpy as np\n",
    "import matplotlib.pyplot as plt\n",
    "# Packages for modeling\n",
    "from keras import models\n",
    "from keras import layers\n",
    "from keras import regularizers"
   ]
  },
  {
   "cell_type": "code",
   "execution_count": 3,
   "id": "0c5ac870",
   "metadata": {},
   "outputs": [],
   "source": [
    "train_data, train_labels = load_modeling_data()"
   ]
  },
  {
   "cell_type": "code",
   "execution_count": 4,
   "id": "76a48f44",
   "metadata": {},
   "outputs": [],
   "source": [
    "train_data['text'] = train_data['text'].apply(advanced_data_cleaning)\n",
    "# dict_val = {'negative': 0, 'neutral': 1, 'positive': 2}\n",
    "# train_labels['target'] = train_labels['target'].apply(lambda x: dict_val[x])"
   ]
  },
  {
   "cell_type": "code",
   "execution_count": 5,
   "id": "21759188",
   "metadata": {},
   "outputs": [],
   "source": [
    "X_train, X_valid, y_train, y_valid = train_test_split(train_data, train_labels, test_size=0.2,random_state=10)"
   ]
  },
  {
   "cell_type": "code",
   "execution_count": 6,
   "id": "48cb6876",
   "metadata": {},
   "outputs": [],
   "source": [
    "length = [len(i) for i in train_data['text']]"
   ]
  },
  {
   "cell_type": "code",
   "execution_count": 7,
   "id": "920ffce9",
   "metadata": {},
   "outputs": [
    {
     "name": "stdout",
     "output_type": "stream",
     "text": [
      "The Average sentence length is 85.40232216340502\n",
      "The Standard Deviation is 44\n",
      "160.0\n"
     ]
    }
   ],
   "source": [
    "print(\"The Average sentence length is\", np.mean(length))\n",
    "print(\"The Standard Deviation is\", round(np.std(length)))\n",
    "print(np.percentile(length, 95))"
   ]
  },
  {
   "cell_type": "code",
   "execution_count": 8,
   "id": "bc1b9834",
   "metadata": {},
   "outputs": [],
   "source": [
    "# Creating Word Embeddings\n",
    "NB_WORDS = 10000  # Parameter indicating the number of words we'll put in the dictionary"
   ]
  },
  {
   "cell_type": "code",
   "execution_count": 9,
   "id": "976087f0",
   "metadata": {},
   "outputs": [],
   "source": [
    "from keras_preprocessing.text import Tokenizer\n",
    "from keras_preprocessing.sequence import pad_sequences"
   ]
  },
  {
   "cell_type": "code",
   "execution_count": 10,
   "id": "9461a51e",
   "metadata": {},
   "outputs": [],
   "source": [
    "tk = Tokenizer(num_words=NB_WORDS,lower=True,split=\" \")"
   ]
  },
  {
   "cell_type": "code",
   "execution_count": 11,
   "id": "58c61c99",
   "metadata": {},
   "outputs": [],
   "source": [
    "tk.fit_on_texts(X_train['text'])"
   ]
  },
  {
   "cell_type": "code",
   "execution_count": 12,
   "id": "b53ccb23",
   "metadata": {},
   "outputs": [],
   "source": [
    "X_train_seq = tk.texts_to_sequences(X_train['text'])"
   ]
  },
  {
   "cell_type": "code",
   "execution_count": 13,
   "id": "6ce5bcee",
   "metadata": {},
   "outputs": [],
   "source": [
    "X_valid_seq = tk.texts_to_sequences(X_valid['text'])\n"
   ]
  },
  {
   "cell_type": "code",
   "execution_count": 14,
   "id": "0a6080e8",
   "metadata": {},
   "outputs": [
    {
     "data": {
      "text/plain": [
       "count    832258.000000\n",
       "mean         15.093540\n",
       "std           7.847509\n",
       "min           1.000000\n",
       "25%           9.000000\n",
       "50%          14.000000\n",
       "75%          21.000000\n",
       "max         116.000000\n",
       "Name: text, dtype: float64"
      ]
     },
     "execution_count": 14,
     "metadata": {},
     "output_type": "execute_result"
    }
   ],
   "source": [
    "seq_lengths = X_train['text'].apply(lambda x: len(x.split(' ')))\n",
    "seq_lengths.describe()"
   ]
  },
  {
   "cell_type": "code",
   "execution_count": 15,
   "id": "3f82f603",
   "metadata": {},
   "outputs": [
    {
     "data": {
      "text/plain": [
       "29.0"
      ]
     },
     "execution_count": 15,
     "metadata": {},
     "output_type": "execute_result"
    }
   ],
   "source": [
    "np.percentile(seq_lengths, 95)"
   ]
  },
  {
   "cell_type": "code",
   "execution_count": 16,
   "id": "c6414bb4",
   "metadata": {},
   "outputs": [],
   "source": [
    "X_train_seq_trunc = pad_sequences(X_train_seq, maxlen=30)\n",
    "X_valid_seq_trunc = pad_sequences(X_valid_seq, maxlen=30)"
   ]
  },
  {
   "cell_type": "code",
   "execution_count": 17,
   "id": "915ccaf4",
   "metadata": {},
   "outputs": [],
   "source": [
    "from sklearn.preprocessing import LabelEncoder\n",
    "from keras.utils.np_utils import to_categorical"
   ]
  },
  {
   "cell_type": "code",
   "execution_count": 18,
   "id": "11852ebe",
   "metadata": {},
   "outputs": [],
   "source": [
    "le = LabelEncoder()\n",
    "y_train_le = le.fit_transform(y_train['target'])\n",
    "y_valid_le = le.transform(y_valid['target'])\n",
    "y_train_oh = to_categorical(y_train_le)\n",
    "y_valid_oh = to_categorical(y_valid_le)"
   ]
  },
  {
   "cell_type": "code",
   "execution_count": 33,
   "id": "77ed2594",
   "metadata": {},
   "outputs": [],
   "source": [
    "vocab_size = len(tk.word_index) + 1\n"
   ]
  },
  {
   "cell_type": "code",
   "execution_count": 34,
   "id": "921bcba8",
   "metadata": {},
   "outputs": [
    {
     "name": "stdout",
     "output_type": "stream",
     "text": [
      "Model: \"sequential_3\"\n",
      "_________________________________________________________________\n",
      " Layer (type)                Output Shape              Param #   \n",
      "=================================================================\n",
      " embedding_3 (Embedding)     (None, 30, 64)            24311360  \n",
      "                                                                 \n",
      " bidirectional (Bidirectiona  (None, 30, 128)          66048     \n",
      " l)                                                              \n",
      "                                                                 \n",
      " dropout (Dropout)           (None, 30, 128)           0         \n",
      "                                                                 \n",
      " bidirectional_1 (Bidirectio  (None, 64)               41216     \n",
      " nal)                                                            \n",
      "                                                                 \n",
      " dropout_1 (Dropout)         (None, 64)                0         \n",
      "                                                                 \n",
      " dense_1 (Dense)             (None, 64)                4160      \n",
      "                                                                 \n",
      " dropout_2 (Dropout)         (None, 64)                0         \n",
      "                                                                 \n",
      " dense_2 (Dense)             (None, 3)                 195       \n",
      "                                                                 \n",
      "=================================================================\n",
      "Total params: 24,422,979\n",
      "Trainable params: 24,422,979\n",
      "Non-trainable params: 0\n",
      "_________________________________________________________________\n"
     ]
    }
   ],
   "source": [
    "emb_model = models.Sequential()\n",
    "emb_model.add(Embedding(vocab_size, 64, input_length=30))\n",
    "emb_model.add(Bidirectional(LSTM(64, return_sequences=True, input_shape=(None, 1))))\n",
    "emb_model.add(Dropout(0.2))\n",
    "emb_model.add(Bidirectional(LSTM(32)))\n",
    "emb_model.add(Dropout(0.2))\n",
    "emb_model.add(Dense(64, activation='relu'))\n",
    "emb_model.add(Dropout(0.1))\n",
    "emb_model.add(Dense(3, activation='softmax'))\n",
    "emb_model.summary()\n"
   ]
  },
  {
   "cell_type": "code",
   "execution_count": 36,
   "id": "35123119",
   "metadata": {},
   "outputs": [],
   "source": [
    "def deep_model(model, X_train, y_train, X_valid, y_valid):\n",
    "    '''\n",
    "    Function to train a multi-class model. The number of epochs and \n",
    "    batch_size are set by the constants at the top of the\n",
    "    notebook. \n",
    "    \n",
    "    Parameters:\n",
    "        model : model with the chosen architecture\n",
    "        X_train : training features\n",
    "        y_train : training target\n",
    "        X_valid : validation features\n",
    "        Y_valid : validation target\n",
    "    Output:\n",
    "        model training history\n",
    "    '''\n",
    "    model.compile(optimizer='adam'\n",
    "                  , loss='categorical_crossentropy'\n",
    "                  , metrics=['accuracy'])\n",
    "    \n",
    "    history = model.fit(X_train\n",
    "                       , y_train\n",
    "                       , epochs=NB_START_EPOCHS\n",
    "                       , batch_size=BATCH_SIZE\n",
    "                       , validation_data=(X_valid, y_valid))\n",
    "    return history"
   ]
  },
  {
   "cell_type": "code",
   "execution_count": 37,
   "id": "7e12d73a",
   "metadata": {},
   "outputs": [],
   "source": [
    "NB_START_EPOCHS = 10\n",
    "BATCH_SIZE = 512"
   ]
  },
  {
   "cell_type": "code",
   "execution_count": 38,
   "id": "e7556e00",
   "metadata": {},
   "outputs": [
    {
     "name": "stdout",
     "output_type": "stream",
     "text": [
      "Epoch 1/10\n"
     ]
    },
    {
     "name": "stderr",
     "output_type": "stream",
     "text": [
      "2022-12-18 04:30:13.960275: I tensorflow/core/grappler/optimizers/custom_graph_optimizer_registry.cc:114] Plugin optimizer for device_type GPU is enabled.\n",
      "2022-12-18 04:30:14.480051: I tensorflow/core/grappler/optimizers/custom_graph_optimizer_registry.cc:114] Plugin optimizer for device_type GPU is enabled.\n",
      "2022-12-18 04:30:14.561597: I tensorflow/core/grappler/optimizers/custom_graph_optimizer_registry.cc:114] Plugin optimizer for device_type GPU is enabled.\n",
      "2022-12-18 04:30:15.979318: I tensorflow/core/grappler/optimizers/custom_graph_optimizer_registry.cc:114] Plugin optimizer for device_type GPU is enabled.\n",
      "2022-12-18 04:30:15.994970: I tensorflow/core/grappler/optimizers/custom_graph_optimizer_registry.cc:114] Plugin optimizer for device_type GPU is enabled.\n",
      "2022-12-18 04:30:16.817264: I tensorflow/core/grappler/optimizers/custom_graph_optimizer_registry.cc:114] Plugin optimizer for device_type GPU is enabled.\n",
      "2022-12-18 04:30:16.840515: I tensorflow/core/grappler/optimizers/custom_graph_optimizer_registry.cc:114] Plugin optimizer for device_type GPU is enabled.\n",
      "2022-12-18 04:30:17.636436: I tensorflow/core/grappler/optimizers/custom_graph_optimizer_registry.cc:114] Plugin optimizer for device_type GPU is enabled.\n",
      "2022-12-18 04:30:17.662145: I tensorflow/core/grappler/optimizers/custom_graph_optimizer_registry.cc:114] Plugin optimizer for device_type GPU is enabled.\n"
     ]
    },
    {
     "name": "stdout",
     "output_type": "stream",
     "text": [
      "1626/1626 [==============================] - ETA: 0s - loss: 0.4497 - accuracy: 0.7873"
     ]
    },
    {
     "name": "stderr",
     "output_type": "stream",
     "text": [
      "2022-12-18 04:34:52.565996: I tensorflow/core/grappler/optimizers/custom_graph_optimizer_registry.cc:114] Plugin optimizer for device_type GPU is enabled.\n",
      "2022-12-18 04:34:52.731637: I tensorflow/core/grappler/optimizers/custom_graph_optimizer_registry.cc:114] Plugin optimizer for device_type GPU is enabled.\n",
      "2022-12-18 04:34:52.745124: I tensorflow/core/grappler/optimizers/custom_graph_optimizer_registry.cc:114] Plugin optimizer for device_type GPU is enabled.\n",
      "2022-12-18 04:34:52.901309: I tensorflow/core/grappler/optimizers/custom_graph_optimizer_registry.cc:114] Plugin optimizer for device_type GPU is enabled.\n",
      "2022-12-18 04:34:52.913788: I tensorflow/core/grappler/optimizers/custom_graph_optimizer_registry.cc:114] Plugin optimizer for device_type GPU is enabled.\n"
     ]
    },
    {
     "name": "stdout",
     "output_type": "stream",
     "text": [
      "1626/1626 [==============================] - 295s 178ms/step - loss: 0.4497 - accuracy: 0.7873 - val_loss: 0.4078 - val_accuracy: 0.8151\n",
      "Epoch 2/10\n",
      "1626/1626 [==============================] - 278s 171ms/step - loss: 0.3952 - accuracy: 0.8210 - val_loss: 0.3992 - val_accuracy: 0.8188\n",
      "Epoch 3/10\n",
      "1626/1626 [==============================] - 288s 177ms/step - loss: 0.3782 - accuracy: 0.8300 - val_loss: 0.3904 - val_accuracy: 0.8243\n",
      "Epoch 4/10\n",
      "1626/1626 [==============================] - 298s 183ms/step - loss: 0.3637 - accuracy: 0.8378 - val_loss: 0.3899 - val_accuracy: 0.8254\n",
      "Epoch 5/10\n",
      "1626/1626 [==============================] - 291s 179ms/step - loss: 0.3495 - accuracy: 0.8453 - val_loss: 0.3925 - val_accuracy: 0.8265\n",
      "Epoch 6/10\n",
      "1626/1626 [==============================] - 274s 169ms/step - loss: 0.3352 - accuracy: 0.8524 - val_loss: 0.3963 - val_accuracy: 0.8244\n",
      "Epoch 7/10\n",
      "1626/1626 [==============================] - 292s 180ms/step - loss: 0.3214 - accuracy: 0.8598 - val_loss: 0.4031 - val_accuracy: 0.8239\n",
      "Epoch 8/10\n",
      "1626/1626 [==============================] - 297s 183ms/step - loss: 0.3076 - accuracy: 0.8666 - val_loss: 0.4221 - val_accuracy: 0.8192\n",
      "Epoch 9/10\n",
      "1626/1626 [==============================] - 291s 179ms/step - loss: 0.2941 - accuracy: 0.8731 - val_loss: 0.4331 - val_accuracy: 0.8196\n",
      "Epoch 10/10\n",
      "1626/1626 [==============================] - 290s 178ms/step - loss: 0.2814 - accuracy: 0.8795 - val_loss: 0.4478 - val_accuracy: 0.8173\n"
     ]
    }
   ],
   "source": [
    "emb_history = deep_model(emb_model, X_train_seq_trunc, y_train_oh, X_valid_seq_trunc, y_valid_oh)\n",
    "# emb_history.history['val_acc'][-1]"
   ]
  },
  {
   "cell_type": "code",
   "execution_count": 39,
   "id": "0c63e8c2",
   "metadata": {},
   "outputs": [
    {
     "data": {
      "text/plain": [
       "0.8173167705535889"
      ]
     },
     "execution_count": 39,
     "metadata": {},
     "output_type": "execute_result"
    }
   ],
   "source": [
    "emb_history.history['val_accuracy'][-1]"
   ]
  },
  {
   "cell_type": "code",
   "execution_count": 43,
   "id": "d3985ef3",
   "metadata": {},
   "outputs": [],
   "source": [
    "import seaborn as sns\n",
    "sns.set_theme(context=\"notebook\", palette=(\"deep\"))"
   ]
  },
  {
   "cell_type": "code",
   "execution_count": 47,
   "id": "e5465c8a",
   "metadata": {},
   "outputs": [],
   "source": [
    "def eval_metric(history, metric_name):\n",
    "    '''\n",
    "    Function to evaluate a trained model on a chosen metric. \n",
    "    Training and validation metric are plotted in a\n",
    "    line chart for each epoch.\n",
    "    \n",
    "    Parameters:\n",
    "        history : model training history\n",
    "        metric_name : loss or accuracy\n",
    "    Output:\n",
    "        line chart with epochs of x-axis and metric on\n",
    "        y-axis\n",
    "    '''\n",
    "    metric = history.history[metric_name]\n",
    "    val_metric = history.history['val_' + metric_name]\n",
    "\n",
    "    e = range(1, NB_START_EPOCHS + 1)\n",
    "\n",
    "    plt.plot(e, metric, 'bo', label='Train ' + metric_name)\n",
    "    plt.plot(e, val_metric, 'b', label='Validation ' + metric_name)\n",
    "    plt.title('Training '+metric_name+' vs validation '+metric_name)\n",
    "    plt.ylabel(metric_name)\n",
    "    plt.xlabel('Epoch')\n",
    "    plt.legend()\n",
    "    plt.show()"
   ]
  },
  {
   "cell_type": "code",
   "execution_count": 48,
   "id": "79e00c47",
   "metadata": {},
   "outputs": [
    {
     "data": {
      "image/png": "[encoded data removed]",
      "text/plain": [
       "<Figure size 640x480 with 1 Axes>"
      ]
     },
     "metadata": {},
     "output_type": "display_data"
    }
   ],
   "source": [
    "eval_metric(emb_history, 'accuracy')\n"
   ]
  },
  {
   "cell_type": "code",
   "execution_count": 49,
   "id": "ee579446",
   "metadata": {},
   "outputs": [
    {
     "data": {
      "image/png": "[encoded data removed]",
      "text/plain": [
       "<Figure size 640x480 with 1 Axes>"
      ]
     },
     "metadata": {},
     "output_type": "display_data"
    }
   ],
   "source": [
    "eval_metric(emb_history, 'loss')"
   ]
  },
  {
   "cell_type": "code",
   "execution_count": null,
   "id": "069adaf7",
   "metadata": {},
   "outputs": [],
   "source": [
    "plt.plot(history_embedding.history['accuracy'],c='b',label='train accuracy')\n",
    "plt.plot(history_embedding.history['val_accuracy'],c='r',label='validation accuracy')\n",
    "plt.legend(loc='lower right')\n",
    "plt.show()"
   ]
  },
  {
   "cell_type": "code",
   "execution_count": null,
   "id": "35711ade",
   "metadata": {},
   "outputs": [],
   "source": []
  },
  {
   "cell_type": "code",
   "execution_count": null,
   "id": "816ed474",
   "metadata": {},
   "outputs": [],
   "source": [
    "!pip install wordcloud"
   ]
  },
  {
   "cell_type": "code",
   "execution_count": 48,
   "id": "e86989ed",
   "metadata": {},
   "outputs": [
    {
     "ename": "ModuleNotFoundError",
     "evalue": "No module named 'textblob'",
     "output_type": "error",
     "traceback": [
      "\u001b[0;31m---------------------------------------------------------------------------\u001b[0m",
      "\u001b[0;31mModuleNotFoundError\u001b[0m                       Traceback (most recent call last)",
      "Cell \u001b[0;32mIn [48], line 5\u001b[0m\n\u001b[1;32m      3\u001b[0m \u001b[38;5;28;01mimport\u001b[39;00m \u001b[38;5;21;01mpandas\u001b[39;00m \u001b[38;5;28;01mas\u001b[39;00m \u001b[38;5;21;01mpd\u001b[39;00m\n\u001b[1;32m      4\u001b[0m \u001b[38;5;28;01mfrom\u001b[39;00m \u001b[38;5;21;01mnltk\u001b[39;00m\u001b[38;5;21;01m.\u001b[39;00m\u001b[38;5;21;01mcorpus\u001b[39;00m \u001b[38;5;28;01mimport\u001b[39;00m stopwords\n\u001b[0;32m----> 5\u001b[0m \u001b[38;5;28;01mfrom\u001b[39;00m \u001b[38;5;21;01mtextblob\u001b[39;00m \u001b[38;5;28;01mimport\u001b[39;00m Word\n\u001b[1;32m      6\u001b[0m \u001b[38;5;28;01mfrom\u001b[39;00m \u001b[38;5;21;01msklearn\u001b[39;00m\u001b[38;5;21;01m.\u001b[39;00m\u001b[38;5;21;01mpreprocessing\u001b[39;00m \u001b[38;5;28;01mimport\u001b[39;00m LabelEncoder\n\u001b[1;32m      7\u001b[0m \u001b[38;5;28;01mfrom\u001b[39;00m \u001b[38;5;21;01mcollections\u001b[39;00m \u001b[38;5;28;01mimport\u001b[39;00m Counter\n",
      "\u001b[0;31mModuleNotFoundError\u001b[0m: No module named 'textblob'"
     ]
    }
   ],
   "source": [
    "# Importing required libraries\n",
    "import nltk\n",
    "import pandas as pd\n",
    "from nltk.corpus import stopwords\n",
    "from textblob import Word\n",
    "from sklearn.preprocessing import LabelEncoder\n",
    "from collections import Counter\n",
    "import wordcloud\n",
    "from sklearn.metrics import classification_report,confusion_matrix,accuracy_score\n",
    "from keras.models import Sequential\n",
    "from keras.preprocessing.text import Tokenizer\n",
    "from keras.preprocessing.sequence import pad_sequences\n",
    "from keras.layers import Dense, Embedding, LSTM, SpatialDropout1D\n",
    "from sklearn.model_selection import train_test_split \n",
    "import matplotlib.pyplot as plt"
   ]
  },
  {
   "cell_type": "code",
   "execution_count": null,
   "id": "821de234",
   "metadata": {},
   "outputs": [],
   "source": [
    "common_words=''\n",
    "for i in X_train['text']:\n",
    "    i = str(i)\n",
    "    tokens = i.split()\n",
    "    common_words += \" \".join(tokens)+\" \"\n",
    "wordcloud = wordcloud.WordCloud().generate(common_words)\n",
    "plt.imshow(wordcloud, interpolation='bilinear')\n",
    "plt.axis(\"off\")\n",
    "plt.show()"
   ]
  }
 ],
 "metadata": {
  "kernelspec": {
   "display_name": "Python 3 (ipykernel)",
   "language": "python",
   "name": "python3"
  },
  "language_info": {
   "codemirror_mode": {
    "name": "ipython",
    "version": 3
   },
   "file_extension": ".py",
   "mimetype": "text/x-python",
   "name": "python",
   "nbconvert_exporter": "python",
   "pygments_lexer": "ipython3",
   "version": "3.8.13"
  }
 },
 "nbformat": 4,
 "nbformat_minor": 5
}
