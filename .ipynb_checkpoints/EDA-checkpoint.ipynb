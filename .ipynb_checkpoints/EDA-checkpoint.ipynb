{
 "cells": [
  {
   "cell_type": "code",
   "execution_count": 58,
   "id": "c6ca3b26",
   "metadata": {},
   "outputs": [],
   "source": [
    "from utilities.data_loader import load_modeling_data"
   ]
  },
  {
   "cell_type": "code",
   "execution_count": 59,
   "id": "d57f8fa3",
   "metadata": {},
   "outputs": [],
   "source": [
    "train_data, train_labels = load_modeling_data()"
   ]
  },
  {
   "cell_type": "code",
   "execution_count": 60,
   "id": "5abfeff3",
   "metadata": {},
   "outputs": [
    {
     "name": "stdout",
     "output_type": "stream",
     "text": [
      "                                                 text\n",
      "id                                                   \n",
      "0                   Anyway Im getting of for a while \n",
      "1   My red, Apache isn't feelin too well this morn...\n",
      "2   @danyelljoy you should be  its great. friday w...\n",
      "3   its 11:30pm and i dont wanna sleep; so i debat...\n",
      "4           Why does twitter eat my DM's?  Not happy \n"
     ]
    }
   ],
   "source": [
    "print(train_data.head())"
   ]
  },
  {
   "cell_type": "code",
   "execution_count": 61,
   "id": "4fa7808f",
   "metadata": {},
   "outputs": [
    {
     "name": "stdout",
     "output_type": "stream",
     "text": [
      "      target\n",
      "id          \n",
      "0   positive\n",
      "1   negative\n",
      "2   positive\n",
      "3   positive\n",
      "4   negative\n"
     ]
    }
   ],
   "source": [
    "print(train_labels.head())"
   ]
  },
  {
   "cell_type": "code",
   "execution_count": 62,
   "id": "affc917c",
   "metadata": {
    "scrolled": true
   },
   "outputs": [
    {
     "data": {
      "image/png": "[encoded data removed]",
      "text/plain": [
       "<Figure size 640x480 with 1 Axes>"
      ]
     },
     "metadata": {},
     "output_type": "display_data"
    }
   ],
   "source": [
    "sns.set_style(\"darkgrid\")\n",
    "sns.countplot(x = train_labels['target'])\n",
    "plt.title('count of target classes')\n",
    "plt.show()"
   ]
  },
  {
   "cell_type": "code",
   "execution_count": 63,
   "id": "3c71690c",
   "metadata": {},
   "outputs": [],
   "source": [
    "from sklearn.preprocessing import LabelEncoder\n",
    "le = LabelEncoder()\n",
    "train_labels['target'] = le.fit_transform(train_labels['target'])\n"
   ]
  },
  {
   "cell_type": "code",
   "execution_count": 64,
   "id": "1b890fd0",
   "metadata": {},
   "outputs": [],
   "source": [
    "import matplotlib.pyplot as plt"
   ]
  },
  {
   "cell_type": "code",
   "execution_count": 65,
   "id": "3f48073a",
   "metadata": {},
   "outputs": [],
   "source": [
    "import seaborn as sns"
   ]
  },
  {
   "cell_type": "code",
   "execution_count": 66,
   "id": "0776478c",
   "metadata": {},
   "outputs": [
    {
     "data": {
      "text/plain": [
       "array([2, 0, 2, ..., 0, 2, 0])"
      ]
     },
     "execution_count": 66,
     "metadata": {},
     "output_type": "execute_result"
    }
   ],
   "source": [
    "train_labels['target'].values"
   ]
  },
  {
   "cell_type": "code",
   "execution_count": null,
   "id": "63ae0c38",
   "metadata": {},
   "outputs": [],
   "source": []
  }
 ],
 "metadata": {
  "kernelspec": {
   "display_name": "Python 3 (ipykernel)",
   "language": "python",
   "name": "python3"
  },
  "language_info": {
   "codemirror_mode": {
    "name": "ipython",
    "version": 3
   },
   "file_extension": ".py",
   "mimetype": "text/x-python",
   "name": "python",
   "nbconvert_exporter": "python",
   "pygments_lexer": "ipython3",
   "version": "3.8.13"
  }
 },
 "nbformat": 4,
 "nbformat_minor": 5
}
