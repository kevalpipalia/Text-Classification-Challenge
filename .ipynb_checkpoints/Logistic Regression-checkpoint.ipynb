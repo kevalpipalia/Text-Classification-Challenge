{
 "cells": [
  {
   "cell_type": "code",
   "execution_count": 1,
   "id": "ffdc52ab",
   "metadata": {},
   "outputs": [],
   "source": [
    "# Importing Libraries\n",
    "import pandas as pd\n",
    "from sklearn.linear_model import LogisticRegression\n",
    "\n",
    "# Importing custom utility functions\n",
    "from utilities.data_loader import load_modeling_data, load_testing_data, prepare_kaggle_submission\n",
    "from utilities.text_cleaner import advanced_data_cleaning\n",
    "\n",
    "# Importing modeling utilities\n",
    "from sklearn.model_selection import train_test_split\n",
    "from sklearn.feature_extraction.text import CountVectorizer, TfidfVectorizer\n",
    "from sklearn.preprocessing import LabelEncoder\n",
    "from sklearn.feature_selection import SelectPercentile\n",
    "from sklearn.pipeline import Pipeline\n",
    "from skopt import BayesSearchCV\n",
    "from sklearn.metrics import accuracy_score, classification_report, confusion_matrix\n",
    "import re\n",
    "import nltk\n",
    "from nltk.stem import PorterStemmer\n",
    "from nltk.stem import WordNetLemmatizer\n",
    "from nltk.corpus import stopwords\n",
    "stop_words = stopwords.words('english')"
   ]
  },
  {
   "cell_type": "code",
   "execution_count": 2,
   "id": "c2c4922e",
   "metadata": {},
   "outputs": [],
   "source": [
    "# Loading Raw training and testing data\n",
    "train_data, train_labels = load_modeling_data()\n",
    "test_data = load_testing_data()"
   ]
  },
  {
   "cell_type": "code",
   "execution_count": 3,
   "id": "83a0f30b",
   "metadata": {},
   "outputs": [],
   "source": [
    "le = LabelEncoder()\n",
    "train_labels['target'] = le.fit_transform(train_labels['target'].values)"
   ]
  },
  {
   "cell_type": "code",
   "execution_count": 4,
   "id": "e87213ca",
   "metadata": {},
   "outputs": [],
   "source": [
    "# Splitting data for validation\n",
    "# Using 20% data for validation and keeping random_state 8 for consistency in stated results in report.\n",
    "X_train, X_val, y_train, y_val = train_test_split(train_data, train_labels, test_size=0.2, random_state = 8)"
   ]
  },
  {
   "cell_type": "markdown",
   "id": "6c8af4a7",
   "metadata": {},
   "source": [
    "# Experiment 0: Making Baseline"
   ]
  },
  {
   "cell_type": "code",
   "execution_count": 5,
   "id": "9c5ec7b3",
   "metadata": {
    "scrolled": true
   },
   "outputs": [
    {
     "name": "stdout",
     "output_type": "stream",
     "text": [
      "-------------------------------------------------------------------------------------------------------------------------------------------------------------------------------Logistic Regression with TFIDF-------------------------------------------------------------------------------------------------------------------------------------------------------------------------------\n"
     ]
    }
   ],
   "source": [
    "# Initializing Tf-Idf vectorizer instance\n",
    "print('-'*175+'Logistic Regression with TFIDF'+'-'*175)\n",
    "vectorizer = TfidfVectorizer()"
   ]
  },
  {
   "cell_type": "code",
   "execution_count": 6,
   "id": "1d560ab8",
   "metadata": {},
   "outputs": [],
   "source": [
    "# Fitting and training the bag of words\n",
    "X_train_vectorizer = vectorizer.fit_transform(X_train['text'])\n",
    "X_val_vectorizer = vectorizer.transform(X_val['text'])"
   ]
  },
  {
   "cell_type": "code",
   "execution_count": 7,
   "id": "a8a0b1e8",
   "metadata": {},
   "outputs": [
    {
     "name": "stdout",
     "output_type": "stream",
     "text": [
      "shape of the bag of words matrix:  (832258, 440087)\n"
     ]
    }
   ],
   "source": [
    "print(\"shape of the bag of words matrix: \",X_train_vectorizer.shape)"
   ]
  },
  {
   "cell_type": "code",
   "execution_count": 8,
   "id": "a47abaf6",
   "metadata": {},
   "outputs": [],
   "source": [
    "# Initializing naive bayes classifier\n",
    "lr_clf_0 = LogisticRegression()"
   ]
  },
  {
   "cell_type": "code",
   "execution_count": 9,
   "id": "cccdb2ec",
   "metadata": {},
   "outputs": [
    {
     "name": "stderr",
     "output_type": "stream",
     "text": [
      "/opt/miniconda3/envs/tf_env/lib/python3.8/site-packages/sklearn/linear_model/_logistic.py:444: ConvergenceWarning: lbfgs failed to converge (status=1):\n",
      "STOP: TOTAL NO. of ITERATIONS REACHED LIMIT.\n",
      "\n",
      "Increase the number of iterations (max_iter) or scale the data as shown in:\n",
      "    https://scikit-learn.org/stable/modules/preprocessing.html\n",
      "Please also refer to the documentation for alternative solver options:\n",
      "    https://scikit-learn.org/stable/modules/linear_model.html#logistic-regression\n",
      "  n_iter_i = _check_optimize_result(\n"
     ]
    },
    {
     "data": {
      "text/html": [
       "<style>#sk-container-id-1 {color: black;background-color: white;}#sk-container-id-1 pre{padding: 0;}#sk-container-id-1 div.sk-toggleable {background-color: white;}#sk-container-id-1 label.sk-toggleable__label {cursor: pointer;display: block;width: 100%;margin-bottom: 0;padding: 0.3em;box-sizing: border-box;text-align: center;}#sk-container-id-1 label.sk-toggleable__label-arrow:before {content: \"▸\";float: left;margin-right: 0.25em;color: #696969;}#sk-container-id-1 label.sk-toggleable__label-arrow:hover:before {color: black;}#sk-container-id-1 div.sk-estimator:hover label.sk-toggleable__label-arrow:before {color: black;}#sk-container-id-1 div.sk-toggleable__content {max-height: 0;max-width: 0;overflow: hidden;text-align: left;background-color: #f0f8ff;}#sk-container-id-1 div.sk-toggleable__content pre {margin: 0.2em;color: black;border-radius: 0.25em;background-color: #f0f8ff;}#sk-container-id-1 input.sk-toggleable__control:checked~div.sk-toggleable__content {max-height: 200px;max-width: 100%;overflow: auto;}#sk-container-id-1 input.sk-toggleable__control:checked~label.sk-toggleable__label-arrow:before {content: \"▾\";}#sk-container-id-1 div.sk-estimator input.sk-toggleable__control:checked~label.sk-toggleable__label {background-color: #d4ebff;}#sk-container-id-1 div.sk-label input.sk-toggleable__control:checked~label.sk-toggleable__label {background-color: #d4ebff;}#sk-container-id-1 input.sk-hidden--visually {border: 0;clip: rect(1px 1px 1px 1px);clip: rect(1px, 1px, 1px, 1px);height: 1px;margin: -1px;overflow: hidden;padding: 0;position: absolute;width: 1px;}#sk-container-id-1 div.sk-estimator {font-family: monospace;background-color: #f0f8ff;border: 1px dotted black;border-radius: 0.25em;box-sizing: border-box;margin-bottom: 0.5em;}#sk-container-id-1 div.sk-estimator:hover {background-color: #d4ebff;}#sk-container-id-1 div.sk-parallel-item::after {content: \"\";width: 100%;border-bottom: 1px solid gray;flex-grow: 1;}#sk-container-id-1 div.sk-label:hover label.sk-toggleable__label {background-color: #d4ebff;}#sk-container-id-1 div.sk-serial::before {content: \"\";position: absolute;border-left: 1px solid gray;box-sizing: border-box;top: 0;bottom: 0;left: 50%;z-index: 0;}#sk-container-id-1 div.sk-serial {display: flex;flex-direction: column;align-items: center;background-color: white;padding-right: 0.2em;padding-left: 0.2em;position: relative;}#sk-container-id-1 div.sk-item {position: relative;z-index: 1;}#sk-container-id-1 div.sk-parallel {display: flex;align-items: stretch;justify-content: center;background-color: white;position: relative;}#sk-container-id-1 div.sk-item::before, #sk-container-id-1 div.sk-parallel-item::before {content: \"\";position: absolute;border-left: 1px solid gray;box-sizing: border-box;top: 0;bottom: 0;left: 50%;z-index: -1;}#sk-container-id-1 div.sk-parallel-item {display: flex;flex-direction: column;z-index: 1;position: relative;background-color: white;}#sk-container-id-1 div.sk-parallel-item:first-child::after {align-self: flex-end;width: 50%;}#sk-container-id-1 div.sk-parallel-item:last-child::after {align-self: flex-start;width: 50%;}#sk-container-id-1 div.sk-parallel-item:only-child::after {width: 0;}#sk-container-id-1 div.sk-dashed-wrapped {border: 1px dashed gray;margin: 0 0.4em 0.5em 0.4em;box-sizing: border-box;padding-bottom: 0.4em;background-color: white;}#sk-container-id-1 div.sk-label label {font-family: monospace;font-weight: bold;display: inline-block;line-height: 1.2em;}#sk-container-id-1 div.sk-label-container {text-align: center;}#sk-container-id-1 div.sk-container {/* jupyter's `normalize.less` sets `[hidden] { display: none; }` but bootstrap.min.css set `[hidden] { display: none !important; }` so we also need the `!important` here to be able to override the default hidden behavior on the sphinx rendered scikit-learn.org. See: https://github.com/scikit-learn/scikit-learn/issues/21755 */display: inline-block !important;position: relative;}#sk-container-id-1 div.sk-text-repr-fallback {display: none;}</style><div id=\"sk-container-id-1\" class=\"sk-top-container\"><div class=\"sk-text-repr-fallback\"><pre>LogisticRegression()</pre><b>In a Jupyter environment, please rerun this cell to show the HTML representation or trust the notebook. <br />On GitHub, the HTML representation is unable to render, please try loading this page with nbviewer.org.</b></div><div class=\"sk-container\" hidden><div class=\"sk-item\"><div class=\"sk-estimator sk-toggleable\"><input class=\"sk-toggleable__control sk-hidden--visually\" id=\"sk-estimator-id-1\" type=\"checkbox\" checked><label for=\"sk-estimator-id-1\" class=\"sk-toggleable__label sk-toggleable__label-arrow\">LogisticRegression</label><div class=\"sk-toggleable__content\"><pre>LogisticRegression()</pre></div></div></div></div></div>"
      ],
      "text/plain": [
       "LogisticRegression()"
      ]
     },
     "execution_count": 9,
     "metadata": {},
     "output_type": "execute_result"
    }
   ],
   "source": [
    "# Training the classifier with default parameters\n",
    "lr_clf_0.fit(X_train_vectorizer, y_train['target'].values)"
   ]
  },
  {
   "cell_type": "code",
   "execution_count": 10,
   "id": "0be7f0f5",
   "metadata": {},
   "outputs": [],
   "source": [
    "# Pridicting from the validation set\n",
    "y_pred_val = lr_clf_0.predict(X_val_vectorizer)"
   ]
  },
  {
   "cell_type": "code",
   "execution_count": 11,
   "id": "9562ae2b",
   "metadata": {},
   "outputs": [
    {
     "name": "stdout",
     "output_type": "stream",
     "text": [
      "Accuracy score:  0.7996827914353688\n",
      "Confusion Matrix: \n",
      "[[82045     0 21602]\n",
      " [    3     0     8]\n",
      " [20066     0 84341]]\n",
      "Classification Report: \n",
      "              precision    recall  f1-score   support\n",
      "\n",
      "           0       0.80      0.79      0.80    103647\n",
      "           1       0.00      0.00      0.00        11\n",
      "           2       0.80      0.81      0.80    104407\n",
      "\n",
      "    accuracy                           0.80    208065\n",
      "   macro avg       0.53      0.53      0.53    208065\n",
      "weighted avg       0.80      0.80      0.80    208065\n",
      "\n"
     ]
    },
    {
     "name": "stderr",
     "output_type": "stream",
     "text": [
      "/opt/miniconda3/envs/tf_env/lib/python3.8/site-packages/sklearn/metrics/_classification.py:1334: UndefinedMetricWarning: Precision and F-score are ill-defined and being set to 0.0 in labels with no predicted samples. Use `zero_division` parameter to control this behavior.\n",
      "  _warn_prf(average, modifier, msg_start, len(result))\n",
      "/opt/miniconda3/envs/tf_env/lib/python3.8/site-packages/sklearn/metrics/_classification.py:1334: UndefinedMetricWarning: Precision and F-score are ill-defined and being set to 0.0 in labels with no predicted samples. Use `zero_division` parameter to control this behavior.\n",
      "  _warn_prf(average, modifier, msg_start, len(result))\n",
      "/opt/miniconda3/envs/tf_env/lib/python3.8/site-packages/sklearn/metrics/_classification.py:1334: UndefinedMetricWarning: Precision and F-score are ill-defined and being set to 0.0 in labels with no predicted samples. Use `zero_division` parameter to control this behavior.\n",
      "  _warn_prf(average, modifier, msg_start, len(result))\n"
     ]
    }
   ],
   "source": [
    "# Printing the results\n",
    "print('Accuracy score: ', accuracy_score(y_val['target'].values, y_pred_val))\n",
    "print('Confusion Matrix: ')\n",
    "print(confusion_matrix(y_val['target'].values, y_pred_val))\n",
    "print('Classification Report: ')\n",
    "print(classification_report(y_val['target'].values, y_pred_val))"
   ]
  },
  {
   "cell_type": "code",
   "execution_count": null,
   "id": "a2f7aabe",
   "metadata": {},
   "outputs": [],
   "source": []
  },
  {
   "cell_type": "markdown",
   "id": "2e78a2ef",
   "metadata": {},
   "source": [
    "# Experiment 1: Testing Text Cleaning Improvements"
   ]
  },
  {
   "cell_type": "code",
   "execution_count": 12,
   "id": "a85c197f",
   "metadata": {},
   "outputs": [
    {
     "name": "stdout",
     "output_type": "stream",
     "text": [
      "-------------------------------------------------------------------------------------------------------------------------------------------------------------------------------Logistic Regression with advance text cleaning-------------------------------------------------------------------------------------------------------------------------------------------------------------------------------\n"
     ]
    }
   ],
   "source": [
    "print('-'*175+'Logistic Regression with advance text cleaning'+'-'*175)"
   ]
  },
  {
   "cell_type": "code",
   "execution_count": 13,
   "id": "cd1c4881",
   "metadata": {},
   "outputs": [],
   "source": [
    "# making copy of dataframe and applying stemming to each text documents\n",
    "X_train_clean = X_train.copy()\n",
    "X_val_clean = X_val.copy()\n",
    "X_train_clean['text'] = X_train_clean['text'].apply(advanced_data_cleaning)\n",
    "X_val_clean['text'] = X_val_clean['text'].apply(advanced_data_cleaning)"
   ]
  },
  {
   "cell_type": "code",
   "execution_count": 14,
   "id": "eee3dc77",
   "metadata": {},
   "outputs": [
    {
     "data": {
      "text/html": [
       "<div>\n",
       "<style scoped>\n",
       "    .dataframe tbody tr th:only-of-type {\n",
       "        vertical-align: middle;\n",
       "    }\n",
       "\n",
       "    .dataframe tbody tr th {\n",
       "        vertical-align: top;\n",
       "    }\n",
       "\n",
       "    .dataframe thead th {\n",
       "        text-align: right;\n",
       "    }\n",
       "</style>\n",
       "<table border=\"1\" class=\"dataframe\">\n",
       "  <thead>\n",
       "    <tr style=\"text-align: right;\">\n",
       "      <th></th>\n",
       "      <th>text</th>\n",
       "    </tr>\n",
       "    <tr>\n",
       "      <th>id</th>\n",
       "      <th></th>\n",
       "    </tr>\n",
       "  </thead>\n",
       "  <tbody>\n",
       "    <tr>\n",
       "      <th>198662</th>\n",
       "      <td>jlneveloff i want to go too multistop quinto e...</td>\n",
       "    </tr>\n",
       "    <tr>\n",
       "      <th>198588</th>\n",
       "      <td>what do you guy think of this laptop http is m...</td>\n",
       "    </tr>\n",
       "    <tr>\n",
       "      <th>497233</th>\n",
       "      <td>thecoveted boo exclamationMark their name seem...</td>\n",
       "    </tr>\n",
       "    <tr>\n",
       "      <th>850715</th>\n",
       "      <td>staying in because i a dicky tummy and feel a ...</td>\n",
       "    </tr>\n",
       "    <tr>\n",
       "      <th>592604</th>\n",
       "      <td>listing to my i pod and i slept o my neck wron...</td>\n",
       "    </tr>\n",
       "    <tr>\n",
       "      <th>...</th>\n",
       "      <td>...</td>\n",
       "    </tr>\n",
       "    <tr>\n",
       "      <th>231557</th>\n",
       "      <td>mrcakey i hope you have a beer to keep you coo...</td>\n",
       "    </tr>\n",
       "    <tr>\n",
       "      <th>780649</th>\n",
       "      <td>envisioning a photo campaign ugly organic food...</td>\n",
       "    </tr>\n",
       "    <tr>\n",
       "      <th>149489</th>\n",
       "      <td>chillin in la still multistop dont know when i...</td>\n",
       "    </tr>\n",
       "    <tr>\n",
       "      <th>550228</th>\n",
       "      <td>tonesa we are tryina find somethin to do</td>\n",
       "    </tr>\n",
       "    <tr>\n",
       "      <th>594371</th>\n",
       "      <td>watta exclamationMark so busy right now multistop</td>\n",
       "    </tr>\n",
       "  </tbody>\n",
       "</table>\n",
       "<p>832258 rows × 1 columns</p>\n",
       "</div>"
      ],
      "text/plain": [
       "                                                     text\n",
       "id                                                       \n",
       "198662  jlneveloff i want to go too multistop quinto e...\n",
       "198588  what do you guy think of this laptop http is m...\n",
       "497233  thecoveted boo exclamationMark their name seem...\n",
       "850715  staying in because i a dicky tummy and feel a ...\n",
       "592604  listing to my i pod and i slept o my neck wron...\n",
       "...                                                   ...\n",
       "231557  mrcakey i hope you have a beer to keep you coo...\n",
       "780649  envisioning a photo campaign ugly organic food...\n",
       "149489  chillin in la still multistop dont know when i...\n",
       "550228           tonesa we are tryina find somethin to do\n",
       "594371  watta exclamationMark so busy right now multistop\n",
       "\n",
       "[832258 rows x 1 columns]"
      ]
     },
     "execution_count": 14,
     "metadata": {},
     "output_type": "execute_result"
    }
   ],
   "source": [
    "X_train_clean"
   ]
  },
  {
   "cell_type": "code",
   "execution_count": 15,
   "id": "ec53f39c",
   "metadata": {},
   "outputs": [],
   "source": [
    "vectorizer = TfidfVectorizer()\n",
    "# Fitting and training the bag of words\n",
    "X_train_vectorizer = vectorizer.fit_transform(X_train_clean['text'])\n",
    "X_val_vectorizer = vectorizer.transform(X_val_clean['text'])"
   ]
  },
  {
   "cell_type": "code",
   "execution_count": 16,
   "id": "0bceda40",
   "metadata": {},
   "outputs": [
    {
     "name": "stderr",
     "output_type": "stream",
     "text": [
      "/opt/miniconda3/envs/tf_env/lib/python3.8/site-packages/sklearn/linear_model/_logistic.py:444: ConvergenceWarning: lbfgs failed to converge (status=1):\n",
      "STOP: TOTAL NO. of ITERATIONS REACHED LIMIT.\n",
      "\n",
      "Increase the number of iterations (max_iter) or scale the data as shown in:\n",
      "    https://scikit-learn.org/stable/modules/preprocessing.html\n",
      "Please also refer to the documentation for alternative solver options:\n",
      "    https://scikit-learn.org/stable/modules/linear_model.html#logistic-regression\n",
      "  n_iter_i = _check_optimize_result(\n"
     ]
    }
   ],
   "source": [
    "lr_clf_1 = LogisticRegression()\n",
    "lr_clf_1.fit(X_train_vectorizer, y_train['target'].values)\n",
    "y_val_pred = lr_clf_1.predict(X_val_vectorizer)"
   ]
  },
  {
   "cell_type": "code",
   "execution_count": 17,
   "id": "1a044507",
   "metadata": {},
   "outputs": [
    {
     "name": "stderr",
     "output_type": "stream",
     "text": [
      "/opt/miniconda3/envs/tf_env/lib/python3.8/site-packages/sklearn/metrics/_classification.py:1334: UndefinedMetricWarning: Precision and F-score are ill-defined and being set to 0.0 in labels with no predicted samples. Use `zero_division` parameter to control this behavior.\n",
      "  _warn_prf(average, modifier, msg_start, len(result))\n",
      "/opt/miniconda3/envs/tf_env/lib/python3.8/site-packages/sklearn/metrics/_classification.py:1334: UndefinedMetricWarning: Precision and F-score are ill-defined and being set to 0.0 in labels with no predicted samples. Use `zero_division` parameter to control this behavior.\n",
      "  _warn_prf(average, modifier, msg_start, len(result))\n"
     ]
    },
    {
     "name": "stdout",
     "output_type": "stream",
     "text": [
      "Accuracy score:  0.8001778290438084\n",
      "Confusion Matrix: \n",
      "[[82290     0 21357]\n",
      " [    1     0    10]\n",
      " [20208     0 84199]]\n",
      "Classification Report: \n",
      "              precision    recall  f1-score   support\n",
      "\n",
      "           0       0.80      0.79      0.80    103647\n",
      "           1       0.00      0.00      0.00        11\n",
      "           2       0.80      0.81      0.80    104407\n",
      "\n",
      "    accuracy                           0.80    208065\n",
      "   macro avg       0.53      0.53      0.53    208065\n",
      "weighted avg       0.80      0.80      0.80    208065\n",
      "\n"
     ]
    },
    {
     "name": "stderr",
     "output_type": "stream",
     "text": [
      "/opt/miniconda3/envs/tf_env/lib/python3.8/site-packages/sklearn/metrics/_classification.py:1334: UndefinedMetricWarning: Precision and F-score are ill-defined and being set to 0.0 in labels with no predicted samples. Use `zero_division` parameter to control this behavior.\n",
      "  _warn_prf(average, modifier, msg_start, len(result))\n"
     ]
    }
   ],
   "source": [
    "# Printing the results\n",
    "print('Accuracy score: ', accuracy_score(y_val['target'].values, y_val_pred))\n",
    "print('Confusion Matrix: ')\n",
    "print(confusion_matrix(y_val['target'].values, y_val_pred))\n",
    "print('Classification Report: ')\n",
    "print(classification_report(y_val['target'].values, y_val_pred))"
   ]
  },
  {
   "cell_type": "code",
   "execution_count": null,
   "id": "e2f26837",
   "metadata": {},
   "outputs": [],
   "source": []
  },
  {
   "cell_type": "markdown",
   "id": "206bcf88",
   "metadata": {},
   "source": [
    "# Experiment 2: hyper parameter tuning "
   ]
  },
  {
   "cell_type": "code",
   "execution_count": 18,
   "id": "b12c91dc",
   "metadata": {},
   "outputs": [],
   "source": [
    "# from sklearn.model_selection import GridSearchCV"
   ]
  },
  {
   "cell_type": "code",
   "execution_count": 19,
   "id": "933646c8",
   "metadata": {},
   "outputs": [
    {
     "name": "stdout",
     "output_type": "stream",
     "text": [
      "-------------------------------------------------------------------------------------------------------------------------------------------------------------------------------Logistic Regression Hyper parameter tuning-------------------------------------------------------------------------------------------------------------------------------------------------------------------------------\n"
     ]
    }
   ],
   "source": [
    "print('-'*175+'Logistic Regression Hyper parameter tuning'+'-'*175)"
   ]
  },
  {
   "cell_type": "code",
   "execution_count": 20,
   "id": "74c80808",
   "metadata": {},
   "outputs": [],
   "source": [
    "X_train_clean = X_train.copy()\n",
    "X_val_clean = X_val.copy()\n",
    "X_train_clean['text'] = X_train_clean['text'].apply(advanced_data_cleaning)\n",
    "X_val_clean['text'] = X_val_clean['text'].apply(advanced_data_cleaning)"
   ]
  },
  {
   "cell_type": "code",
   "execution_count": 21,
   "id": "ae6809d9",
   "metadata": {},
   "outputs": [],
   "source": [
    "pipe = Pipeline([('vec', TfidfVectorizer()), ('logreg', LogisticRegression())])"
   ]
  },
  {
   "cell_type": "code",
   "execution_count": 22,
   "id": "93df5fc2",
   "metadata": {},
   "outputs": [],
   "source": [
    "# defining search grid\n",
    "grid = {\n",
    "#     'vec__ngram_range': [(1,1),(1,2),(1,3)],\n",
    "    'vec__max_features': [10000, 50000, 120000, 250000],\n",
    "    'logreg__tol': [1e-4, 1e-3],\n",
    "    'logreg__solver': ['saga', 'liblinear', 'lbfgs'],\n",
    "    'logreg__C': [0.5, 0.75, 1.0 , 2.0],\n",
    "    'logreg__max_iter': [100, 150, 200, 300]\n",
    "}"
   ]
  },
  {
   "cell_type": "code",
   "execution_count": 23,
   "id": "5fda7042",
   "metadata": {},
   "outputs": [],
   "source": [
    "# Initializing bayesian search\n",
    "logreg_clf_2 = BayesSearchCV(pipe, grid, scoring='accuracy', n_iter=25)"
   ]
  },
  {
   "cell_type": "code",
   "execution_count": null,
   "id": "c5fabbbb",
   "metadata": {},
   "outputs": [
    {
     "name": "stderr",
     "output_type": "stream",
     "text": [
      "/opt/miniconda3/envs/tf_env/lib/python3.8/site-packages/sklearn/linear_model/_logistic.py:444: ConvergenceWarning: lbfgs failed to converge (status=1):\n",
      "STOP: TOTAL NO. of ITERATIONS REACHED LIMIT.\n",
      "\n",
      "Increase the number of iterations (max_iter) or scale the data as shown in:\n",
      "    https://scikit-learn.org/stable/modules/preprocessing.html\n",
      "Please also refer to the documentation for alternative solver options:\n",
      "    https://scikit-learn.org/stable/modules/linear_model.html#logistic-regression\n",
      "  n_iter_i = _check_optimize_result(\n",
      "/opt/miniconda3/envs/tf_env/lib/python3.8/site-packages/sklearn/linear_model/_logistic.py:444: ConvergenceWarning: lbfgs failed to converge (status=1):\n",
      "STOP: TOTAL NO. of ITERATIONS REACHED LIMIT.\n",
      "\n",
      "Increase the number of iterations (max_iter) or scale the data as shown in:\n",
      "    https://scikit-learn.org/stable/modules/preprocessing.html\n",
      "Please also refer to the documentation for alternative solver options:\n",
      "    https://scikit-learn.org/stable/modules/linear_model.html#logistic-regression\n",
      "  n_iter_i = _check_optimize_result(\n",
      "/opt/miniconda3/envs/tf_env/lib/python3.8/site-packages/sklearn/linear_model/_logistic.py:444: ConvergenceWarning: lbfgs failed to converge (status=1):\n",
      "STOP: TOTAL NO. of ITERATIONS REACHED LIMIT.\n",
      "\n",
      "Increase the number of iterations (max_iter) or scale the data as shown in:\n",
      "    https://scikit-learn.org/stable/modules/preprocessing.html\n",
      "Please also refer to the documentation for alternative solver options:\n",
      "    https://scikit-learn.org/stable/modules/linear_model.html#logistic-regression\n",
      "  n_iter_i = _check_optimize_result(\n",
      "/opt/miniconda3/envs/tf_env/lib/python3.8/site-packages/sklearn/linear_model/_logistic.py:444: ConvergenceWarning: lbfgs failed to converge (status=1):\n",
      "STOP: TOTAL NO. of ITERATIONS REACHED LIMIT.\n",
      "\n",
      "Increase the number of iterations (max_iter) or scale the data as shown in:\n",
      "    https://scikit-learn.org/stable/modules/preprocessing.html\n",
      "Please also refer to the documentation for alternative solver options:\n",
      "    https://scikit-learn.org/stable/modules/linear_model.html#logistic-regression\n",
      "  n_iter_i = _check_optimize_result(\n",
      "/opt/miniconda3/envs/tf_env/lib/python3.8/site-packages/sklearn/linear_model/_logistic.py:444: ConvergenceWarning: lbfgs failed to converge (status=1):\n",
      "STOP: TOTAL NO. of ITERATIONS REACHED LIMIT.\n",
      "\n",
      "Increase the number of iterations (max_iter) or scale the data as shown in:\n",
      "    https://scikit-learn.org/stable/modules/preprocessing.html\n",
      "Please also refer to the documentation for alternative solver options:\n",
      "    https://scikit-learn.org/stable/modules/linear_model.html#logistic-regression\n",
      "  n_iter_i = _check_optimize_result(\n",
      "/opt/miniconda3/envs/tf_env/lib/python3.8/site-packages/sklearn/linear_model/_logistic.py:444: ConvergenceWarning: lbfgs failed to converge (status=1):\n",
      "STOP: TOTAL NO. of ITERATIONS REACHED LIMIT.\n",
      "\n",
      "Increase the number of iterations (max_iter) or scale the data as shown in:\n",
      "    https://scikit-learn.org/stable/modules/preprocessing.html\n",
      "Please also refer to the documentation for alternative solver options:\n",
      "    https://scikit-learn.org/stable/modules/linear_model.html#logistic-regression\n",
      "  n_iter_i = _check_optimize_result(\n",
      "/opt/miniconda3/envs/tf_env/lib/python3.8/site-packages/sklearn/linear_model/_logistic.py:444: ConvergenceWarning: lbfgs failed to converge (status=1):\n",
      "STOP: TOTAL NO. of ITERATIONS REACHED LIMIT.\n",
      "\n",
      "Increase the number of iterations (max_iter) or scale the data as shown in:\n",
      "    https://scikit-learn.org/stable/modules/preprocessing.html\n",
      "Please also refer to the documentation for alternative solver options:\n",
      "    https://scikit-learn.org/stable/modules/linear_model.html#logistic-regression\n",
      "  n_iter_i = _check_optimize_result(\n"
     ]
    }
   ],
   "source": [
    "# Training for best hyperparameters\n",
    "_ = logreg_clf_2.fit(X_train_clean['text'].values, y_train['target'].values)"
   ]
  },
  {
   "cell_type": "code",
   "execution_count": null,
   "id": "85e105e1",
   "metadata": {},
   "outputs": [],
   "source": [
    "# printing the best found parameters\n",
    "print(\"Best found hyperparameters are: \")\n",
    "print(logreg_clf_2.best_params_)"
   ]
  },
  {
   "cell_type": "code",
   "execution_count": 22,
   "id": "8dfd414d",
   "metadata": {
    "scrolled": true
   },
   "outputs": [
    {
     "name": "stdout",
     "output_type": "stream",
     "text": [
      "-------------------------------------------------------------------------------------------------------------------------------------------------------------------------------Logistic Regression with Best parameters-------------------------------------------------------------------------------------------------------------------------------------------------------------------------------\n"
     ]
    }
   ],
   "source": [
    "# Initializing Tf-Idf vectorizer instance\n",
    "print('-'*175+'Logistic Regression with Best parameters'+'-'*175)\n",
    "vectorizer = TfidfVectorizer(max_features=250000, ngram_range=(1,3))"
   ]
  },
  {
   "cell_type": "code",
   "execution_count": 23,
   "id": "15f3a782",
   "metadata": {},
   "outputs": [],
   "source": [
    "# Fitting and training the bag of words\n",
    "X_train_vectorizer = vectorizer.fit_transform(X_train_clean['text'])\n",
    "X_val_vectorizer = vectorizer.transform(X_val_clean['text'])"
   ]
  },
  {
   "cell_type": "code",
   "execution_count": 24,
   "id": "e961d5a4",
   "metadata": {},
   "outputs": [
    {
     "name": "stdout",
     "output_type": "stream",
     "text": [
      "shape of the bag of words matrix:  (832258, 250000)\n"
     ]
    }
   ],
   "source": [
    "print(\"shape of the bag of words matrix: \",X_train_vectorizer.shape)"
   ]
  },
  {
   "cell_type": "code",
   "execution_count": 25,
   "id": "3039519d",
   "metadata": {},
   "outputs": [],
   "source": [
    "# Initializing naive bayes classifier\n",
    "lr_clf_3 = LogisticRegression(max_iter=300, solver='saga', C= 0.5, tol=0.00022294400779122961)"
   ]
  },
  {
   "cell_type": "code",
   "execution_count": 26,
   "id": "63953175",
   "metadata": {},
   "outputs": [
    {
     "data": {
      "text/html": [
       "<style>#sk-container-id-2 {color: black;background-color: white;}#sk-container-id-2 pre{padding: 0;}#sk-container-id-2 div.sk-toggleable {background-color: white;}#sk-container-id-2 label.sk-toggleable__label {cursor: pointer;display: block;width: 100%;margin-bottom: 0;padding: 0.3em;box-sizing: border-box;text-align: center;}#sk-container-id-2 label.sk-toggleable__label-arrow:before {content: \"▸\";float: left;margin-right: 0.25em;color: #696969;}#sk-container-id-2 label.sk-toggleable__label-arrow:hover:before {color: black;}#sk-container-id-2 div.sk-estimator:hover label.sk-toggleable__label-arrow:before {color: black;}#sk-container-id-2 div.sk-toggleable__content {max-height: 0;max-width: 0;overflow: hidden;text-align: left;background-color: #f0f8ff;}#sk-container-id-2 div.sk-toggleable__content pre {margin: 0.2em;color: black;border-radius: 0.25em;background-color: #f0f8ff;}#sk-container-id-2 input.sk-toggleable__control:checked~div.sk-toggleable__content {max-height: 200px;max-width: 100%;overflow: auto;}#sk-container-id-2 input.sk-toggleable__control:checked~label.sk-toggleable__label-arrow:before {content: \"▾\";}#sk-container-id-2 div.sk-estimator input.sk-toggleable__control:checked~label.sk-toggleable__label {background-color: #d4ebff;}#sk-container-id-2 div.sk-label input.sk-toggleable__control:checked~label.sk-toggleable__label {background-color: #d4ebff;}#sk-container-id-2 input.sk-hidden--visually {border: 0;clip: rect(1px 1px 1px 1px);clip: rect(1px, 1px, 1px, 1px);height: 1px;margin: -1px;overflow: hidden;padding: 0;position: absolute;width: 1px;}#sk-container-id-2 div.sk-estimator {font-family: monospace;background-color: #f0f8ff;border: 1px dotted black;border-radius: 0.25em;box-sizing: border-box;margin-bottom: 0.5em;}#sk-container-id-2 div.sk-estimator:hover {background-color: #d4ebff;}#sk-container-id-2 div.sk-parallel-item::after {content: \"\";width: 100%;border-bottom: 1px solid gray;flex-grow: 1;}#sk-container-id-2 div.sk-label:hover label.sk-toggleable__label {background-color: #d4ebff;}#sk-container-id-2 div.sk-serial::before {content: \"\";position: absolute;border-left: 1px solid gray;box-sizing: border-box;top: 0;bottom: 0;left: 50%;z-index: 0;}#sk-container-id-2 div.sk-serial {display: flex;flex-direction: column;align-items: center;background-color: white;padding-right: 0.2em;padding-left: 0.2em;position: relative;}#sk-container-id-2 div.sk-item {position: relative;z-index: 1;}#sk-container-id-2 div.sk-parallel {display: flex;align-items: stretch;justify-content: center;background-color: white;position: relative;}#sk-container-id-2 div.sk-item::before, #sk-container-id-2 div.sk-parallel-item::before {content: \"\";position: absolute;border-left: 1px solid gray;box-sizing: border-box;top: 0;bottom: 0;left: 50%;z-index: -1;}#sk-container-id-2 div.sk-parallel-item {display: flex;flex-direction: column;z-index: 1;position: relative;background-color: white;}#sk-container-id-2 div.sk-parallel-item:first-child::after {align-self: flex-end;width: 50%;}#sk-container-id-2 div.sk-parallel-item:last-child::after {align-self: flex-start;width: 50%;}#sk-container-id-2 div.sk-parallel-item:only-child::after {width: 0;}#sk-container-id-2 div.sk-dashed-wrapped {border: 1px dashed gray;margin: 0 0.4em 0.5em 0.4em;box-sizing: border-box;padding-bottom: 0.4em;background-color: white;}#sk-container-id-2 div.sk-label label {font-family: monospace;font-weight: bold;display: inline-block;line-height: 1.2em;}#sk-container-id-2 div.sk-label-container {text-align: center;}#sk-container-id-2 div.sk-container {/* jupyter's `normalize.less` sets `[hidden] { display: none; }` but bootstrap.min.css set `[hidden] { display: none !important; }` so we also need the `!important` here to be able to override the default hidden behavior on the sphinx rendered scikit-learn.org. See: https://github.com/scikit-learn/scikit-learn/issues/21755 */display: inline-block !important;position: relative;}#sk-container-id-2 div.sk-text-repr-fallback {display: none;}</style><div id=\"sk-container-id-2\" class=\"sk-top-container\"><div class=\"sk-text-repr-fallback\"><pre>LogisticRegression(C=0.5, max_iter=300, solver=&#x27;saga&#x27;,\n",
       "                   tol=0.00022294400779122961)</pre><b>In a Jupyter environment, please rerun this cell to show the HTML representation or trust the notebook. <br />On GitHub, the HTML representation is unable to render, please try loading this page with nbviewer.org.</b></div><div class=\"sk-container\" hidden><div class=\"sk-item\"><div class=\"sk-estimator sk-toggleable\"><input class=\"sk-toggleable__control sk-hidden--visually\" id=\"sk-estimator-id-2\" type=\"checkbox\" checked><label for=\"sk-estimator-id-2\" class=\"sk-toggleable__label sk-toggleable__label-arrow\">LogisticRegression</label><div class=\"sk-toggleable__content\"><pre>LogisticRegression(C=0.5, max_iter=300, solver=&#x27;saga&#x27;,\n",
       "                   tol=0.00022294400779122961)</pre></div></div></div></div></div>"
      ],
      "text/plain": [
       "LogisticRegression(C=0.5, max_iter=300, solver='saga',\n",
       "                   tol=0.00022294400779122961)"
      ]
     },
     "execution_count": 26,
     "metadata": {},
     "output_type": "execute_result"
    }
   ],
   "source": [
    "# Training the classifier with default parameters\n",
    "lr_clf_3.fit(X_train_vectorizer, y_train['target'].values)"
   ]
  },
  {
   "cell_type": "code",
   "execution_count": 27,
   "id": "a538befc",
   "metadata": {},
   "outputs": [],
   "source": [
    "# Pridicting from the validation set\n",
    "y_pred_val = lr_clf_3.predict(X_val_vectorizer)"
   ]
  },
  {
   "cell_type": "code",
   "execution_count": 28,
   "id": "642c8db7",
   "metadata": {},
   "outputs": [
    {
     "name": "stdout",
     "output_type": "stream",
     "text": [
      "Accuracy score:  0.8249969961310167\n",
      "Confusion Matrix: \n",
      "[[84620     0 19027]\n",
      " [    1     0    10]\n",
      " [17374     0 87033]]\n",
      "Classification Report: \n",
      "              precision    recall  f1-score   support\n",
      "\n",
      "           0       0.83      0.82      0.82    103647\n",
      "           1       0.00      0.00      0.00        11\n",
      "           2       0.82      0.83      0.83    104407\n",
      "\n",
      "    accuracy                           0.82    208065\n",
      "   macro avg       0.55      0.55      0.55    208065\n",
      "weighted avg       0.83      0.82      0.82    208065\n",
      "\n"
     ]
    },
    {
     "name": "stderr",
     "output_type": "stream",
     "text": [
      "/opt/miniconda3/envs/tf_env/lib/python3.8/site-packages/sklearn/metrics/_classification.py:1334: UndefinedMetricWarning: Precision and F-score are ill-defined and being set to 0.0 in labels with no predicted samples. Use `zero_division` parameter to control this behavior.\n",
      "  _warn_prf(average, modifier, msg_start, len(result))\n",
      "/opt/miniconda3/envs/tf_env/lib/python3.8/site-packages/sklearn/metrics/_classification.py:1334: UndefinedMetricWarning: Precision and F-score are ill-defined and being set to 0.0 in labels with no predicted samples. Use `zero_division` parameter to control this behavior.\n",
      "  _warn_prf(average, modifier, msg_start, len(result))\n",
      "/opt/miniconda3/envs/tf_env/lib/python3.8/site-packages/sklearn/metrics/_classification.py:1334: UndefinedMetricWarning: Precision and F-score are ill-defined and being set to 0.0 in labels with no predicted samples. Use `zero_division` parameter to control this behavior.\n",
      "  _warn_prf(average, modifier, msg_start, len(result))\n"
     ]
    }
   ],
   "source": [
    "# Printing the results\n",
    "print('Accuracy score: ', accuracy_score(y_val['target'].values, y_pred_val))\n",
    "print('Confusion Matrix: ')\n",
    "print(confusion_matrix(y_val['target'].values, y_pred_val))\n",
    "print('Classification Report: ')\n",
    "print(classification_report(y_val['target'].values, y_pred_val))"
   ]
  },
  {
   "cell_type": "code",
   "execution_count": 30,
   "id": "f848d18d",
   "metadata": {},
   "outputs": [
    {
     "data": {
      "text/plain": [
       "['models/logreg+tfidf.sav']"
      ]
     },
     "execution_count": 30,
     "metadata": {},
     "output_type": "execute_result"
    }
   ],
   "source": [
    "import joblib\n",
    "# save the model to disk\n",
    "filename = 'models/logreg+tfidf.sav'\n",
    "joblib.dump(lr_clf_3, filename)"
   ]
  },
  {
   "cell_type": "code",
   "execution_count": null,
   "id": "2a874ec5",
   "metadata": {},
   "outputs": [],
   "source": []
  },
  {
   "cell_type": "code",
   "execution_count": null,
   "id": "c42f6c36",
   "metadata": {},
   "outputs": [],
   "source": []
  },
  {
   "cell_type": "markdown",
   "id": "57da49a4",
   "metadata": {},
   "source": [
    "# SMOTE - DATA IMBALANCE"
   ]
  },
  {
   "cell_type": "code",
   "execution_count": 34,
   "id": "26bcbb6d",
   "metadata": {},
   "outputs": [],
   "source": [
    "from imblearn.over_sampling import SMOTE\n",
    "# Generating synthetic samples for underrepresented class\n",
    "smote = SMOTE(random_state=8, n_jobs=-1)\n",
    "X_SMOTE, y_SMOTE = smote.fit_resample(X_train_vectorizer, y_train['target'])"
   ]
  },
  {
   "cell_type": "code",
   "execution_count": 35,
   "id": "0eb8846e",
   "metadata": {},
   "outputs": [],
   "source": [
    "lr_clf_4 = LogisticRegression(max_iter=300, solver='saga', C= 0.5, tol=0.00022294400779122961)"
   ]
  },
  {
   "cell_type": "code",
   "execution_count": 36,
   "id": "8361cb05",
   "metadata": {},
   "outputs": [
    {
     "data": {
      "text/html": [
       "<style>#sk-container-id-3 {color: black;background-color: white;}#sk-container-id-3 pre{padding: 0;}#sk-container-id-3 div.sk-toggleable {background-color: white;}#sk-container-id-3 label.sk-toggleable__label {cursor: pointer;display: block;width: 100%;margin-bottom: 0;padding: 0.3em;box-sizing: border-box;text-align: center;}#sk-container-id-3 label.sk-toggleable__label-arrow:before {content: \"▸\";float: left;margin-right: 0.25em;color: #696969;}#sk-container-id-3 label.sk-toggleable__label-arrow:hover:before {color: black;}#sk-container-id-3 div.sk-estimator:hover label.sk-toggleable__label-arrow:before {color: black;}#sk-container-id-3 div.sk-toggleable__content {max-height: 0;max-width: 0;overflow: hidden;text-align: left;background-color: #f0f8ff;}#sk-container-id-3 div.sk-toggleable__content pre {margin: 0.2em;color: black;border-radius: 0.25em;background-color: #f0f8ff;}#sk-container-id-3 input.sk-toggleable__control:checked~div.sk-toggleable__content {max-height: 200px;max-width: 100%;overflow: auto;}#sk-container-id-3 input.sk-toggleable__control:checked~label.sk-toggleable__label-arrow:before {content: \"▾\";}#sk-container-id-3 div.sk-estimator input.sk-toggleable__control:checked~label.sk-toggleable__label {background-color: #d4ebff;}#sk-container-id-3 div.sk-label input.sk-toggleable__control:checked~label.sk-toggleable__label {background-color: #d4ebff;}#sk-container-id-3 input.sk-hidden--visually {border: 0;clip: rect(1px 1px 1px 1px);clip: rect(1px, 1px, 1px, 1px);height: 1px;margin: -1px;overflow: hidden;padding: 0;position: absolute;width: 1px;}#sk-container-id-3 div.sk-estimator {font-family: monospace;background-color: #f0f8ff;border: 1px dotted black;border-radius: 0.25em;box-sizing: border-box;margin-bottom: 0.5em;}#sk-container-id-3 div.sk-estimator:hover {background-color: #d4ebff;}#sk-container-id-3 div.sk-parallel-item::after {content: \"\";width: 100%;border-bottom: 1px solid gray;flex-grow: 1;}#sk-container-id-3 div.sk-label:hover label.sk-toggleable__label {background-color: #d4ebff;}#sk-container-id-3 div.sk-serial::before {content: \"\";position: absolute;border-left: 1px solid gray;box-sizing: border-box;top: 0;bottom: 0;left: 50%;z-index: 0;}#sk-container-id-3 div.sk-serial {display: flex;flex-direction: column;align-items: center;background-color: white;padding-right: 0.2em;padding-left: 0.2em;position: relative;}#sk-container-id-3 div.sk-item {position: relative;z-index: 1;}#sk-container-id-3 div.sk-parallel {display: flex;align-items: stretch;justify-content: center;background-color: white;position: relative;}#sk-container-id-3 div.sk-item::before, #sk-container-id-3 div.sk-parallel-item::before {content: \"\";position: absolute;border-left: 1px solid gray;box-sizing: border-box;top: 0;bottom: 0;left: 50%;z-index: -1;}#sk-container-id-3 div.sk-parallel-item {display: flex;flex-direction: column;z-index: 1;position: relative;background-color: white;}#sk-container-id-3 div.sk-parallel-item:first-child::after {align-self: flex-end;width: 50%;}#sk-container-id-3 div.sk-parallel-item:last-child::after {align-self: flex-start;width: 50%;}#sk-container-id-3 div.sk-parallel-item:only-child::after {width: 0;}#sk-container-id-3 div.sk-dashed-wrapped {border: 1px dashed gray;margin: 0 0.4em 0.5em 0.4em;box-sizing: border-box;padding-bottom: 0.4em;background-color: white;}#sk-container-id-3 div.sk-label label {font-family: monospace;font-weight: bold;display: inline-block;line-height: 1.2em;}#sk-container-id-3 div.sk-label-container {text-align: center;}#sk-container-id-3 div.sk-container {/* jupyter's `normalize.less` sets `[hidden] { display: none; }` but bootstrap.min.css set `[hidden] { display: none !important; }` so we also need the `!important` here to be able to override the default hidden behavior on the sphinx rendered scikit-learn.org. See: https://github.com/scikit-learn/scikit-learn/issues/21755 */display: inline-block !important;position: relative;}#sk-container-id-3 div.sk-text-repr-fallback {display: none;}</style><div id=\"sk-container-id-3\" class=\"sk-top-container\"><div class=\"sk-text-repr-fallback\"><pre>LogisticRegression(C=0.5, max_iter=300, solver=&#x27;saga&#x27;,\n",
       "                   tol=0.00022294400779122961)</pre><b>In a Jupyter environment, please rerun this cell to show the HTML representation or trust the notebook. <br />On GitHub, the HTML representation is unable to render, please try loading this page with nbviewer.org.</b></div><div class=\"sk-container\" hidden><div class=\"sk-item\"><div class=\"sk-estimator sk-toggleable\"><input class=\"sk-toggleable__control sk-hidden--visually\" id=\"sk-estimator-id-3\" type=\"checkbox\" checked><label for=\"sk-estimator-id-3\" class=\"sk-toggleable__label sk-toggleable__label-arrow\">LogisticRegression</label><div class=\"sk-toggleable__content\"><pre>LogisticRegression(C=0.5, max_iter=300, solver=&#x27;saga&#x27;,\n",
       "                   tol=0.00022294400779122961)</pre></div></div></div></div></div>"
      ],
      "text/plain": [
       "LogisticRegression(C=0.5, max_iter=300, solver='saga',\n",
       "                   tol=0.00022294400779122961)"
      ]
     },
     "execution_count": 36,
     "metadata": {},
     "output_type": "execute_result"
    }
   ],
   "source": [
    "lr_clf_4.fit(X_SMOTE,y_SMOTE)"
   ]
  },
  {
   "cell_type": "code",
   "execution_count": 37,
   "id": "60160595",
   "metadata": {},
   "outputs": [],
   "source": [
    "y_pred_val = lr_clf_3.predict(X_val_vectorizer)"
   ]
  },
  {
   "cell_type": "code",
   "execution_count": 38,
   "id": "31aa09ac",
   "metadata": {},
   "outputs": [
    {
     "name": "stdout",
     "output_type": "stream",
     "text": [
      "Accuracy score:  0.8249969961310167\n",
      "Confusion Matrix: \n",
      "[[84620     0 19027]\n",
      " [    1     0    10]\n",
      " [17374     0 87033]]\n",
      "Classification Report: \n",
      "              precision    recall  f1-score   support\n",
      "\n",
      "           0       0.83      0.82      0.82    103647\n",
      "           1       0.00      0.00      0.00        11\n",
      "           2       0.82      0.83      0.83    104407\n",
      "\n",
      "    accuracy                           0.82    208065\n",
      "   macro avg       0.55      0.55      0.55    208065\n",
      "weighted avg       0.83      0.82      0.82    208065\n",
      "\n"
     ]
    },
    {
     "name": "stderr",
     "output_type": "stream",
     "text": [
      "/opt/miniconda3/envs/tf_env/lib/python3.8/site-packages/sklearn/metrics/_classification.py:1334: UndefinedMetricWarning: Precision and F-score are ill-defined and being set to 0.0 in labels with no predicted samples. Use `zero_division` parameter to control this behavior.\n",
      "  _warn_prf(average, modifier, msg_start, len(result))\n",
      "/opt/miniconda3/envs/tf_env/lib/python3.8/site-packages/sklearn/metrics/_classification.py:1334: UndefinedMetricWarning: Precision and F-score are ill-defined and being set to 0.0 in labels with no predicted samples. Use `zero_division` parameter to control this behavior.\n",
      "  _warn_prf(average, modifier, msg_start, len(result))\n",
      "/opt/miniconda3/envs/tf_env/lib/python3.8/site-packages/sklearn/metrics/_classification.py:1334: UndefinedMetricWarning: Precision and F-score are ill-defined and being set to 0.0 in labels with no predicted samples. Use `zero_division` parameter to control this behavior.\n",
      "  _warn_prf(average, modifier, msg_start, len(result))\n"
     ]
    }
   ],
   "source": [
    "# Printing the results\n",
    "print('Accuracy score: ', accuracy_score(y_val['target'].values, y_pred_val))\n",
    "print('Confusion Matrix: ')\n",
    "print(confusion_matrix(y_val['target'].values, y_pred_val))\n",
    "print('Classification Report: ')\n",
    "print(classification_report(y_val['target'].values, y_pred_val))"
   ]
  },
  {
   "cell_type": "code",
   "execution_count": 39,
   "id": "3e06e1e8",
   "metadata": {},
   "outputs": [
    {
     "data": {
      "text/plain": [
       "['models/logreg+tfidf+smote.sav']"
      ]
     },
     "execution_count": 39,
     "metadata": {},
     "output_type": "execute_result"
    }
   ],
   "source": [
    "import joblib\n",
    "# save the model to disk\n",
    "filename = 'models/logreg+tfidf+smote.sav'\n",
    "joblib.dump(lr_clf_4, filename)"
   ]
  },
  {
   "cell_type": "markdown",
   "id": "fc1b832c",
   "metadata": {},
   "source": [
    "# Finalizing model for Kaggle Submission"
   ]
  },
  {
   "cell_type": "code",
   "execution_count": null,
   "id": "fba9cc15",
   "metadata": {},
   "outputs": [],
   "source": [
    "print(\"Logistic Regression experiments completed, starting retraining on full training data with best model for kaggle submission..\")"
   ]
  },
  {
   "cell_type": "code",
   "execution_count": null,
   "id": "1c986059",
   "metadata": {},
   "outputs": [],
   "source": [
    "X_train_final = train_data.copy()\n",
    "X_test_final = test_data.copy()\n",
    "X_train_final['text'] = X_train_final['text'].apply(advanced_data_cleaning)\n",
    "X_test_final['text'] = X_test_final['text'].apply(advanced_data_cleaning)"
   ]
  },
  {
   "cell_type": "code",
   "execution_count": null,
   "id": "98d2f881",
   "metadata": {},
   "outputs": [],
   "source": [
    "vectorizer = TfidfVectorizer(max_features=250000, ngram_range=(1,3))\n",
    "X_train_final_vec = vectorizer.fit_transform(X_train_final['text'])\n",
    "X_test_final_vec = vectorizer.transform(X_test_final['text'])"
   ]
  },
  {
   "cell_type": "code",
   "execution_count": null,
   "id": "992079b1",
   "metadata": {},
   "outputs": [],
   "source": [
    "logreg_final = LogisticRegression(C=0.5, max_iter=300, solver='saga',\n",
    "                   tol=0.00022294400779122961)\n",
    "logreg_final.fit(X_train_final_vec, train_labels['target'].values)\n",
    "y_test_pred = logreg_final.predict(X_test_final_vec)"
   ]
  },
  {
   "cell_type": "code",
   "execution_count": null,
   "id": "6c82d7e9",
   "metadata": {},
   "outputs": [],
   "source": [
    "prepare_kaggle_submission(y_test_pred, 'final-logreg-advance-clean-tfidf-13-hp.csv')"
   ]
  },
  {
   "cell_type": "code",
   "execution_count": null,
   "id": "a50fae76",
   "metadata": {},
   "outputs": [],
   "source": []
  },
  {
   "cell_type": "code",
   "execution_count": null,
   "id": "476db195",
   "metadata": {},
   "outputs": [],
   "source": [
    "# Kaggle public score: "
   ]
  },
  {
   "cell_type": "code",
   "execution_count": null,
   "id": "bb8e7dd1",
   "metadata": {},
   "outputs": [],
   "source": []
  }
 ],
 "metadata": {
  "kernelspec": {
   "display_name": "Python 3 (ipykernel)",
   "language": "python",
   "name": "python3"
  },
  "language_info": {
   "codemirror_mode": {
    "name": "ipython",
    "version": 3
   },
   "file_extension": ".py",
   "mimetype": "text/x-python",
   "name": "python",
   "nbconvert_exporter": "python",
   "pygments_lexer": "ipython3",
   "version": "3.8.13"
  }
 },
 "nbformat": 4,
 "nbformat_minor": 5
}
