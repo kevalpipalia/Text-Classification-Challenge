{
 "cells": [
  {
   "cell_type": "code",
   "execution_count": 1,
   "id": "a43b5ea0",
   "metadata": {},
   "outputs": [],
   "source": [
    "import pandas as pd\n",
    "from sklearn.model_selection import train_test_split\n",
    "from sklearn.feature_extraction.text import CountVectorizer\n",
    "import skopt\n",
    "from sklearn.naive_bayes import MultinomialNB\n",
    "from sklearn.metrics import accuracy_score, classification_report\n"
   ]
  },
  {
   "cell_type": "code",
   "execution_count": 2,
   "id": "4b9d8a9a",
   "metadata": {},
   "outputs": [],
   "source": [
    "from utilities.data_loader import load_modeling_data, load_testing_data\n",
    "from utilities.text_cleaner import basic_data_cleaning, advanced_data_cleaning"
   ]
  },
  {
   "cell_type": "code",
   "execution_count": 3,
   "id": "8c4db5c0",
   "metadata": {},
   "outputs": [],
   "source": [
    "train_data, train_labels = load_modeling_data()"
   ]
  },
  {
   "cell_type": "code",
   "execution_count": 4,
   "id": "3ba2e9c6",
   "metadata": {},
   "outputs": [],
   "source": [
    "test_data = load_testing_data()"
   ]
  },
  {
   "cell_type": "code",
   "execution_count": 5,
   "id": "9547a6e0",
   "metadata": {},
   "outputs": [],
   "source": [
    "dict_vals = {'negative': 0, 'neutral':1, 'positive':2}\n",
    "train_labels['target'] = train_labels['target'].apply(lambda x: dict_vals[x])"
   ]
  },
  {
   "cell_type": "code",
   "execution_count": 6,
   "id": "7a38d5b1",
   "metadata": {},
   "outputs": [
    {
     "data": {
      "text/html": [
       "<div>\n",
       "<style scoped>\n",
       "    .dataframe tbody tr th:only-of-type {\n",
       "        vertical-align: middle;\n",
       "    }\n",
       "\n",
       "    .dataframe tbody tr th {\n",
       "        vertical-align: top;\n",
       "    }\n",
       "\n",
       "    .dataframe thead th {\n",
       "        text-align: right;\n",
       "    }\n",
       "</style>\n",
       "<table border=\"1\" class=\"dataframe\">\n",
       "  <thead>\n",
       "    <tr style=\"text-align: right;\">\n",
       "      <th></th>\n",
       "      <th>target</th>\n",
       "    </tr>\n",
       "    <tr>\n",
       "      <th>id</th>\n",
       "      <th></th>\n",
       "    </tr>\n",
       "  </thead>\n",
       "  <tbody>\n",
       "    <tr>\n",
       "      <th>0</th>\n",
       "      <td>2</td>\n",
       "    </tr>\n",
       "    <tr>\n",
       "      <th>1</th>\n",
       "      <td>0</td>\n",
       "    </tr>\n",
       "    <tr>\n",
       "      <th>2</th>\n",
       "      <td>2</td>\n",
       "    </tr>\n",
       "    <tr>\n",
       "      <th>3</th>\n",
       "      <td>2</td>\n",
       "    </tr>\n",
       "    <tr>\n",
       "      <th>4</th>\n",
       "      <td>0</td>\n",
       "    </tr>\n",
       "    <tr>\n",
       "      <th>...</th>\n",
       "      <td>...</td>\n",
       "    </tr>\n",
       "    <tr>\n",
       "      <th>1040318</th>\n",
       "      <td>2</td>\n",
       "    </tr>\n",
       "    <tr>\n",
       "      <th>1040319</th>\n",
       "      <td>0</td>\n",
       "    </tr>\n",
       "    <tr>\n",
       "      <th>1040320</th>\n",
       "      <td>0</td>\n",
       "    </tr>\n",
       "    <tr>\n",
       "      <th>1040321</th>\n",
       "      <td>2</td>\n",
       "    </tr>\n",
       "    <tr>\n",
       "      <th>1040322</th>\n",
       "      <td>0</td>\n",
       "    </tr>\n",
       "  </tbody>\n",
       "</table>\n",
       "<p>1040323 rows × 1 columns</p>\n",
       "</div>"
      ],
      "text/plain": [
       "         target\n",
       "id             \n",
       "0             2\n",
       "1             0\n",
       "2             2\n",
       "3             2\n",
       "4             0\n",
       "...         ...\n",
       "1040318       2\n",
       "1040319       0\n",
       "1040320       0\n",
       "1040321       2\n",
       "1040322       0\n",
       "\n",
       "[1040323 rows x 1 columns]"
      ]
     },
     "execution_count": 6,
     "metadata": {},
     "output_type": "execute_result"
    }
   ],
   "source": [
    "train_labels"
   ]
  },
  {
   "cell_type": "markdown",
   "id": "540764fb",
   "metadata": {},
   "source": [
    "# Experiment 1: Making Baseline"
   ]
  },
  {
   "cell_type": "code",
   "execution_count": 7,
   "id": "77e66def",
   "metadata": {},
   "outputs": [],
   "source": [
    "x_train, x_validation, y_train, y_validation = train_test_split(train_data, train_labels, test_size = 0.2, random_state=10)"
   ]
  },
  {
   "cell_type": "code",
   "execution_count": 8,
   "id": "b9b56975",
   "metadata": {},
   "outputs": [
    {
     "name": "stdout",
     "output_type": "stream",
     "text": [
      "(832258, 1)\n"
     ]
    }
   ],
   "source": [
    "print(x_train.shape)"
   ]
  },
  {
   "cell_type": "code",
   "execution_count": 9,
   "id": "08c8dcd2",
   "metadata": {},
   "outputs": [
    {
     "name": "stdout",
     "output_type": "stream",
     "text": [
      "(208065, 1)\n"
     ]
    }
   ],
   "source": [
    "print(x_validation.shape)"
   ]
  },
  {
   "cell_type": "code",
   "execution_count": 10,
   "id": "21e766e5",
   "metadata": {},
   "outputs": [],
   "source": [
    "bow = CountVectorizer()"
   ]
  },
  {
   "cell_type": "code",
   "execution_count": 11,
   "id": "f5a031a7",
   "metadata": {},
   "outputs": [],
   "source": [
    "x_train_bow = bow.fit_transform(x_train['text'])\n",
    "x_validation_bow = bow.transform(x_validation['text'])"
   ]
  },
  {
   "cell_type": "code",
   "execution_count": 12,
   "id": "f4a6339d",
   "metadata": {},
   "outputs": [
    {
     "name": "stdout",
     "output_type": "stream",
     "text": [
      "(832258, 439807)\n"
     ]
    }
   ],
   "source": [
    "print(x_train_bow.shape)"
   ]
  },
  {
   "cell_type": "code",
   "execution_count": 13,
   "id": "8668f0ca",
   "metadata": {},
   "outputs": [],
   "source": [
    "nb_clf_1 = MultinomialNB()"
   ]
  },
  {
   "cell_type": "code",
   "execution_count": 14,
   "id": "53c8e906",
   "metadata": {},
   "outputs": [
    {
     "data": {
      "text/html": [
       "<style>#sk-container-id-1 {color: black;background-color: white;}#sk-container-id-1 pre{padding: 0;}#sk-container-id-1 div.sk-toggleable {background-color: white;}#sk-container-id-1 label.sk-toggleable__label {cursor: pointer;display: block;width: 100%;margin-bottom: 0;padding: 0.3em;box-sizing: border-box;text-align: center;}#sk-container-id-1 label.sk-toggleable__label-arrow:before {content: \"▸\";float: left;margin-right: 0.25em;color: #696969;}#sk-container-id-1 label.sk-toggleable__label-arrow:hover:before {color: black;}#sk-container-id-1 div.sk-estimator:hover label.sk-toggleable__label-arrow:before {color: black;}#sk-container-id-1 div.sk-toggleable__content {max-height: 0;max-width: 0;overflow: hidden;text-align: left;background-color: #f0f8ff;}#sk-container-id-1 div.sk-toggleable__content pre {margin: 0.2em;color: black;border-radius: 0.25em;background-color: #f0f8ff;}#sk-container-id-1 input.sk-toggleable__control:checked~div.sk-toggleable__content {max-height: 200px;max-width: 100%;overflow: auto;}#sk-container-id-1 input.sk-toggleable__control:checked~label.sk-toggleable__label-arrow:before {content: \"▾\";}#sk-container-id-1 div.sk-estimator input.sk-toggleable__control:checked~label.sk-toggleable__label {background-color: #d4ebff;}#sk-container-id-1 div.sk-label input.sk-toggleable__control:checked~label.sk-toggleable__label {background-color: #d4ebff;}#sk-container-id-1 input.sk-hidden--visually {border: 0;clip: rect(1px 1px 1px 1px);clip: rect(1px, 1px, 1px, 1px);height: 1px;margin: -1px;overflow: hidden;padding: 0;position: absolute;width: 1px;}#sk-container-id-1 div.sk-estimator {font-family: monospace;background-color: #f0f8ff;border: 1px dotted black;border-radius: 0.25em;box-sizing: border-box;margin-bottom: 0.5em;}#sk-container-id-1 div.sk-estimator:hover {background-color: #d4ebff;}#sk-container-id-1 div.sk-parallel-item::after {content: \"\";width: 100%;border-bottom: 1px solid gray;flex-grow: 1;}#sk-container-id-1 div.sk-label:hover label.sk-toggleable__label {background-color: #d4ebff;}#sk-container-id-1 div.sk-serial::before {content: \"\";position: absolute;border-left: 1px solid gray;box-sizing: border-box;top: 0;bottom: 0;left: 50%;z-index: 0;}#sk-container-id-1 div.sk-serial {display: flex;flex-direction: column;align-items: center;background-color: white;padding-right: 0.2em;padding-left: 0.2em;position: relative;}#sk-container-id-1 div.sk-item {position: relative;z-index: 1;}#sk-container-id-1 div.sk-parallel {display: flex;align-items: stretch;justify-content: center;background-color: white;position: relative;}#sk-container-id-1 div.sk-item::before, #sk-container-id-1 div.sk-parallel-item::before {content: \"\";position: absolute;border-left: 1px solid gray;box-sizing: border-box;top: 0;bottom: 0;left: 50%;z-index: -1;}#sk-container-id-1 div.sk-parallel-item {display: flex;flex-direction: column;z-index: 1;position: relative;background-color: white;}#sk-container-id-1 div.sk-parallel-item:first-child::after {align-self: flex-end;width: 50%;}#sk-container-id-1 div.sk-parallel-item:last-child::after {align-self: flex-start;width: 50%;}#sk-container-id-1 div.sk-parallel-item:only-child::after {width: 0;}#sk-container-id-1 div.sk-dashed-wrapped {border: 1px dashed gray;margin: 0 0.4em 0.5em 0.4em;box-sizing: border-box;padding-bottom: 0.4em;background-color: white;}#sk-container-id-1 div.sk-label label {font-family: monospace;font-weight: bold;display: inline-block;line-height: 1.2em;}#sk-container-id-1 div.sk-label-container {text-align: center;}#sk-container-id-1 div.sk-container {/* jupyter's `normalize.less` sets `[hidden] { display: none; }` but bootstrap.min.css set `[hidden] { display: none !important; }` so we also need the `!important` here to be able to override the default hidden behavior on the sphinx rendered scikit-learn.org. See: https://github.com/scikit-learn/scikit-learn/issues/21755 */display: inline-block !important;position: relative;}#sk-container-id-1 div.sk-text-repr-fallback {display: none;}</style><div id=\"sk-container-id-1\" class=\"sk-top-container\"><div class=\"sk-text-repr-fallback\"><pre>MultinomialNB()</pre><b>In a Jupyter environment, please rerun this cell to show the HTML representation or trust the notebook. <br />On GitHub, the HTML representation is unable to render, please try loading this page with nbviewer.org.</b></div><div class=\"sk-container\" hidden><div class=\"sk-item\"><div class=\"sk-estimator sk-toggleable\"><input class=\"sk-toggleable__control sk-hidden--visually\" id=\"sk-estimator-id-1\" type=\"checkbox\" checked><label for=\"sk-estimator-id-1\" class=\"sk-toggleable__label sk-toggleable__label-arrow\">MultinomialNB</label><div class=\"sk-toggleable__content\"><pre>MultinomialNB()</pre></div></div></div></div></div>"
      ],
      "text/plain": [
       "MultinomialNB()"
      ]
     },
     "execution_count": 14,
     "metadata": {},
     "output_type": "execute_result"
    }
   ],
   "source": [
    "nb_clf_1.fit(x_train_bow, y_train['target'].values)"
   ]
  },
  {
   "cell_type": "code",
   "execution_count": 15,
   "id": "2cf65d0e",
   "metadata": {},
   "outputs": [],
   "source": [
    "y_pred_validation = nb_clf_1.predict(x_validation_bow)"
   ]
  },
  {
   "cell_type": "code",
   "execution_count": 16,
   "id": "e3dfce36",
   "metadata": {},
   "outputs": [
    {
     "name": "stdout",
     "output_type": "stream",
     "text": [
      "Accuracy score:  0.7795448537716579\n"
     ]
    }
   ],
   "source": [
    "print('Accuracy score: ', accuracy_score(y_validation['target'].values, y_pred_validation))"
   ]
  },
  {
   "cell_type": "code",
   "execution_count": 17,
   "id": "81256ceb",
   "metadata": {},
   "outputs": [
    {
     "name": "stdout",
     "output_type": "stream",
     "text": [
      "              precision    recall  f1-score   support\n",
      "\n",
      "           0       0.76      0.82      0.79    104093\n",
      "           1       0.00      0.00      0.00        16\n",
      "           2       0.80      0.74      0.77    103956\n",
      "\n",
      "    accuracy                           0.78    208065\n",
      "   macro avg       0.52      0.52      0.52    208065\n",
      "weighted avg       0.78      0.78      0.78    208065\n",
      "\n"
     ]
    }
   ],
   "source": [
    "print(classification_report(y_validation['target'].values, y_pred_validation))"
   ]
  },
  {
   "cell_type": "code",
   "execution_count": null,
   "id": "fc532944",
   "metadata": {},
   "outputs": [],
   "source": []
  },
  {
   "cell_type": "code",
   "execution_count": 18,
   "id": "3d5b9a97",
   "metadata": {},
   "outputs": [],
   "source": [
    "# Retraining for Kaggle Submission"
   ]
  },
  {
   "cell_type": "code",
   "execution_count": 19,
   "id": "f97528be",
   "metadata": {},
   "outputs": [],
   "source": [
    "final_training_data = train_data.copy()"
   ]
  },
  {
   "cell_type": "code",
   "execution_count": 20,
   "id": "95842b38",
   "metadata": {},
   "outputs": [],
   "source": [
    "final_training_labels = train_labels.copy()"
   ]
  },
  {
   "cell_type": "code",
   "execution_count": 21,
   "id": "a625a4f1",
   "metadata": {},
   "outputs": [],
   "source": [
    "final_test_data = test_data.copy()"
   ]
  },
  {
   "cell_type": "code",
   "execution_count": 22,
   "id": "a4005ec4",
   "metadata": {},
   "outputs": [],
   "source": [
    "bow = CountVectorizer()\n",
    "final_training_data = bow.fit_transform(final_training_data['text'])"
   ]
  },
  {
   "cell_type": "code",
   "execution_count": 23,
   "id": "7fcfe222",
   "metadata": {},
   "outputs": [],
   "source": [
    "final_test_data = bow.transform(final_test_data['text'])"
   ]
  },
  {
   "cell_type": "code",
   "execution_count": 24,
   "id": "174bc03b",
   "metadata": {},
   "outputs": [],
   "source": [
    "nb_clf = MultinomialNB()\n",
    "nb_clf.fit(final_training_data, final_training_labels['target'])\n",
    "final_test_pred = nb_clf.predict(final_test_data) "
   ]
  },
  {
   "cell_type": "code",
   "execution_count": 25,
   "id": "a6a62c98",
   "metadata": {},
   "outputs": [],
   "source": [
    "final_test_pred = pd.DataFrame(final_test_pred).reset_index()\n",
    "final_test_pred.columns = ['id', 'target']\n",
    "final_test_pred.to_csv('kaggle-submissions/nb-bow-baseline.csv',index=False)"
   ]
  },
  {
   "cell_type": "markdown",
   "id": "83d489bd",
   "metadata": {},
   "source": [
    "# Experiment 2: With Basic preprocessing "
   ]
  },
  {
   "cell_type": "code",
   "execution_count": 26,
   "id": "ecc75866",
   "metadata": {},
   "outputs": [],
   "source": [
    "x_train, x_validation, y_train, y_validation = train_test_split(train_data, train_labels, test_size = 0.2, random_state=10)"
   ]
  },
  {
   "cell_type": "code",
   "execution_count": 27,
   "id": "ac4ed487",
   "metadata": {},
   "outputs": [],
   "source": [
    "x_train['text'] = x_train['text'].apply(basic_data_cleaning)"
   ]
  },
  {
   "cell_type": "code",
   "execution_count": 28,
   "id": "e72ab37b",
   "metadata": {},
   "outputs": [],
   "source": [
    "x_validation['text'] = x_validation['text'].apply(basic_data_cleaning)"
   ]
  },
  {
   "cell_type": "code",
   "execution_count": 29,
   "id": "ea8b18f3",
   "metadata": {},
   "outputs": [],
   "source": [
    "bow = CountVectorizer()"
   ]
  },
  {
   "cell_type": "code",
   "execution_count": 30,
   "id": "0fd0f9c6",
   "metadata": {},
   "outputs": [],
   "source": [
    "x_train_bow = bow.fit_transform(x_train['text'])\n",
    "x_validation_bow = bow.transform(x_validation['text'])"
   ]
  },
  {
   "cell_type": "code",
   "execution_count": 31,
   "id": "726f76d5",
   "metadata": {},
   "outputs": [
    {
     "name": "stdout",
     "output_type": "stream",
     "text": [
      "(832258, 490026)\n"
     ]
    }
   ],
   "source": [
    "print(x_train_bow.shape)"
   ]
  },
  {
   "cell_type": "code",
   "execution_count": 32,
   "id": "f811e3db",
   "metadata": {},
   "outputs": [],
   "source": [
    "nb_clf_2 = MultinomialNB()"
   ]
  },
  {
   "cell_type": "code",
   "execution_count": 33,
   "id": "9a197348",
   "metadata": {},
   "outputs": [
    {
     "data": {
      "text/html": [
       "<style>#sk-container-id-2 {color: black;background-color: white;}#sk-container-id-2 pre{padding: 0;}#sk-container-id-2 div.sk-toggleable {background-color: white;}#sk-container-id-2 label.sk-toggleable__label {cursor: pointer;display: block;width: 100%;margin-bottom: 0;padding: 0.3em;box-sizing: border-box;text-align: center;}#sk-container-id-2 label.sk-toggleable__label-arrow:before {content: \"▸\";float: left;margin-right: 0.25em;color: #696969;}#sk-container-id-2 label.sk-toggleable__label-arrow:hover:before {color: black;}#sk-container-id-2 div.sk-estimator:hover label.sk-toggleable__label-arrow:before {color: black;}#sk-container-id-2 div.sk-toggleable__content {max-height: 0;max-width: 0;overflow: hidden;text-align: left;background-color: #f0f8ff;}#sk-container-id-2 div.sk-toggleable__content pre {margin: 0.2em;color: black;border-radius: 0.25em;background-color: #f0f8ff;}#sk-container-id-2 input.sk-toggleable__control:checked~div.sk-toggleable__content {max-height: 200px;max-width: 100%;overflow: auto;}#sk-container-id-2 input.sk-toggleable__control:checked~label.sk-toggleable__label-arrow:before {content: \"▾\";}#sk-container-id-2 div.sk-estimator input.sk-toggleable__control:checked~label.sk-toggleable__label {background-color: #d4ebff;}#sk-container-id-2 div.sk-label input.sk-toggleable__control:checked~label.sk-toggleable__label {background-color: #d4ebff;}#sk-container-id-2 input.sk-hidden--visually {border: 0;clip: rect(1px 1px 1px 1px);clip: rect(1px, 1px, 1px, 1px);height: 1px;margin: -1px;overflow: hidden;padding: 0;position: absolute;width: 1px;}#sk-container-id-2 div.sk-estimator {font-family: monospace;background-color: #f0f8ff;border: 1px dotted black;border-radius: 0.25em;box-sizing: border-box;margin-bottom: 0.5em;}#sk-container-id-2 div.sk-estimator:hover {background-color: #d4ebff;}#sk-container-id-2 div.sk-parallel-item::after {content: \"\";width: 100%;border-bottom: 1px solid gray;flex-grow: 1;}#sk-container-id-2 div.sk-label:hover label.sk-toggleable__label {background-color: #d4ebff;}#sk-container-id-2 div.sk-serial::before {content: \"\";position: absolute;border-left: 1px solid gray;box-sizing: border-box;top: 0;bottom: 0;left: 50%;z-index: 0;}#sk-container-id-2 div.sk-serial {display: flex;flex-direction: column;align-items: center;background-color: white;padding-right: 0.2em;padding-left: 0.2em;position: relative;}#sk-container-id-2 div.sk-item {position: relative;z-index: 1;}#sk-container-id-2 div.sk-parallel {display: flex;align-items: stretch;justify-content: center;background-color: white;position: relative;}#sk-container-id-2 div.sk-item::before, #sk-container-id-2 div.sk-parallel-item::before {content: \"\";position: absolute;border-left: 1px solid gray;box-sizing: border-box;top: 0;bottom: 0;left: 50%;z-index: -1;}#sk-container-id-2 div.sk-parallel-item {display: flex;flex-direction: column;z-index: 1;position: relative;background-color: white;}#sk-container-id-2 div.sk-parallel-item:first-child::after {align-self: flex-end;width: 50%;}#sk-container-id-2 div.sk-parallel-item:last-child::after {align-self: flex-start;width: 50%;}#sk-container-id-2 div.sk-parallel-item:only-child::after {width: 0;}#sk-container-id-2 div.sk-dashed-wrapped {border: 1px dashed gray;margin: 0 0.4em 0.5em 0.4em;box-sizing: border-box;padding-bottom: 0.4em;background-color: white;}#sk-container-id-2 div.sk-label label {font-family: monospace;font-weight: bold;display: inline-block;line-height: 1.2em;}#sk-container-id-2 div.sk-label-container {text-align: center;}#sk-container-id-2 div.sk-container {/* jupyter's `normalize.less` sets `[hidden] { display: none; }` but bootstrap.min.css set `[hidden] { display: none !important; }` so we also need the `!important` here to be able to override the default hidden behavior on the sphinx rendered scikit-learn.org. See: https://github.com/scikit-learn/scikit-learn/issues/21755 */display: inline-block !important;position: relative;}#sk-container-id-2 div.sk-text-repr-fallback {display: none;}</style><div id=\"sk-container-id-2\" class=\"sk-top-container\"><div class=\"sk-text-repr-fallback\"><pre>MultinomialNB()</pre><b>In a Jupyter environment, please rerun this cell to show the HTML representation or trust the notebook. <br />On GitHub, the HTML representation is unable to render, please try loading this page with nbviewer.org.</b></div><div class=\"sk-container\" hidden><div class=\"sk-item\"><div class=\"sk-estimator sk-toggleable\"><input class=\"sk-toggleable__control sk-hidden--visually\" id=\"sk-estimator-id-2\" type=\"checkbox\" checked><label for=\"sk-estimator-id-2\" class=\"sk-toggleable__label sk-toggleable__label-arrow\">MultinomialNB</label><div class=\"sk-toggleable__content\"><pre>MultinomialNB()</pre></div></div></div></div></div>"
      ],
      "text/plain": [
       "MultinomialNB()"
      ]
     },
     "execution_count": 33,
     "metadata": {},
     "output_type": "execute_result"
    }
   ],
   "source": [
    "nb_clf_2.fit(x_train_bow, y_train['target'].values)"
   ]
  },
  {
   "cell_type": "code",
   "execution_count": 34,
   "id": "b38efb8c",
   "metadata": {},
   "outputs": [],
   "source": [
    "y_pred_validation = nb_clf_2.predict(x_validation_bow)"
   ]
  },
  {
   "cell_type": "code",
   "execution_count": 35,
   "id": "a605547a",
   "metadata": {},
   "outputs": [
    {
     "name": "stdout",
     "output_type": "stream",
     "text": [
      "Accuracy score:  0.7654819407396727\n"
     ]
    }
   ],
   "source": [
    "print('Accuracy score: ', accuracy_score(y_validation['target'].values, y_pred_validation))"
   ]
  },
  {
   "cell_type": "code",
   "execution_count": 36,
   "id": "8e4f4349",
   "metadata": {},
   "outputs": [
    {
     "name": "stdout",
     "output_type": "stream",
     "text": [
      "              precision    recall  f1-score   support\n",
      "\n",
      "           0       0.75      0.80      0.77    104093\n",
      "           1       0.00      0.00      0.00        16\n",
      "           2       0.78      0.73      0.76    103956\n",
      "\n",
      "    accuracy                           0.77    208065\n",
      "   macro avg       0.51      0.51      0.51    208065\n",
      "weighted avg       0.77      0.77      0.77    208065\n",
      "\n"
     ]
    }
   ],
   "source": [
    "print(classification_report(y_validation['target'].values, y_pred_validation))"
   ]
  },
  {
   "cell_type": "code",
   "execution_count": null,
   "id": "883567db",
   "metadata": {},
   "outputs": [],
   "source": []
  },
  {
   "cell_type": "code",
   "execution_count": 37,
   "id": "1d980032",
   "metadata": {},
   "outputs": [],
   "source": [
    "# Retraining for Kaggle Submission"
   ]
  },
  {
   "cell_type": "code",
   "execution_count": 38,
   "id": "10e9267f",
   "metadata": {},
   "outputs": [],
   "source": [
    "final_training_data = train_data.copy()"
   ]
  },
  {
   "cell_type": "code",
   "execution_count": 39,
   "id": "6965176d",
   "metadata": {},
   "outputs": [],
   "source": [
    "final_training_labels = train_labels.copy()"
   ]
  },
  {
   "cell_type": "code",
   "execution_count": 40,
   "id": "a306c3e3",
   "metadata": {},
   "outputs": [],
   "source": [
    "final_test_data = test_data.copy()"
   ]
  },
  {
   "cell_type": "code",
   "execution_count": 41,
   "id": "20eb23fd",
   "metadata": {},
   "outputs": [],
   "source": [
    "final_training_data['text'] = final_training_data['text'].apply(basic_data_cleaning)"
   ]
  },
  {
   "cell_type": "code",
   "execution_count": 42,
   "id": "4f9d5864",
   "metadata": {},
   "outputs": [],
   "source": [
    "final_test_data['text'] = final_test_data['text'].apply(basic_data_cleaning)"
   ]
  },
  {
   "cell_type": "code",
   "execution_count": 43,
   "id": "699c18e5",
   "metadata": {},
   "outputs": [],
   "source": [
    "bow = CountVectorizer()\n",
    "final_training_data = bow.fit_transform(final_training_data['text'])"
   ]
  },
  {
   "cell_type": "code",
   "execution_count": 44,
   "id": "74d6811f",
   "metadata": {},
   "outputs": [],
   "source": [
    "final_test_data = bow.transform(final_test_data['text'])"
   ]
  },
  {
   "cell_type": "code",
   "execution_count": 45,
   "id": "34ed7efd",
   "metadata": {},
   "outputs": [],
   "source": [
    "nb_clf = MultinomialNB()\n",
    "nb_clf.fit(final_training_data, final_training_labels['target'])\n",
    "final_test_pred = nb_clf.predict(final_test_data) "
   ]
  },
  {
   "cell_type": "code",
   "execution_count": 46,
   "id": "913af325",
   "metadata": {},
   "outputs": [],
   "source": [
    "final_test_pred = pd.DataFrame(final_test_pred).reset_index()\n",
    "final_test_pred.columns = ['id', 'target']\n",
    "final_test_pred.to_csv('kaggle-submissions/nb-bow-exp-1-basic.csv',index=False)"
   ]
  },
  {
   "cell_type": "code",
   "execution_count": null,
   "id": "0a98e78f",
   "metadata": {},
   "outputs": [],
   "source": []
  },
  {
   "cell_type": "markdown",
   "id": "1633758d",
   "metadata": {},
   "source": [
    "# Experiment 3: With Advanced data preprocessing"
   ]
  },
  {
   "cell_type": "code",
   "execution_count": 47,
   "id": "d6accb00",
   "metadata": {},
   "outputs": [],
   "source": [
    "x_train, x_validation, y_train, y_validation = train_test_split(train_data, train_labels, test_size = 0.2, random_state=10)"
   ]
  },
  {
   "cell_type": "code",
   "execution_count": 48,
   "id": "d487ee43",
   "metadata": {},
   "outputs": [],
   "source": [
    "x_train['text'] = x_train['text'].apply(advanced_data_cleaning)"
   ]
  },
  {
   "cell_type": "code",
   "execution_count": 49,
   "id": "a81dc2dd",
   "metadata": {},
   "outputs": [],
   "source": [
    "x_validation['text'] = x_validation['text'].apply(advanced_data_cleaning)"
   ]
  },
  {
   "cell_type": "code",
   "execution_count": 50,
   "id": "a595d363",
   "metadata": {},
   "outputs": [],
   "source": [
    "bow = CountVectorizer()"
   ]
  },
  {
   "cell_type": "code",
   "execution_count": 51,
   "id": "2a0efbc3",
   "metadata": {},
   "outputs": [],
   "source": [
    "x_train_bow = bow.fit_transform(x_train['text'])\n",
    "x_validation_bow = bow.transform(x_validation['text'])"
   ]
  },
  {
   "cell_type": "code",
   "execution_count": 52,
   "id": "797114c1",
   "metadata": {},
   "outputs": [
    {
     "name": "stdout",
     "output_type": "stream",
     "text": [
      "(832258, 374128)\n"
     ]
    }
   ],
   "source": [
    "print(x_train_bow.shape)"
   ]
  },
  {
   "cell_type": "code",
   "execution_count": 53,
   "id": "eac8a440",
   "metadata": {},
   "outputs": [],
   "source": [
    "nb_clf_3 = MultinomialNB()"
   ]
  },
  {
   "cell_type": "code",
   "execution_count": 54,
   "id": "5f634652",
   "metadata": {},
   "outputs": [
    {
     "data": {
      "text/html": [
       "<style>#sk-container-id-3 {color: black;background-color: white;}#sk-container-id-3 pre{padding: 0;}#sk-container-id-3 div.sk-toggleable {background-color: white;}#sk-container-id-3 label.sk-toggleable__label {cursor: pointer;display: block;width: 100%;margin-bottom: 0;padding: 0.3em;box-sizing: border-box;text-align: center;}#sk-container-id-3 label.sk-toggleable__label-arrow:before {content: \"▸\";float: left;margin-right: 0.25em;color: #696969;}#sk-container-id-3 label.sk-toggleable__label-arrow:hover:before {color: black;}#sk-container-id-3 div.sk-estimator:hover label.sk-toggleable__label-arrow:before {color: black;}#sk-container-id-3 div.sk-toggleable__content {max-height: 0;max-width: 0;overflow: hidden;text-align: left;background-color: #f0f8ff;}#sk-container-id-3 div.sk-toggleable__content pre {margin: 0.2em;color: black;border-radius: 0.25em;background-color: #f0f8ff;}#sk-container-id-3 input.sk-toggleable__control:checked~div.sk-toggleable__content {max-height: 200px;max-width: 100%;overflow: auto;}#sk-container-id-3 input.sk-toggleable__control:checked~label.sk-toggleable__label-arrow:before {content: \"▾\";}#sk-container-id-3 div.sk-estimator input.sk-toggleable__control:checked~label.sk-toggleable__label {background-color: #d4ebff;}#sk-container-id-3 div.sk-label input.sk-toggleable__control:checked~label.sk-toggleable__label {background-color: #d4ebff;}#sk-container-id-3 input.sk-hidden--visually {border: 0;clip: rect(1px 1px 1px 1px);clip: rect(1px, 1px, 1px, 1px);height: 1px;margin: -1px;overflow: hidden;padding: 0;position: absolute;width: 1px;}#sk-container-id-3 div.sk-estimator {font-family: monospace;background-color: #f0f8ff;border: 1px dotted black;border-radius: 0.25em;box-sizing: border-box;margin-bottom: 0.5em;}#sk-container-id-3 div.sk-estimator:hover {background-color: #d4ebff;}#sk-container-id-3 div.sk-parallel-item::after {content: \"\";width: 100%;border-bottom: 1px solid gray;flex-grow: 1;}#sk-container-id-3 div.sk-label:hover label.sk-toggleable__label {background-color: #d4ebff;}#sk-container-id-3 div.sk-serial::before {content: \"\";position: absolute;border-left: 1px solid gray;box-sizing: border-box;top: 0;bottom: 0;left: 50%;z-index: 0;}#sk-container-id-3 div.sk-serial {display: flex;flex-direction: column;align-items: center;background-color: white;padding-right: 0.2em;padding-left: 0.2em;position: relative;}#sk-container-id-3 div.sk-item {position: relative;z-index: 1;}#sk-container-id-3 div.sk-parallel {display: flex;align-items: stretch;justify-content: center;background-color: white;position: relative;}#sk-container-id-3 div.sk-item::before, #sk-container-id-3 div.sk-parallel-item::before {content: \"\";position: absolute;border-left: 1px solid gray;box-sizing: border-box;top: 0;bottom: 0;left: 50%;z-index: -1;}#sk-container-id-3 div.sk-parallel-item {display: flex;flex-direction: column;z-index: 1;position: relative;background-color: white;}#sk-container-id-3 div.sk-parallel-item:first-child::after {align-self: flex-end;width: 50%;}#sk-container-id-3 div.sk-parallel-item:last-child::after {align-self: flex-start;width: 50%;}#sk-container-id-3 div.sk-parallel-item:only-child::after {width: 0;}#sk-container-id-3 div.sk-dashed-wrapped {border: 1px dashed gray;margin: 0 0.4em 0.5em 0.4em;box-sizing: border-box;padding-bottom: 0.4em;background-color: white;}#sk-container-id-3 div.sk-label label {font-family: monospace;font-weight: bold;display: inline-block;line-height: 1.2em;}#sk-container-id-3 div.sk-label-container {text-align: center;}#sk-container-id-3 div.sk-container {/* jupyter's `normalize.less` sets `[hidden] { display: none; }` but bootstrap.min.css set `[hidden] { display: none !important; }` so we also need the `!important` here to be able to override the default hidden behavior on the sphinx rendered scikit-learn.org. See: https://github.com/scikit-learn/scikit-learn/issues/21755 */display: inline-block !important;position: relative;}#sk-container-id-3 div.sk-text-repr-fallback {display: none;}</style><div id=\"sk-container-id-3\" class=\"sk-top-container\"><div class=\"sk-text-repr-fallback\"><pre>MultinomialNB()</pre><b>In a Jupyter environment, please rerun this cell to show the HTML representation or trust the notebook. <br />On GitHub, the HTML representation is unable to render, please try loading this page with nbviewer.org.</b></div><div class=\"sk-container\" hidden><div class=\"sk-item\"><div class=\"sk-estimator sk-toggleable\"><input class=\"sk-toggleable__control sk-hidden--visually\" id=\"sk-estimator-id-3\" type=\"checkbox\" checked><label for=\"sk-estimator-id-3\" class=\"sk-toggleable__label sk-toggleable__label-arrow\">MultinomialNB</label><div class=\"sk-toggleable__content\"><pre>MultinomialNB()</pre></div></div></div></div></div>"
      ],
      "text/plain": [
       "MultinomialNB()"
      ]
     },
     "execution_count": 54,
     "metadata": {},
     "output_type": "execute_result"
    }
   ],
   "source": [
    "nb_clf_3.fit(x_train_bow, y_train['target'].values)"
   ]
  },
  {
   "cell_type": "code",
   "execution_count": 55,
   "id": "63ffa6c8",
   "metadata": {},
   "outputs": [],
   "source": [
    "y_pred_validation = nb_clf_3.predict(x_validation_bow)"
   ]
  },
  {
   "cell_type": "code",
   "execution_count": 56,
   "id": "a5889d81",
   "metadata": {},
   "outputs": [
    {
     "name": "stdout",
     "output_type": "stream",
     "text": [
      "Accuracy score:  0.7793766371085958\n"
     ]
    }
   ],
   "source": [
    "print('Accuracy score: ', accuracy_score(y_validation['target'].values, y_pred_validation))"
   ]
  },
  {
   "cell_type": "code",
   "execution_count": 57,
   "id": "8b967e98",
   "metadata": {},
   "outputs": [
    {
     "name": "stdout",
     "output_type": "stream",
     "text": [
      "              precision    recall  f1-score   support\n",
      "\n",
      "           0       0.76      0.81      0.79    104093\n",
      "           1       0.00      0.00      0.00        16\n",
      "           2       0.80      0.74      0.77    103956\n",
      "\n",
      "    accuracy                           0.78    208065\n",
      "   macro avg       0.52      0.52      0.52    208065\n",
      "weighted avg       0.78      0.78      0.78    208065\n",
      "\n"
     ]
    }
   ],
   "source": [
    "print(classification_report(y_validation['target'].values, y_pred_validation))"
   ]
  },
  {
   "cell_type": "code",
   "execution_count": null,
   "id": "6d0c94d1",
   "metadata": {},
   "outputs": [],
   "source": []
  },
  {
   "cell_type": "code",
   "execution_count": 58,
   "id": "6ab1eb72",
   "metadata": {},
   "outputs": [],
   "source": [
    "# Retraining for Kaggle Submission"
   ]
  },
  {
   "cell_type": "code",
   "execution_count": 59,
   "id": "0c4edd42",
   "metadata": {},
   "outputs": [],
   "source": [
    "final_training_data = train_data.copy()"
   ]
  },
  {
   "cell_type": "code",
   "execution_count": 60,
   "id": "589e8fa4",
   "metadata": {},
   "outputs": [],
   "source": [
    "final_training_labels = train_labels.copy()"
   ]
  },
  {
   "cell_type": "code",
   "execution_count": 61,
   "id": "d7b222e1",
   "metadata": {},
   "outputs": [],
   "source": [
    "final_test_data = test_data.copy()"
   ]
  },
  {
   "cell_type": "code",
   "execution_count": 62,
   "id": "49aeb21b",
   "metadata": {},
   "outputs": [],
   "source": [
    "final_training_data['text'] = final_training_data['text'].apply(advanced_data_cleaning)"
   ]
  },
  {
   "cell_type": "code",
   "execution_count": 63,
   "id": "30daaf44",
   "metadata": {},
   "outputs": [],
   "source": [
    "final_test_data['text'] = final_test_data['text'].apply(advanced_data_cleaning)"
   ]
  },
  {
   "cell_type": "code",
   "execution_count": 64,
   "id": "2da413d2",
   "metadata": {},
   "outputs": [],
   "source": [
    "bow = CountVectorizer()\n",
    "final_training_data = bow.fit_transform(final_training_data['text'])"
   ]
  },
  {
   "cell_type": "code",
   "execution_count": 65,
   "id": "38c6d32c",
   "metadata": {},
   "outputs": [],
   "source": [
    "final_test_data = bow.transform(final_test_data['text'])"
   ]
  },
  {
   "cell_type": "code",
   "execution_count": 66,
   "id": "7e8616b3",
   "metadata": {},
   "outputs": [],
   "source": [
    "nb_clf = MultinomialNB()\n",
    "nb_clf.fit(final_training_data, final_training_labels['target'])\n",
    "final_test_pred = nb_clf.predict(final_test_data) "
   ]
  },
  {
   "cell_type": "code",
   "execution_count": 67,
   "id": "8584569b",
   "metadata": {},
   "outputs": [],
   "source": [
    "final_test_pred = pd.DataFrame(final_test_pred).reset_index()\n",
    "final_test_pred.columns = ['id', 'target']\n",
    "final_test_pred.to_csv('kaggle-submissions/nb-bow-exp-2-advanced.csv',index=False)"
   ]
  },
  {
   "cell_type": "code",
   "execution_count": null,
   "id": "a6e26113",
   "metadata": {},
   "outputs": [],
   "source": []
  }
 ],
 "metadata": {
  "kernelspec": {
   "display_name": "Python 3 (ipykernel)",
   "language": "python",
   "name": "python3"
  },
  "language_info": {
   "codemirror_mode": {
    "name": "ipython",
    "version": 3
   },
   "file_extension": ".py",
   "mimetype": "text/x-python",
   "name": "python",
   "nbconvert_exporter": "python",
   "pygments_lexer": "ipython3",
   "version": "3.10.4"
  }
 },
 "nbformat": 4,
 "nbformat_minor": 5
}
