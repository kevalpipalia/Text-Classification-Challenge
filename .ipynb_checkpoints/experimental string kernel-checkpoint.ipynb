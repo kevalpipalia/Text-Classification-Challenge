{
 "cells": [
  {
   "cell_type": "code",
   "execution_count": 6,
   "id": "9404de6a",
   "metadata": {},
   "outputs": [
    {
     "name": "stdout",
     "output_type": "stream",
     "text": [
      "Requirement already satisfied: string-kernels in /opt/miniconda3/envs/ift6758-conda-env/lib/python3.10/site-packages (1.1.2)\r\n"
     ]
    }
   ],
   "source": [
    "!pip install string-kernels"
   ]
  },
  {
   "cell_type": "code",
   "execution_count": 7,
   "id": "2d8fa628",
   "metadata": {},
   "outputs": [],
   "source": [
    "from utilities.preprocessing import load_modeling_data"
   ]
  },
  {
   "cell_type": "code",
   "execution_count": 13,
   "id": "d1f99ca8",
   "metadata": {},
   "outputs": [],
   "source": [
    "X_train, X_test, y_train, y_test = load_modeling_data()"
   ]
  },
  {
   "cell_type": "code",
   "execution_count": 14,
   "id": "5430973d",
   "metadata": {},
   "outputs": [],
   "source": [
    "import stringkernels"
   ]
  },
  {
   "cell_type": "code",
   "execution_count": 15,
   "id": "b1bd5284",
   "metadata": {},
   "outputs": [],
   "source": [
    "from stringkernels.utils import plot_label_distribution"
   ]
  },
  {
   "cell_type": "code",
   "execution_count": 16,
   "id": "695c0919",
   "metadata": {},
   "outputs": [
    {
     "data": {
      "image/png": "[encoded data removed]",
      "text/plain": [
       "<Figure size 640x480 with 1 Axes>"
      ]
     },
     "metadata": {},
     "output_type": "display_data"
    }
   ],
   "source": [
    "plot_label_distribution(y_train['target'])"
   ]
  },
  {
   "cell_type": "code",
   "execution_count": 12,
   "id": "e40339b0",
   "metadata": {},
   "outputs": [
    {
     "data": {
      "text/html": [
       "<div>\n",
       "<style scoped>\n",
       "    .dataframe tbody tr th:only-of-type {\n",
       "        vertical-align: middle;\n",
       "    }\n",
       "\n",
       "    .dataframe tbody tr th {\n",
       "        vertical-align: top;\n",
       "    }\n",
       "\n",
       "    .dataframe thead th {\n",
       "        text-align: right;\n",
       "    }\n",
       "</style>\n",
       "<table border=\"1\" class=\"dataframe\">\n",
       "  <thead>\n",
       "    <tr style=\"text-align: right;\">\n",
       "      <th></th>\n",
       "      <th>text</th>\n",
       "    </tr>\n",
       "    <tr>\n",
       "      <th>id</th>\n",
       "      <th></th>\n",
       "    </tr>\n",
       "  </thead>\n",
       "  <tbody>\n",
       "    <tr>\n",
       "      <th>440104</th>\n",
       "      <td>well. im gonna go to bed. the ill wake up and ...</td>\n",
       "    </tr>\n",
       "    <tr>\n",
       "      <th>958711</th>\n",
       "      <td>Whatt to doo? iss off ill  (N)</td>\n",
       "    </tr>\n",
       "    <tr>\n",
       "      <th>291375</th>\n",
       "      <td>Oh ok so now I'm sick on my stomach that's coo...</td>\n",
       "    </tr>\n",
       "    <tr>\n",
       "      <th>52057</th>\n",
       "      <td>except I'm not re-organising RSS feeds I'm eat...</td>\n",
       "    </tr>\n",
       "    <tr>\n",
       "      <th>315186</th>\n",
       "      <td>Listenin to old mac mall missin the bay  dang ...</td>\n",
       "    </tr>\n",
       "    <tr>\n",
       "      <th>...</th>\n",
       "      <td>...</td>\n",
       "    </tr>\n",
       "    <tr>\n",
       "      <th>925357</th>\n",
       "      <td>really have to go to bed soon. has to be up at...</td>\n",
       "    </tr>\n",
       "    <tr>\n",
       "      <th>560066</th>\n",
       "      <td>after a great weekend back to reality and back...</td>\n",
       "    </tr>\n",
       "    <tr>\n",
       "      <th>1023509</th>\n",
       "      <td>@panacea81 actually i would buy them all! but ...</td>\n",
       "    </tr>\n",
       "    <tr>\n",
       "      <th>432584</th>\n",
       "      <td>Does anyone Else think that the credit cruch i...</td>\n",
       "    </tr>\n",
       "    <tr>\n",
       "      <th>410766</th>\n",
       "      <td>.@LillyKitteh      I hear ya! that stinks doo-doo</td>\n",
       "    </tr>\n",
       "  </tbody>\n",
       "</table>\n",
       "<p>208065 rows × 1 columns</p>\n",
       "</div>"
      ],
      "text/plain": [
       "                                                      text\n",
       "id                                                        \n",
       "440104   well. im gonna go to bed. the ill wake up and ...\n",
       "958711                      Whatt to doo? iss off ill  (N)\n",
       "291375   Oh ok so now I'm sick on my stomach that's coo...\n",
       "52057    except I'm not re-organising RSS feeds I'm eat...\n",
       "315186   Listenin to old mac mall missin the bay  dang ...\n",
       "...                                                    ...\n",
       "925357   really have to go to bed soon. has to be up at...\n",
       "560066   after a great weekend back to reality and back...\n",
       "1023509  @panacea81 actually i would buy them all! but ...\n",
       "432584   Does anyone Else think that the credit cruch i...\n",
       "410766   .@LillyKitteh      I hear ya! that stinks doo-doo\n",
       "\n",
       "[208065 rows x 1 columns]"
      ]
     },
     "execution_count": 12,
     "metadata": {},
     "output_type": "execute_result"
    }
   ],
   "source": [
    "y_train"
   ]
  },
  {
   "cell_type": "code",
   "execution_count": null,
   "id": "90e34752",
   "metadata": {},
   "outputs": [],
   "source": []
  }
 ],
 "metadata": {
  "kernelspec": {
   "display_name": "ift6758-conda-env",
   "language": "python",
   "name": "ift6758-conda-env"
  },
  "language_info": {
   "codemirror_mode": {
    "name": "ipython",
    "version": 3
   },
   "file_extension": ".py",
   "mimetype": "text/x-python",
   "name": "python",
   "nbconvert_exporter": "python",
   "pygments_lexer": "ipython3",
   "version": "3.10.4"
  }
 },
 "nbformat": 4,
 "nbformat_minor": 5
}
