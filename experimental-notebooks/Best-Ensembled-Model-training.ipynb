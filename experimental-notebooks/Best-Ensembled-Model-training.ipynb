{
 "cells": [
  {
   "cell_type": "code",
   "execution_count": null,
   "id": "36ee8962",
   "metadata": {},
   "outputs": [],
   "source": [
    "# Importing Libraries\n",
    "import pandas as pd\n",
    "from sklearn.naive_bayes import MultinomialNB, ComplementNB\n",
    "from sklearn.linear_model import LogisticRegression\n",
    "from sklearn.svm import LinearSVC\n",
    "from sklearn.calibration import CalibratedClassifierCV\n",
    "from sklearn.model_selection import train_test_split\n",
    "from sklearn.feature_extraction.text import TfidfVectorizer\n",
    "from sklearn.preprocessing import LabelEncoder\n",
    "from skopt import BayesSearchCV\n",
    "from sklearn.metrics import accuracy_score, classification_report, confusion_matrix\n",
    "from keras.models import Sequential\n",
    "from tensorflow.keras.layers import Embedding, LSTM, Dense, Bidirectional, Dropout\n",
    "from sklearn.model_selection import train_test_split\n",
    "import numpy as np\n",
    "import matplotlib.pyplot as plt\n",
    "# Packages for modeling\n",
    "from keras import models\n",
    "from keras import layers\n",
    "from keras import regularizers\n",
    "import joblib\n",
    "\n",
    "\n",
    "# Importing custom utility functions\n",
    "from utilities.data_loader import load_modeling_data, load_testing_data, prepare_kaggle_submission\n",
    "from utilities.text_cleaner import advanced_data_cleaning"
   ]
  },
  {
   "cell_type": "code",
   "execution_count": null,
   "id": "93ba6ec5",
   "metadata": {},
   "outputs": [],
   "source": [
    "# Loading testin and training data\n",
    "train_data, train_labels = load_modeling_data()\n",
    "test_data = load_testing_data()"
   ]
  },
  {
   "cell_type": "code",
   "execution_count": null,
   "id": "c7508c95",
   "metadata": {},
   "outputs": [],
   "source": [
    "le = LabelEncoder()\n",
    "train_labels['target'] = le.fit_transform(train_labels['target'].values)"
   ]
  },
  {
   "cell_type": "code",
   "execution_count": null,
   "id": "0b2bd337",
   "metadata": {},
   "outputs": [],
   "source": [
    "X_train, X_val, y_train, y_val = train_test_split(train_data, train_labels, test_size=0.2, random_state = 8)"
   ]
  },
  {
   "cell_type": "code",
   "execution_count": null,
   "id": "84c44f2f",
   "metadata": {},
   "outputs": [],
   "source": [
    "print('-'*175+'Logistic Regression with Best parameters'+'-'*175)\n",
    "vectorizer = TfidfVectorizer(max_features=250000, ngram_range=(1,3))"
   ]
  },
  {
   "cell_type": "code",
   "execution_count": null,
   "id": "7cca1cee",
   "metadata": {},
   "outputs": [],
   "source": [
    "X_train_clean = X_train.copy()\n",
    "X_val_clean = X_val.copy()\n",
    "X_train_clean['text'] = X_train_clean['text'].apply(advanced_data_cleaning)\n",
    "X_val_clean['text'] = X_val_clean['text'].apply(advanced_data_cleaning)"
   ]
  },
  {
   "cell_type": "code",
   "execution_count": null,
   "id": "00c4c9ef",
   "metadata": {},
   "outputs": [],
   "source": [
    "# Fitting and training the bag of words\n",
    "X_train_vectorizer = vectorizer.fit_transform(X_train_clean['text'])\n",
    "X_val_vectorizer = vectorizer.transform(X_val_clean['text'])"
   ]
  },
  {
   "cell_type": "code",
   "execution_count": null,
   "id": "57dae6e9",
   "metadata": {},
   "outputs": [],
   "source": [
    "results = pd.DataFrame()"
   ]
  },
  {
   "cell_type": "code",
   "execution_count": null,
   "id": "ee1519fc",
   "metadata": {},
   "outputs": [],
   "source": [
    "nb = joblib.load('models/naive_bayes+tfidf.sav')"
   ]
  },
  {
   "cell_type": "code",
   "execution_count": null,
   "id": "b1df59e5",
   "metadata": {},
   "outputs": [],
   "source": [
    "results['naiveBayes'] = nb.predict(X_val_vectorizer)"
   ]
  },
  {
   "cell_type": "code",
   "execution_count": null,
   "id": "7c9f9aa7",
   "metadata": {},
   "outputs": [],
   "source": [
    "logreg = joblib.load('models/logreg+tfidf+smote.sav')"
   ]
  },
  {
   "cell_type": "code",
   "execution_count": null,
   "id": "d18e8e69",
   "metadata": {},
   "outputs": [],
   "source": [
    "results['logreg'] = logreg.predict(X_val_vectorizer)"
   ]
  },
  {
   "cell_type": "code",
   "execution_count": null,
   "id": "26d9c155",
   "metadata": {},
   "outputs": [],
   "source": [
    "svm = joblib.load('models/svc+tfidf.sav')"
   ]
  },
  {
   "cell_type": "code",
   "execution_count": null,
   "id": "1ef1c39b",
   "metadata": {},
   "outputs": [],
   "source": [
    "results['svm'] = svm.predict(X_val_vectorizer)"
   ]
  },
  {
   "cell_type": "code",
   "execution_count": null,
   "id": "a669ce29",
   "metadata": {},
   "outputs": [],
   "source": [
    "complement_nb = joblib.load('models/complement_nb.sav')"
   ]
  },
  {
   "cell_type": "code",
   "execution_count": null,
   "id": "cd36f7d8",
   "metadata": {},
   "outputs": [],
   "source": [
    "results['complement_nb'] = complement_nb.predict(X_val_vectorizer)"
   ]
  },
  {
   "cell_type": "code",
   "execution_count": null,
   "id": "fe63f43f",
   "metadata": {},
   "outputs": [],
   "source": [
    "results.mode(axis=1)"
   ]
  },
  {
   "cell_type": "code",
   "execution_count": null,
   "id": "c1f04961",
   "metadata": {},
   "outputs": [],
   "source": []
  },
  {
   "cell_type": "code",
   "execution_count": null,
   "id": "40a95691",
   "metadata": {},
   "outputs": [],
   "source": []
  },
  {
   "cell_type": "code",
   "execution_count": null,
   "id": "08b6f8b9",
   "metadata": {},
   "outputs": [],
   "source": [
    "# LSTM model"
   ]
  },
  {
   "cell_type": "code",
   "execution_count": 43,
   "id": "f2a708ff",
   "metadata": {},
   "outputs": [],
   "source": [
    "from keras_preprocessing.text import Tokenizer\n",
    "from keras_preprocessing.sequence import pad_sequences"
   ]
  },
  {
   "cell_type": "code",
   "execution_count": 44,
   "id": "2bc4ac5f",
   "metadata": {},
   "outputs": [],
   "source": [
    "NB_WORDS = 10000\n",
    "\n",
    "tk = Tokenizer(num_words=NB_WORDS,lower=True,split=\" \")"
   ]
  },
  {
   "cell_type": "code",
   "execution_count": 46,
   "id": "cef89642",
   "metadata": {},
   "outputs": [],
   "source": [
    "full_df = pd.concat([X_train_clean['text'], X_val_clean['text']], axis = 0)\n",
    "tk.fit_on_texts(full_df)"
   ]
  },
  {
   "cell_type": "code",
   "execution_count": 48,
   "id": "f598a2b1",
   "metadata": {},
   "outputs": [],
   "source": [
    "X_train_seq = tk.texts_to_sequences(X_train_clean['text'])\n",
    "X_valid_seq = tk.texts_to_sequences(X_val_clean['text'])"
   ]
  },
  {
   "cell_type": "code",
   "execution_count": 49,
   "id": "094cf4a4",
   "metadata": {},
   "outputs": [],
   "source": [
    "X_train_seq_trunc = pad_sequences(X_train_seq, maxlen=30)\n",
    "X_valid_seq_trunc = pad_sequences(X_valid_seq, maxlen=30)"
   ]
  },
  {
   "cell_type": "code",
   "execution_count": 50,
   "id": "9b577cf2",
   "metadata": {},
   "outputs": [],
   "source": [
    "from gensim.models import Word2Vec\n",
    "model = Word2Vec.load(\"word2vec-training.model\")"
   ]
  },
  {
   "cell_type": "code",
   "execution_count": 51,
   "id": "2b47e3c5",
   "metadata": {},
   "outputs": [
    {
     "data": {
      "text/plain": [
       "(10000, 100)"
      ]
     },
     "execution_count": 51,
     "metadata": {},
     "output_type": "execute_result"
    }
   ],
   "source": [
    "vector_size = 100\n",
    "gensim_weight_matrix = np.zeros((NB_WORDS ,vector_size))\n",
    "gensim_weight_matrix.shape"
   ]
  },
  {
   "cell_type": "code",
   "execution_count": 52,
   "id": "b7e1d7d2",
   "metadata": {},
   "outputs": [],
   "source": [
    "for word, index in tk.word_index.items():\n",
    "    if index < NB_WORDS: # since index starts with zero \n",
    "        if word in model.wv:\n",
    "            gensim_weight_matrix[index] = model.wv[word]\n",
    "        else:\n",
    "            gensim_weight_matrix[index] = np.zeros(100)"
   ]
  },
  {
   "cell_type": "code",
   "execution_count": null,
   "id": "34205ec9",
   "metadata": {},
   "outputs": [],
   "source": []
  },
  {
   "cell_type": "code",
   "execution_count": 53,
   "id": "5bf90c5e",
   "metadata": {},
   "outputs": [],
   "source": [
    "NB_WORDS = 10000  \n",
    "def create_model():\n",
    "    emb_model = models.Sequential()\n",
    "    emb_model.add(Embedding(input_dim = NB_WORDS,\n",
    "     output_dim = 100,\n",
    "     input_length=30,\n",
    "     weights = [gensim_weight_matrix],trainable = False))\n",
    "    emb_model.add(Bidirectional(LSTM(64, return_sequences=True, input_shape=(None, 1))))\n",
    "    emb_model.add(Dropout(0.2))\n",
    "    emb_model.add(Bidirectional(LSTM(32)))\n",
    "    emb_model.add(Dropout(0.2))\n",
    "    emb_model.add(Dense(64, activation='relu'))\n",
    "    emb_model.add(Dropout(0.1))\n",
    "    emb_model.add(Dense(3, activation='softmax'))\n",
    "    emb_model.summary()\n",
    "    emb_model.compile(optimizer='adam'\n",
    "                  , loss='categorical_crossentropy'\n",
    "                  , metrics=['accuracy'])\n",
    "    return emb_model"
   ]
  },
  {
   "cell_type": "code",
   "execution_count": 54,
   "id": "de0f3a96",
   "metadata": {
    "scrolled": true
   },
   "outputs": [
    {
     "name": "stdout",
     "output_type": "stream",
     "text": [
      "Model: \"sequential_3\"\n",
      "_________________________________________________________________\n",
      " Layer (type)                Output Shape              Param #   \n",
      "=================================================================\n",
      " embedding (Embedding)       (None, 30, 100)           1000000   \n",
      "                                                                 \n",
      " bidirectional (Bidirectiona  (None, 30, 128)          84480     \n",
      " l)                                                              \n",
      "                                                                 \n",
      " dropout (Dropout)           (None, 30, 128)           0         \n",
      "                                                                 \n",
      " bidirectional_1 (Bidirectio  (None, 64)               41216     \n",
      " nal)                                                            \n",
      "                                                                 \n",
      " dropout_1 (Dropout)         (None, 64)                0         \n",
      "                                                                 \n",
      " dense (Dense)               (None, 64)                4160      \n",
      "                                                                 \n",
      " dropout_2 (Dropout)         (None, 64)                0         \n",
      "                                                                 \n",
      " dense_1 (Dense)             (None, 3)                 195       \n",
      "                                                                 \n",
      "=================================================================\n",
      "Total params: 1,130,051\n",
      "Trainable params: 130,051\n",
      "Non-trainable params: 1,000,000\n",
      "_________________________________________________________________\n"
     ]
    }
   ],
   "source": [
    "emb_model = create_model()"
   ]
  },
  {
   "cell_type": "code",
   "execution_count": 55,
   "id": "60958e45",
   "metadata": {},
   "outputs": [
    {
     "name": "stderr",
     "output_type": "stream",
     "text": [
      "2022-12-18 23:08:11.737355: W tensorflow/core/platform/profile_utils/cpu_utils.cc:128] Failed to get CPU frequency: 0 Hz\n",
      "2022-12-18 23:08:12.252635: I tensorflow/core/grappler/optimizers/custom_graph_optimizer_registry.cc:114] Plugin optimizer for device_type GPU is enabled.\n",
      "2022-12-18 23:08:12.526776: I tensorflow/core/grappler/optimizers/custom_graph_optimizer_registry.cc:114] Plugin optimizer for device_type GPU is enabled.\n",
      "2022-12-18 23:08:12.543254: I tensorflow/core/grappler/optimizers/custom_graph_optimizer_registry.cc:114] Plugin optimizer for device_type GPU is enabled.\n",
      "2022-12-18 23:08:13.518262: I tensorflow/core/grappler/optimizers/custom_graph_optimizer_registry.cc:114] Plugin optimizer for device_type GPU is enabled.\n",
      "2022-12-18 23:08:13.532964: I tensorflow/core/grappler/optimizers/custom_graph_optimizer_registry.cc:114] Plugin optimizer for device_type GPU is enabled.\n"
     ]
    },
    {
     "name": "stdout",
     "output_type": "stream",
     "text": [
      "6503/6503 [==============================] - 196s 30ms/step\n"
     ]
    },
    {
     "data": {
      "text/plain": [
       "array([[0.30459064, 0.3676831 , 0.32772622],\n",
       "       [0.32924414, 0.36694667, 0.30380914],\n",
       "       [0.28449824, 0.37490532, 0.34059647],\n",
       "       ...,\n",
       "       [0.3101136 , 0.36446267, 0.32542378],\n",
       "       [0.30894312, 0.3546044 , 0.3364525 ],\n",
       "       [0.31922632, 0.33493224, 0.3458415 ]], dtype=float32)"
      ]
     },
     "execution_count": 55,
     "metadata": {},
     "output_type": "execute_result"
    }
   ],
   "source": [
    "lstm_pred = emb_model.predict(X_valid_seq_trunc)"
   ]
  },
  {
   "cell_type": "code",
   "execution_count": null,
   "id": "b20ac9ab",
   "metadata": {},
   "outputs": [],
   "source": [
    "lstm_pred.argmax()"
   ]
  },
  {
   "cell_type": "code",
   "execution_count": 58,
   "id": "b3ff0f1e",
   "metadata": {},
   "outputs": [],
   "source": [
    "y_pred = results.mode(axis=1).iloc[:, 0]"
   ]
  },
  {
   "cell_type": "code",
   "execution_count": 59,
   "id": "7076f387",
   "metadata": {
    "scrolled": true
   },
   "outputs": [
    {
     "data": {
      "text/plain": [
       "0         2.0\n",
       "1         0.0\n",
       "2         0.0\n",
       "3         0.0\n",
       "4         2.0\n",
       "         ... \n",
       "208060    0.0\n",
       "208061    2.0\n",
       "208062    2.0\n",
       "208063    2.0\n",
       "208064    2.0\n",
       "Name: 0, Length: 208065, dtype: float64"
      ]
     },
     "execution_count": 59,
     "metadata": {},
     "output_type": "execute_result"
    }
   ],
   "source": [
    "y_pred"
   ]
  },
  {
   "cell_type": "code",
   "execution_count": null,
   "id": "ed1674b7",
   "metadata": {},
   "outputs": [],
   "source": [
    "from sklearn.metrics import accuracy_score\n",
    "accuracy_score(y_val['target'].values, y_pred)"
   ]
  },
  {
   "cell_type": "code",
   "execution_count": null,
   "id": "97c71d4f",
   "metadata": {},
   "outputs": [],
   "source": [
    "result"
   ]
  },
  {
   "cell_type": "code",
   "execution_count": null,
   "id": "ec53b0c7",
   "metadata": {},
   "outputs": [],
   "source": []
  }
 ],
 "metadata": {
  "kernelspec": {
   "display_name": "Python 3 (ipykernel)",
   "language": "python",
   "name": "python3"
  },
  "language_info": {
   "codemirror_mode": {
    "name": "ipython",
    "version": 3
   },
   "file_extension": ".py",
   "mimetype": "text/x-python",
   "name": "python",
   "nbconvert_exporter": "python",
   "pygments_lexer": "ipython3",
   "version": "3.8.13"
  }
 },
 "nbformat": 4,
 "nbformat_minor": 5
}
