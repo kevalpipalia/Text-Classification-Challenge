{
 "cells": [
  {
   "cell_type": "code",
   "execution_count": 1,
   "id": "168a7638",
   "metadata": {},
   "outputs": [],
   "source": [
    "from utilities.data_loader import load_modeling_data, load_testing_data\n",
    "from utilities.text_cleaner import advanced_data_cleaning"
   ]
  },
  {
   "cell_type": "code",
   "execution_count": 2,
   "id": "642cc0a7",
   "metadata": {},
   "outputs": [],
   "source": [
    "from keras.models import Sequential\n",
    "from tensorflow.keras.layers import Embedding, LSTM, Dense, Bidirectional, Dropout\n",
    "from sklearn.model_selection import train_test_split\n",
    "from keras.callbacks import EarlyStopping, ModelCheckpoint\n",
    "\n",
    "import numpy as np\n",
    "import pandas as pd\n",
    "import matplotlib.pyplot as plt\n",
    "# Packages for modeling\n",
    "from keras import models\n",
    "from keras import layers\n",
    "from keras import regularizers"
   ]
  },
  {
   "cell_type": "code",
   "execution_count": 3,
   "id": "0c5ac870",
   "metadata": {},
   "outputs": [],
   "source": [
    "train_data, train_labels = load_modeling_data()"
   ]
  },
  {
   "cell_type": "code",
   "execution_count": 4,
   "id": "76a48f44",
   "metadata": {},
   "outputs": [],
   "source": [
    "train_data['text'] = train_data['text'].apply(advanced_data_cleaning)\n",
    "# dict_val = {'negative': 0, 'neutral': 1, 'positive': 2}\n",
    "# train_labels['target'] = train_labels['target'].apply(lambda x: dict_val[x])"
   ]
  },
  {
   "cell_type": "code",
   "execution_count": 5,
   "id": "21759188",
   "metadata": {},
   "outputs": [],
   "source": [
    "X_train, X_valid, y_train, y_valid = train_test_split(train_data, train_labels, test_size=0.2,random_state=10)"
   ]
  },
  {
   "cell_type": "code",
   "execution_count": 6,
   "id": "48cb6876",
   "metadata": {},
   "outputs": [],
   "source": [
    "length = [len(i) for i in train_data['text']]"
   ]
  },
  {
   "cell_type": "code",
   "execution_count": 7,
   "id": "920ffce9",
   "metadata": {},
   "outputs": [
    {
     "name": "stdout",
     "output_type": "stream",
     "text": [
      "The Average sentence length is 85.40232216340502\n",
      "The Standard Deviation is 44\n",
      "160.0\n"
     ]
    }
   ],
   "source": [
    "print(\"The Average sentence length is\", np.mean(length))\n",
    "print(\"The Standard Deviation is\", round(np.std(length)))\n",
    "print(np.percentile(length, 95))"
   ]
  },
  {
   "cell_type": "code",
   "execution_count": 8,
   "id": "bc1b9834",
   "metadata": {},
   "outputs": [],
   "source": [
    "# Creating Word Embeddings\n",
    "NB_WORDS = 10000  # Parameter indicating the number of words we'll put in the dictionary"
   ]
  },
  {
   "cell_type": "code",
   "execution_count": 9,
   "id": "976087f0",
   "metadata": {},
   "outputs": [],
   "source": [
    "from keras_preprocessing.text import Tokenizer\n",
    "from keras_preprocessing.sequence import pad_sequences"
   ]
  },
  {
   "cell_type": "code",
   "execution_count": 10,
   "id": "9461a51e",
   "metadata": {},
   "outputs": [],
   "source": [
    "tk = Tokenizer(num_words=NB_WORDS,lower=True,split=\" \")"
   ]
  },
  {
   "cell_type": "code",
   "execution_count": 11,
   "id": "58c61c99",
   "metadata": {},
   "outputs": [],
   "source": [
    "full_df = pd.concat([X_train['text'], X_valid['text']], axis = 0)\n",
    "tk.fit_on_texts(full_df)"
   ]
  },
  {
   "cell_type": "code",
   "execution_count": 12,
   "id": "b53ccb23",
   "metadata": {},
   "outputs": [],
   "source": [
    "X_train_seq = tk.texts_to_sequences(X_train['text'])"
   ]
  },
  {
   "cell_type": "code",
   "execution_count": 13,
   "id": "6ce5bcee",
   "metadata": {},
   "outputs": [],
   "source": [
    "X_valid_seq = tk.texts_to_sequences(X_valid['text'])\n"
   ]
  },
  {
   "cell_type": "code",
   "execution_count": 14,
   "id": "0a6080e8",
   "metadata": {},
   "outputs": [
    {
     "data": {
      "text/plain": [
       "count    832258.000000\n",
       "mean         15.093540\n",
       "std           7.847509\n",
       "min           1.000000\n",
       "25%           9.000000\n",
       "50%          14.000000\n",
       "75%          21.000000\n",
       "max         116.000000\n",
       "Name: text, dtype: float64"
      ]
     },
     "execution_count": 14,
     "metadata": {},
     "output_type": "execute_result"
    }
   ],
   "source": [
    "seq_lengths = X_train['text'].apply(lambda x: len(x.split(' ')))\n",
    "seq_lengths.describe()"
   ]
  },
  {
   "cell_type": "code",
   "execution_count": 15,
   "id": "3f82f603",
   "metadata": {},
   "outputs": [
    {
     "data": {
      "text/plain": [
       "29.0"
      ]
     },
     "execution_count": 15,
     "metadata": {},
     "output_type": "execute_result"
    }
   ],
   "source": [
    "np.percentile(seq_lengths, 95)"
   ]
  },
  {
   "cell_type": "code",
   "execution_count": 16,
   "id": "c6414bb4",
   "metadata": {},
   "outputs": [],
   "source": [
    "X_train_seq_trunc = pad_sequences(X_train_seq, maxlen=30)\n",
    "X_valid_seq_trunc = pad_sequences(X_valid_seq, maxlen=30)"
   ]
  },
  {
   "cell_type": "code",
   "execution_count": 17,
   "id": "7089751b",
   "metadata": {},
   "outputs": [],
   "source": [
    "corpus=full_df.values\n",
    "corpus = [x.split() for x in corpus]"
   ]
  },
  {
   "cell_type": "code",
   "execution_count": 18,
   "id": "d5a273e0",
   "metadata": {},
   "outputs": [
    {
     "name": "stdout",
     "output_type": "stream",
     "text": [
      "Model Training Started...\n"
     ]
    }
   ],
   "source": [
    "from gensim.models import Word2Vec\n",
    "print(\"Model Training Started...\")\n",
    "model = Word2Vec(sentences=corpus, vector_size=100, window=4, min_count=1, workers=4)"
   ]
  },
  {
   "cell_type": "code",
   "execution_count": 19,
   "id": "e7d3b058",
   "metadata": {},
   "outputs": [
    {
     "name": "stdout",
     "output_type": "stream",
     "text": [
      "Total number of unique words loaded in Model :  440612\n"
     ]
    }
   ],
   "source": [
    "print(\"Total number of unique words loaded in Model : \", len(model.wv))\n",
    "# model.wv.most_similar('laptop', topn=10)\n",
    "model.save(\"word2vec-training.model\")\n"
   ]
  },
  {
   "cell_type": "code",
   "execution_count": 20,
   "id": "5ad5b762",
   "metadata": {},
   "outputs": [
    {
     "data": {
      "text/plain": [
       "(10000, 100)"
      ]
     },
     "execution_count": 20,
     "metadata": {},
     "output_type": "execute_result"
    }
   ],
   "source": [
    "vector_size = 100\n",
    "gensim_weight_matrix = np.zeros((NB_WORDS ,vector_size))\n",
    "gensim_weight_matrix.shape"
   ]
  },
  {
   "cell_type": "code",
   "execution_count": 21,
   "id": "e58497c5",
   "metadata": {},
   "outputs": [],
   "source": [
    "for word, index in tk.word_index.items():\n",
    "    if index < NB_WORDS: # since index starts with zero \n",
    "        if word in model.wv:\n",
    "            gensim_weight_matrix[index] = model.wv[word]\n",
    "        else:\n",
    "            gensim_weight_matrix[index] = np.zeros(100)"
   ]
  },
  {
   "cell_type": "code",
   "execution_count": 22,
   "id": "915ccaf4",
   "metadata": {},
   "outputs": [],
   "source": [
    "from sklearn.preprocessing import LabelEncoder\n",
    "from keras.utils.np_utils import to_categorical"
   ]
  },
  {
   "cell_type": "code",
   "execution_count": 23,
   "id": "11852ebe",
   "metadata": {},
   "outputs": [],
   "source": [
    "le = LabelEncoder()\n",
    "y_train_le = le.fit_transform(y_train['target'])\n",
    "y_valid_le = le.transform(y_valid['target'])\n",
    "y_train_oh = to_categorical(y_train_le)\n",
    "y_valid_oh = to_categorical(y_valid_le)"
   ]
  },
  {
   "cell_type": "code",
   "execution_count": 24,
   "id": "77ed2594",
   "metadata": {},
   "outputs": [],
   "source": [
    "vocab_size = len(tk.word_index) + 1\n"
   ]
  },
  {
   "cell_type": "code",
   "execution_count": 25,
   "id": "921bcba8",
   "metadata": {},
   "outputs": [
    {
     "name": "stdout",
     "output_type": "stream",
     "text": [
      "Metal device set to: Apple M1\n"
     ]
    },
    {
     "name": "stderr",
     "output_type": "stream",
     "text": [
      "2022-12-18 23:05:11.162030: I tensorflow/core/common_runtime/pluggable_device/pluggable_device_factory.cc:306] Could not identify NUMA node of platform GPU ID 0, defaulting to 0. Your kernel may not have been built with NUMA support.\n",
      "2022-12-18 23:05:11.162706: I tensorflow/core/common_runtime/pluggable_device/pluggable_device_factory.cc:272] Created TensorFlow device (/job:localhost/replica:0/task:0/device:GPU:0 with 0 MB memory) -> physical PluggableDevice (device: 0, name: METAL, pci bus id: <undefined>)\n"
     ]
    },
    {
     "name": "stdout",
     "output_type": "stream",
     "text": [
      "Model: \"sequential\"\n",
      "_________________________________________________________________\n",
      " Layer (type)                Output Shape              Param #   \n",
      "=================================================================\n",
      " embedding (Embedding)       (None, 30, 100)           1000000   \n",
      "                                                                 \n",
      " bidirectional (Bidirectiona  (None, 30, 128)          84480     \n",
      " l)                                                              \n",
      "                                                                 \n",
      " dropout (Dropout)           (None, 30, 128)           0         \n",
      "                                                                 \n",
      " bidirectional_1 (Bidirectio  (None, 64)               41216     \n",
      " nal)                                                            \n",
      "                                                                 \n",
      " dropout_1 (Dropout)         (None, 64)                0         \n",
      "                                                                 \n",
      " dense (Dense)               (None, 64)                4160      \n",
      "                                                                 \n",
      " dropout_2 (Dropout)         (None, 64)                0         \n",
      "                                                                 \n",
      " dense_1 (Dense)             (None, 3)                 195       \n",
      "                                                                 \n",
      "=================================================================\n",
      "Total params: 1,130,051\n",
      "Trainable params: 130,051\n",
      "Non-trainable params: 1,000,000\n",
      "_________________________________________________________________\n"
     ]
    }
   ],
   "source": [
    "emb_model = models.Sequential()\n",
    "# emb_model.add(layers.Embedding(vocab_size, 64, input_length=30))\n",
    "# emb_model.add(LSTM(176, dropout=0.2, recurrent_dropout=0.2))\n",
    "# emb_model.add(layers.Flatten())\n",
    "# emb_model.add(layers.Dense(3, activation='softmax'))\n",
    "\n",
    "emb_model.add(Embedding(input_dim = NB_WORDS,\n",
    " output_dim = 100,\n",
    " input_length= X_train_seq_trunc.shape[1],\n",
    " weights = [gensim_weight_matrix],trainable = False))\n",
    "\n",
    "# emb_model.add(Embedding(vocab_size, 64, input_length=30))\n",
    "emb_model.add(Bidirectional(LSTM(64, return_sequences=True, input_shape=(None, 1))))\n",
    "emb_model.add(Dropout(0.2))\n",
    "emb_model.add(Bidirectional(LSTM(32)))\n",
    "emb_model.add(Dropout(0.2))\n",
    "emb_model.add(Dense(64, activation='relu'))\n",
    "emb_model.add(Dropout(0.1))\n",
    "emb_model.add(Dense(3, activation='softmax'))\n",
    "emb_model.summary()\n"
   ]
  },
  {
   "cell_type": "code",
   "execution_count": 26,
   "id": "35123119",
   "metadata": {},
   "outputs": [],
   "source": [
    "def deep_model(model, X_train, y_train, X_valid, y_valid):\n",
    "    '''\n",
    "    Function to train a multi-class model. The number of epochs and \n",
    "    batch_size are set by the constants at the top of the\n",
    "    notebook. \n",
    "    \n",
    "    Parameters:\n",
    "        model : model with the chosen architecture\n",
    "        X_train : training features\n",
    "        y_train : training target\n",
    "        X_valid : validation features\n",
    "        Y_valid : validation target\n",
    "    Output:\n",
    "        model training history\n",
    "    '''\n",
    "    model.compile(optimizer='adam'\n",
    "                  , loss='categorical_crossentropy'\n",
    "                  , metrics=['accuracy'])\n",
    "    es = EarlyStopping(monitor='val_loss', mode='min', verbose=1, patience=5)\n",
    "    mc = ModelCheckpoint('best_lstm_checkpoint.h5', monitor='val_accuracy', mode='max', verbose=1, save_best_only=True)\n",
    "    history = model.fit(X_train\n",
    "                       , y_train\n",
    "                       , epochs=NB_START_EPOCHS\n",
    "                       , batch_size=BATCH_SIZE\n",
    "                       , validation_data=(X_valid, y_valid),\n",
    "                       callbacks=[es])\n",
    "    return history"
   ]
  },
  {
   "cell_type": "code",
   "execution_count": 27,
   "id": "7e12d73a",
   "metadata": {},
   "outputs": [],
   "source": [
    "NB_START_EPOCHS = 100\n",
    "BATCH_SIZE = 512"
   ]
  },
  {
   "cell_type": "code",
   "execution_count": 28,
   "id": "e7556e00",
   "metadata": {},
   "outputs": [
    {
     "name": "stdout",
     "output_type": "stream",
     "text": [
      "Epoch 1/100\n"
     ]
    },
    {
     "name": "stderr",
     "output_type": "stream",
     "text": [
      "2022-12-18 23:05:14.759547: W tensorflow/core/platform/profile_utils/cpu_utils.cc:128] Failed to get CPU frequency: 0 Hz\n",
      "2022-12-18 23:05:16.366029: I tensorflow/core/grappler/optimizers/custom_graph_optimizer_registry.cc:114] Plugin optimizer for device_type GPU is enabled.\n",
      "2022-12-18 23:05:16.800705: I tensorflow/core/grappler/optimizers/custom_graph_optimizer_registry.cc:114] Plugin optimizer for device_type GPU is enabled.\n",
      "2022-12-18 23:05:16.818885: I tensorflow/core/grappler/optimizers/custom_graph_optimizer_registry.cc:114] Plugin optimizer for device_type GPU is enabled.\n",
      "2022-12-18 23:05:17.244574: I tensorflow/core/grappler/optimizers/custom_graph_optimizer_registry.cc:114] Plugin optimizer for device_type GPU is enabled.\n",
      "2022-12-18 23:05:17.262659: I tensorflow/core/grappler/optimizers/custom_graph_optimizer_registry.cc:114] Plugin optimizer for device_type GPU is enabled.\n",
      "2022-12-18 23:05:17.953134: I tensorflow/core/grappler/optimizers/custom_graph_optimizer_registry.cc:114] Plugin optimizer for device_type GPU is enabled.\n",
      "2022-12-18 23:05:17.977942: I tensorflow/core/grappler/optimizers/custom_graph_optimizer_registry.cc:114] Plugin optimizer for device_type GPU is enabled.\n",
      "2022-12-18 23:05:18.328812: I tensorflow/core/grappler/optimizers/custom_graph_optimizer_registry.cc:114] Plugin optimizer for device_type GPU is enabled.\n",
      "2022-12-18 23:05:18.357937: I tensorflow/core/grappler/optimizers/custom_graph_optimizer_registry.cc:114] Plugin optimizer for device_type GPU is enabled.\n"
     ]
    },
    {
     "name": "stdout",
     "output_type": "stream",
     "text": [
      "1626/1626 [==============================] - ETA: 0s - loss: 0.4437 - accuracy: 0.7924"
     ]
    },
    {
     "name": "stderr",
     "output_type": "stream",
     "text": [
      "2022-12-18 23:06:58.882005: I tensorflow/core/grappler/optimizers/custom_graph_optimizer_registry.cc:114] Plugin optimizer for device_type GPU is enabled.\n",
      "2022-12-18 23:06:59.054925: I tensorflow/core/grappler/optimizers/custom_graph_optimizer_registry.cc:114] Plugin optimizer for device_type GPU is enabled.\n",
      "2022-12-18 23:06:59.071408: I tensorflow/core/grappler/optimizers/custom_graph_optimizer_registry.cc:114] Plugin optimizer for device_type GPU is enabled.\n",
      "2022-12-18 23:06:59.257718: I tensorflow/core/grappler/optimizers/custom_graph_optimizer_registry.cc:114] Plugin optimizer for device_type GPU is enabled.\n",
      "2022-12-18 23:06:59.272432: I tensorflow/core/grappler/optimizers/custom_graph_optimizer_registry.cc:114] Plugin optimizer for device_type GPU is enabled.\n"
     ]
    },
    {
     "name": "stdout",
     "output_type": "stream",
     "text": [
      "1626/1626 [==============================] - 117s 70ms/step - loss: 0.4437 - accuracy: 0.7924 - val_loss: 0.4082 - val_accuracy: 0.8121\n",
      "Epoch 2/100\n",
      "1626/1626 [==============================] - 116s 72ms/step - loss: 0.4000 - accuracy: 0.8183 - val_loss: 0.3921 - val_accuracy: 0.8236\n",
      "Epoch 3/100\n",
      "1626/1626 [==============================] - 120s 74ms/step - loss: 0.3853 - accuracy: 0.8263 - val_loss: 0.3824 - val_accuracy: 0.8278\n",
      "Epoch 4/100\n",
      "1626/1626 [==============================] - 112s 69ms/step - loss: 0.3755 - accuracy: 0.8314 - val_loss: 0.3785 - val_accuracy: 0.8307\n",
      "Epoch 5/100\n",
      "1626/1626 [==============================] - 119s 73ms/step - loss: 0.3682 - accuracy: 0.8353 - val_loss: 0.3725 - val_accuracy: 0.8332\n",
      "Epoch 6/100\n",
      "1626/1626 [==============================] - 109s 67ms/step - loss: 0.3620 - accuracy: 0.8384 - val_loss: 0.3733 - val_accuracy: 0.8333\n",
      "Epoch 7/100\n",
      "1626/1626 [==============================] - 109s 67ms/step - loss: 0.3566 - accuracy: 0.8411 - val_loss: 0.3718 - val_accuracy: 0.8334\n",
      "Epoch 8/100\n",
      "1626/1626 [==============================] - 110s 68ms/step - loss: 0.3517 - accuracy: 0.8439 - val_loss: 0.3711 - val_accuracy: 0.8349\n",
      "Epoch 9/100\n",
      "1626/1626 [==============================] - 114s 70ms/step - loss: 0.3474 - accuracy: 0.8460 - val_loss: 0.3702 - val_accuracy: 0.8346\n",
      "Epoch 10/100\n",
      "1626/1626 [==============================] - 110s 67ms/step - loss: 0.3432 - accuracy: 0.8482 - val_loss: 0.3698 - val_accuracy: 0.8351\n",
      "Epoch 11/100\n",
      "1626/1626 [==============================] - 112s 69ms/step - loss: 0.3393 - accuracy: 0.8502 - val_loss: 0.3732 - val_accuracy: 0.8345\n",
      "Epoch 12/100\n",
      "1626/1626 [==============================] - 113s 70ms/step - loss: 0.3355 - accuracy: 0.8520 - val_loss: 0.3742 - val_accuracy: 0.8343\n",
      "Epoch 13/100\n",
      "1626/1626 [==============================] - 116s 71ms/step - loss: 0.3323 - accuracy: 0.8536 - val_loss: 0.3749 - val_accuracy: 0.8329\n",
      "Epoch 14/100\n",
      "1626/1626 [==============================] - 111s 68ms/step - loss: 0.3289 - accuracy: 0.8555 - val_loss: 0.3759 - val_accuracy: 0.8336\n",
      "Epoch 15/100\n",
      "1626/1626 [==============================] - 111s 68ms/step - loss: 0.3257 - accuracy: 0.8571 - val_loss: 0.3767 - val_accuracy: 0.8336\n",
      "Epoch 15: early stopping\n"
     ]
    }
   ],
   "source": [
    "emb_history = deep_model(emb_model, X_train_seq_trunc, y_train_oh, X_valid_seq_trunc, y_valid_oh)\n",
    "# emb_history.history['val_acc'][-1]"
   ]
  },
  {
   "cell_type": "code",
   "execution_count": 29,
   "id": "0c63e8c2",
   "metadata": {},
   "outputs": [
    {
     "data": {
      "text/plain": [
       "0.8335520625114441"
      ]
     },
     "execution_count": 29,
     "metadata": {},
     "output_type": "execute_result"
    }
   ],
   "source": [
    "emb_history.history['val_accuracy'][-1]"
   ]
  },
  {
   "cell_type": "code",
   "execution_count": 30,
   "id": "d3985ef3",
   "metadata": {},
   "outputs": [],
   "source": [
    "import seaborn as sns\n",
    "sns.set_theme(context=\"notebook\", palette=(\"deep\"))"
   ]
  },
  {
   "cell_type": "code",
   "execution_count": 31,
   "id": "e5465c8a",
   "metadata": {},
   "outputs": [],
   "source": [
    "def eval_metric(history, metric_name):\n",
    "    '''\n",
    "    Function to evaluate a trained model on a chosen metric. \n",
    "    Training and validation metric are plotted in a\n",
    "    line chart for each epoch.\n",
    "    \n",
    "    Parameters:\n",
    "        history : model training history\n",
    "        metric_name : loss or accuracy\n",
    "    Output:\n",
    "        line chart with epochs of x-axis and metric on\n",
    "        y-axis\n",
    "    '''\n",
    "    metric = history.history[metric_name]\n",
    "    val_metric = history.history['val_' + metric_name]\n",
    "\n",
    "    e = range(1, len(emb_history.history['val_accuracy'])+1)\n",
    "\n",
    "    plt.plot(e, metric, 'bo', label='Train ' + metric_name)\n",
    "    plt.plot(e, val_metric, 'b', label='Validation ' + metric_name)\n",
    "    plt.title('Training '+metric_name+' vs validation '+metric_name)\n",
    "    plt.ylabel(metric_name)\n",
    "    plt.xlabel('Epoch')\n",
    "    plt.legend()\n",
    "    plt.show()"
   ]
  },
  {
   "cell_type": "code",
   "execution_count": 32,
   "id": "79e00c47",
   "metadata": {},
   "outputs": [
    {
     "data": {
      "image/png": "[encoded data removed]",
      "text/plain": [
       "<Figure size 640x480 with 1 Axes>"
      ]
     },
     "metadata": {},
     "output_type": "display_data"
    }
   ],
   "source": [
    "eval_metric(emb_history, 'accuracy')\n"
   ]
  },
  {
   "cell_type": "code",
   "execution_count": 33,
   "id": "ee579446",
   "metadata": {},
   "outputs": [
    {
     "data": {
      "image/png": "[encoded data removed]",
      "text/plain": [
       "<Figure size 640x480 with 1 Axes>"
      ]
     },
     "metadata": {},
     "output_type": "display_data"
    }
   ],
   "source": [
    "eval_metric(emb_history, 'loss')"
   ]
  },
  {
   "cell_type": "code",
   "execution_count": null,
   "id": "35711ade",
   "metadata": {},
   "outputs": [],
   "source": []
  }
 ],
 "metadata": {
  "kernelspec": {
   "display_name": "Python 3 (ipykernel)",
   "language": "python",
   "name": "python3"
  },
  "language_info": {
   "codemirror_mode": {
    "name": "ipython",
    "version": 3
   },
   "file_extension": ".py",
   "mimetype": "text/x-python",
   "name": "python",
   "nbconvert_exporter": "python",
   "pygments_lexer": "ipython3",
   "version": "3.8.13"
  }
 },
 "nbformat": 4,
 "nbformat_minor": 5
}
