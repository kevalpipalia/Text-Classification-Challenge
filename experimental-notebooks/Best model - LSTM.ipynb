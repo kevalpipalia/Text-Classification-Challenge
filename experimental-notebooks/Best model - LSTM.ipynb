{
 "cells": [
  {
   "cell_type": "code",
   "execution_count": 2,
   "id": "07419275",
   "metadata": {},
   "outputs": [],
   "source": [
    "from utilities.data_loader import load_modeling_data, load_testing_data\n",
    "from utilities.text_cleaner import advanced_data_cleaning"
   ]
  },
  {
   "cell_type": "code",
   "execution_count": 28,
   "id": "2d432a00",
   "metadata": {},
   "outputs": [],
   "source": [
    "from keras.models import Sequential\n",
    "from keras.layers import Embedding\n",
    "from sklearn.model_selection import train_test_split\n",
    "import numpy as np\n",
    "import matplotlib.pyplot as plt\n",
    "# Packages for modeling\n",
    "from keras import models\n",
    "from keras import layers\n",
    "from keras import regularizers\n",
    "from keras_preprocessing.text import Tokenizer\n",
    "from keras_preprocessing.sequence import pad_sequences\n",
    "from sklearn.preprocessing import LabelEncoder\n",
    "from keras.utils.np_utils import to_categorical\n",
    "from keras.layers import LSTM, Bidirectional\n",
    "from keras.layers.core import Dropout, Dense\n"
   ]
  },
  {
   "cell_type": "code",
   "execution_count": 12,
   "id": "af6e97cd",
   "metadata": {},
   "outputs": [],
   "source": [
    "train_data, train_labels = load_modeling_data()"
   ]
  },
  {
   "cell_type": "code",
   "execution_count": 13,
   "id": "5e3f19f6",
   "metadata": {},
   "outputs": [],
   "source": [
    "train_data['text'] = train_data['text'].apply(advanced_data_cleaning)\n"
   ]
  },
  {
   "cell_type": "code",
   "execution_count": 14,
   "id": "cf1a6bb8",
   "metadata": {},
   "outputs": [],
   "source": [
    "X_train, X_valid, y_train, y_valid = train_test_split(train_data, train_labels, test_size=0.2,random_state=10)"
   ]
  },
  {
   "cell_type": "code",
   "execution_count": 15,
   "id": "1ae7d0a8",
   "metadata": {},
   "outputs": [],
   "source": [
    "NB_WORDS = 100000  # Parameter indicating the number of words we'll put in the dictionary"
   ]
  },
  {
   "cell_type": "code",
   "execution_count": 16,
   "id": "4ccc7918",
   "metadata": {},
   "outputs": [],
   "source": [
    "tk = Tokenizer(num_words=NB_WORDS,lower=True,split=\" \")"
   ]
  },
  {
   "cell_type": "code",
   "execution_count": 17,
   "id": "9b0dbd6f",
   "metadata": {},
   "outputs": [],
   "source": [
    "tk.fit_on_texts(X_train['text'])"
   ]
  },
  {
   "cell_type": "code",
   "execution_count": 18,
   "id": "4f436b19",
   "metadata": {},
   "outputs": [],
   "source": [
    "X_train_seq = tk.texts_to_sequences(X_train['text'])"
   ]
  },
  {
   "cell_type": "code",
   "execution_count": 19,
   "id": "4f1a64c1",
   "metadata": {},
   "outputs": [],
   "source": [
    "X_valid_seq = tk.texts_to_sequences(X_valid['text'])\n"
   ]
  },
  {
   "cell_type": "code",
   "execution_count": 20,
   "id": "59855f5f",
   "metadata": {},
   "outputs": [
    {
     "data": {
      "text/plain": [
       "count    832258.000000\n",
       "mean         15.226998\n",
       "std           7.956418\n",
       "min           1.000000\n",
       "25%           9.000000\n",
       "50%          14.000000\n",
       "75%          21.000000\n",
       "max         116.000000\n",
       "Name: text, dtype: float64"
      ]
     },
     "execution_count": 20,
     "metadata": {},
     "output_type": "execute_result"
    }
   ],
   "source": [
    "seq_lengths = X_train['text'].apply(lambda x: len(x.split(' ')))\n",
    "seq_lengths.describe()"
   ]
  },
  {
   "cell_type": "code",
   "execution_count": 21,
   "id": "6c185f98",
   "metadata": {},
   "outputs": [],
   "source": [
    "X_train_seq_trunc = pad_sequences(X_train_seq, maxlen=30)\n",
    "X_valid_seq_trunc = pad_sequences(X_valid_seq, maxlen=30)"
   ]
  },
  {
   "cell_type": "code",
   "execution_count": 23,
   "id": "a3b8aa98",
   "metadata": {},
   "outputs": [],
   "source": [
    "le = LabelEncoder()\n",
    "y_train_le = le.fit_transform(y_train['target'])\n",
    "y_valid_le = le.transform(y_valid['target'])\n",
    "y_train_oh = to_categorical(y_train_le)\n",
    "y_valid_oh = to_categorical(y_valid_le)"
   ]
  },
  {
   "cell_type": "code",
   "execution_count": 29,
   "id": "a8c05931",
   "metadata": {},
   "outputs": [],
   "source": [
    "model = Sequential()\n",
    "model.add(Embedding(NB_WORDS, 200, input_length=30))\n",
    "model.add(Bidirectional(LSTM(64)))\n",
    "model.add(Dropout(0.5))\n",
    "model.add(Dense(3, activation='softmax'))"
   ]
  },
  {
   "cell_type": "code",
   "execution_count": 30,
   "id": "e01bcf0f",
   "metadata": {},
   "outputs": [],
   "source": [
    "def deep_model(model, X_train, y_train, X_valid, y_valid):\n",
    "    '''\n",
    "    Function to train a multi-class model. The number of epochs and \n",
    "    batch_size are set by the constants at the top of the\n",
    "    notebook. \n",
    "    \n",
    "    Parameters:\n",
    "        model : model with the chosen architecture\n",
    "        X_train : training features\n",
    "        y_train : training target\n",
    "        X_valid : validation features\n",
    "        Y_valid : validation target\n",
    "    Output:\n",
    "        model training history\n",
    "    '''\n",
    "    model.compile(optimizer='rmsprop'\n",
    "                  , loss='categorical_crossentropy'\n",
    "                  , metrics=['accuracy'])\n",
    "    \n",
    "    history = model.fit(X_train\n",
    "                       , y_train\n",
    "                       , epochs=NB_START_EPOCHS\n",
    "                       , batch_size=BATCH_SIZE\n",
    "                       , validation_data=(X_valid, y_valid)\n",
    "                       , verbose=0)\n",
    "    return history"
   ]
  },
  {
   "cell_type": "code",
   "execution_count": 31,
   "id": "a9a0fcdc",
   "metadata": {},
   "outputs": [],
   "source": [
    "NB_START_EPOCHS = 10\n",
    "BATCH_SIZE = 512"
   ]
  },
  {
   "cell_type": "code",
   "execution_count": 32,
   "id": "646a3077",
   "metadata": {},
   "outputs": [
    {
     "name": "stderr",
     "output_type": "stream",
     "text": [
      "2022-12-03 00:10:34.568878: W tensorflow/core/platform/profile_utils/cpu_utils.cc:128] Failed to get CPU frequency: 0 Hz\n",
      "2022-12-03 00:10:35.849345: I tensorflow/core/grappler/optimizers/custom_graph_optimizer_registry.cc:114] Plugin optimizer for device_type GPU is enabled.\n",
      "2022-12-03 00:10:36.412962: I tensorflow/core/grappler/optimizers/custom_graph_optimizer_registry.cc:114] Plugin optimizer for device_type GPU is enabled.\n",
      "2022-12-03 00:10:36.455251: I tensorflow/core/grappler/optimizers/custom_graph_optimizer_registry.cc:114] Plugin optimizer for device_type GPU is enabled.\n",
      "2022-12-03 00:10:39.224598: I tensorflow/core/grappler/optimizers/custom_graph_optimizer_registry.cc:114] Plugin optimizer for device_type GPU is enabled.\n",
      "2022-12-03 00:10:39.265373: I tensorflow/core/grappler/optimizers/custom_graph_optimizer_registry.cc:114] Plugin optimizer for device_type GPU is enabled.\n",
      "2022-12-03 00:14:56.352830: I tensorflow/core/grappler/optimizers/custom_graph_optimizer_registry.cc:114] Plugin optimizer for device_type GPU is enabled.\n",
      "2022-12-03 00:14:56.533829: I tensorflow/core/grappler/optimizers/custom_graph_optimizer_registry.cc:114] Plugin optimizer for device_type GPU is enabled.\n",
      "2022-12-03 00:14:56.551306: I tensorflow/core/grappler/optimizers/custom_graph_optimizer_registry.cc:114] Plugin optimizer for device_type GPU is enabled.\n"
     ]
    }
   ],
   "source": [
    "lstm_history = deep_model(model, X_train_seq_trunc, y_train_oh, X_valid_seq_trunc, y_valid_oh)\n"
   ]
  },
  {
   "cell_type": "code",
   "execution_count": 34,
   "id": "e194fb70",
   "metadata": {},
   "outputs": [
    {
     "data": {
      "text/plain": [
       "0.8197102546691895"
      ]
     },
     "execution_count": 34,
     "metadata": {},
     "output_type": "execute_result"
    }
   ],
   "source": [
    "lstm_history.history['val_accuracy'][-1]"
   ]
  },
  {
   "cell_type": "code",
   "execution_count": 35,
   "id": "e45781c1",
   "metadata": {},
   "outputs": [],
   "source": [
    "def eval_metric(history, metric_name):\n",
    "    '''\n",
    "    Function to evaluate a trained model on a chosen metric. \n",
    "    Training and validation metric are plotted in a\n",
    "    line chart for each epoch.\n",
    "    \n",
    "    Parameters:\n",
    "        history : model training history\n",
    "        metric_name : loss or accuracy\n",
    "    Output:\n",
    "        line chart with epochs of x-axis and metric on\n",
    "        y-axis\n",
    "    '''\n",
    "    metric = history.history[metric_name]\n",
    "    val_metric = history.history['val_' + metric_name]\n",
    "\n",
    "    e = range(1, NB_START_EPOCHS + 1)\n",
    "\n",
    "    plt.plot(e, metric, 'bo', label='Train ' + metric_name)\n",
    "    plt.plot(e, val_metric, 'b', label='Validation ' + metric_name)\n",
    "    plt.legend()\n",
    "    plt.show()"
   ]
  },
  {
   "cell_type": "code",
   "execution_count": 36,
   "id": "29a8266e",
   "metadata": {},
   "outputs": [
    {
     "data": {
      "image/png": "[encoded data removed]",
      "text/plain": [
       "<Figure size 640x480 with 1 Axes>"
      ]
     },
     "metadata": {},
     "output_type": "display_data"
    }
   ],
   "source": [
    "eval_metric(lstm_history, 'accuracy')\n"
   ]
  },
  {
   "cell_type": "code",
   "execution_count": 37,
   "id": "0b43c442",
   "metadata": {},
   "outputs": [
    {
     "data": {
      "image/png": "[encoded data removed]",
      "text/plain": [
       "<Figure size 640x480 with 1 Axes>"
      ]
     },
     "metadata": {},
     "output_type": "display_data"
    }
   ],
   "source": [
    "eval_metric(lstm_history, 'loss')"
   ]
  },
  {
   "cell_type": "code",
   "execution_count": null,
   "id": "40b8ce3e",
   "metadata": {},
   "outputs": [],
   "source": []
  }
 ],
 "metadata": {
  "kernelspec": {
   "display_name": "Python 3 (ipykernel)",
   "language": "python",
   "name": "python3"
  },
  "language_info": {
   "codemirror_mode": {
    "name": "ipython",
    "version": 3
   },
   "file_extension": ".py",
   "mimetype": "text/x-python",
   "name": "python",
   "nbconvert_exporter": "python",
   "pygments_lexer": "ipython3",
   "version": "3.8.13"
  }
 },
 "nbformat": 4,
 "nbformat_minor": 5
}
