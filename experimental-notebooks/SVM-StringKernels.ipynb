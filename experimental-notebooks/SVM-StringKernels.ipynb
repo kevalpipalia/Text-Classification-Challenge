{
 "cells": [
  {
   "cell_type": "code",
   "execution_count": 1,
   "id": "6762ec70",
   "metadata": {},
   "outputs": [],
   "source": [
    "# For String Kernels we will be using custom trained Worrd2Vec Embeddings."
   ]
  },
  {
   "cell_type": "code",
   "execution_count": 2,
   "id": "a30dacc7",
   "metadata": {},
   "outputs": [],
   "source": [
    "from utilities.data_loader import load_modeling_data, load_testing_data\n",
    "from utilities.text_cleaner import advanced_data_cleaning\n",
    "from gensim.models import Word2Vec\n",
    "from sklearn.model_selection import train_test_split\n",
    "from sklearn.svm import LinearSVC\n",
    "from sklearn.calibration import CalibratedClassifierCV\n",
    "from sklearn.metrics import accuracy_score\n",
    "from keras_preprocessing.text import Tokenizer\n",
    "from keras_preprocessing.sequence import pad_sequences\n",
    "import numpy as np\n",
    "import pandas as pd\n",
    "from sklearn.preprocessing import LabelEncoder"
   ]
  },
  {
   "cell_type": "code",
   "execution_count": 3,
   "id": "0c3b9ced",
   "metadata": {},
   "outputs": [],
   "source": [
    "train_data, train_labels = load_modeling_data()"
   ]
  },
  {
   "cell_type": "code",
   "execution_count": 4,
   "id": "21759188",
   "metadata": {},
   "outputs": [],
   "source": [
    "X_train, X_valid, y_train, y_valid = train_test_split(train_data, train_labels, test_size=0.2,random_state=10)"
   ]
  },
  {
   "cell_type": "code",
   "execution_count": 5,
   "id": "75c79dd8",
   "metadata": {},
   "outputs": [],
   "source": [
    "le = LabelEncoder()\n",
    "y_train['target'] = le.fit_transform(y_train['target'])\n",
    "y_valid['target'] = le.transform(y_valid['target'])"
   ]
  },
  {
   "cell_type": "code",
   "execution_count": 6,
   "id": "48cb6876",
   "metadata": {},
   "outputs": [],
   "source": [
    "length = [len(i) for i in train_data['text']]"
   ]
  },
  {
   "cell_type": "code",
   "execution_count": 7,
   "id": "920ffce9",
   "metadata": {},
   "outputs": [
    {
     "name": "stdout",
     "output_type": "stream",
     "text": [
      "The Average sentence length is 74.12927907967045\n",
      "The Standard Deviation is 36\n",
      "136.0\n"
     ]
    }
   ],
   "source": [
    "print(\"The Average sentence length is\", np.mean(length))\n",
    "print(\"The Standard Deviation is\", round(np.std(length)))\n",
    "print(np.percentile(length, 95))"
   ]
  },
  {
   "cell_type": "code",
   "execution_count": 8,
   "id": "bc1b9834",
   "metadata": {},
   "outputs": [],
   "source": [
    "# Creating Word Embeddings\n",
    "NB_WORDS = 10000  # Parameter indicating the number of words we'll put in the dictionary"
   ]
  },
  {
   "cell_type": "code",
   "execution_count": 9,
   "id": "f34c2913",
   "metadata": {},
   "outputs": [],
   "source": [
    "full_df = pd.concat([X_train['text'], X_valid['text']], axis = 0)"
   ]
  },
  {
   "cell_type": "code",
   "execution_count": 10,
   "id": "540ffdf7",
   "metadata": {},
   "outputs": [],
   "source": [
    "corpus=full_df.values\n",
    "corpus = [x.split() for x in corpus]"
   ]
  },
  {
   "cell_type": "code",
   "execution_count": 11,
   "id": "6cf3b100",
   "metadata": {},
   "outputs": [
    {
     "name": "stdout",
     "output_type": "stream",
     "text": [
      "Model Training Started...\n"
     ]
    }
   ],
   "source": [
    "print(\"Model Training Started...\")\n",
    "model = Word2Vec(sentences=corpus, vector_size=10, window=1, min_count=1, workers=4)"
   ]
  },
  {
   "cell_type": "code",
   "execution_count": 12,
   "id": "0163535f",
   "metadata": {},
   "outputs": [
    {
     "name": "stdout",
     "output_type": "stream",
     "text": [
      "Total number of unique words loaded in Model :  990331\n"
     ]
    }
   ],
   "source": [
    "print(\"Total number of unique words loaded in Model : \", len(model.wv))\n",
    "# model.wv.most_similar('laptop', topn=10)\n",
    "model.save(\"word2vec-training.model\")"
   ]
  },
  {
   "cell_type": "code",
   "execution_count": 13,
   "id": "30ed0e4f",
   "metadata": {},
   "outputs": [],
   "source": [
    "tk = Tokenizer(num_words=NB_WORDS,lower=True,split=\" \")\n",
    "tk.fit_on_texts(full_df)"
   ]
  },
  {
   "cell_type": "code",
   "execution_count": 14,
   "id": "c0d11c03",
   "metadata": {},
   "outputs": [],
   "source": [
    "X_train_values = X_train['text'].values\n",
    "X_valid_values = X_valid['text'].values"
   ]
  },
  {
   "cell_type": "code",
   "execution_count": 15,
   "id": "910165e3",
   "metadata": {},
   "outputs": [],
   "source": [
    "train_embedding = []\n",
    "for item in X_train_values:\n",
    "    words = item.split()\n",
    "    emb = []\n",
    "    for word in words:\n",
    "        if word in model.wv:\n",
    "            emb.append(sum(abs(model.wv[word]))/len(model.wv[word]))\n",
    "        else:\n",
    "            emb.append(0)\n",
    "    train_embedding.append(emb)\n",
    "    \n",
    "valid_embedding = []\n",
    "for item in X_valid_values:\n",
    "    words = item.split()\n",
    "    emb = []\n",
    "    for word in words:\n",
    "        if word in model.wv:\n",
    "            emb.append(sum(abs(model.wv[word]))/len(model.wv[word]))\n",
    "        else:\n",
    "            emb.append(0)\n",
    "    valid_embedding.append(emb)"
   ]
  },
  {
   "cell_type": "code",
   "execution_count": 16,
   "id": "c4de4028",
   "metadata": {},
   "outputs": [],
   "source": [
    "X_train_seq_trunc = pad_sequences(train_embedding, maxlen=10)"
   ]
  },
  {
   "cell_type": "code",
   "execution_count": 17,
   "id": "de937524",
   "metadata": {},
   "outputs": [],
   "source": [
    "X_valid_seq_trunc = pad_sequences(valid_embedding, maxlen=10)"
   ]
  },
  {
   "cell_type": "code",
   "execution_count": 18,
   "id": "f1c0cdef",
   "metadata": {},
   "outputs": [],
   "source": [
    "svc_clf = CalibratedClassifierCV(base_estimator=LinearSVC(penalty='l2', dual=False), cv=3)\n",
    "svc_clf.fit(X_train_seq_trunc, y_train['target'].values)\n",
    "y_pred = svc_clf.predict(X_valid_seq_trunc)"
   ]
  },
  {
   "cell_type": "code",
   "execution_count": 19,
   "id": "ec9de183",
   "metadata": {},
   "outputs": [
    {
     "name": "stdout",
     "output_type": "stream",
     "text": [
      "0.548246942061375\n"
     ]
    }
   ],
   "source": [
    "print(accuracy_score(y_valid['target'].values, y_pred))"
   ]
  },
  {
   "cell_type": "code",
   "execution_count": null,
   "id": "15915135",
   "metadata": {},
   "outputs": [],
   "source": []
  }
 ],
 "metadata": {
  "kernelspec": {
   "display_name": "Python 3 (ipykernel)",
   "language": "python",
   "name": "python3"
  },
  "language_info": {
   "codemirror_mode": {
    "name": "ipython",
    "version": 3
   },
   "file_extension": ".py",
   "mimetype": "text/x-python",
   "name": "python",
   "nbconvert_exporter": "python",
   "pygments_lexer": "ipython3",
   "version": "3.8.13"
  }
 },
 "nbformat": 4,
 "nbformat_minor": 5
}
